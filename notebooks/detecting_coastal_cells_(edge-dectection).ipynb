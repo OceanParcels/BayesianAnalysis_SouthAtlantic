{
 "cells": [
  {
   "cell_type": "markdown",
   "metadata": {},
   "source": [
    "This is a notebook that explains how I create the landmask array, coastal cells array, border currents, and distance to shore array. Inspired by Victor's Beaching Kernel, Steffie's code review and some stuff that I did in my master's thesis. \n",
    "<div style=\"text-align: right\"> Claudio Pierard </div>\n",
    "\n",
    "\n",
    "> This notebook was used for developing the script `landmask.py` where everything is wrapped around functions with a brief documentation.\n",
    "\n",
    "TOC:\n",
    "1. [Import the velocity fields](#1.-Import-the-velocity-fields)\n",
    "2. [Make the land mask](#2.-Make-the-land-mask)\n",
    "3. [Detect the coast]( 3.-Detect-the-coast)\n",
    "4. [Assigning coastal velocities](#4.-Assigning-coastal-velocities)\n",
    "5. [Distance to shore](#5.-Distance-to-shore)\n",
    "6. [Saving in a .nc file](#6.-Saving-in-a-.nc-file)\n",
    "7. [Extra. Point Nemo](#Extra.-Point-Nemo)"
   ]
  },
  {
   "cell_type": "code",
   "execution_count": 1,
   "metadata": {},
   "outputs": [],
   "source": [
    "import matplotlib.pyplot as plt\n",
    "import numpy as np\n",
    "import numpy.ma as ma\n",
    "from netCDF4 import Dataset\n",
    "import cartopy.crs as ccrs\n",
    "import cartopy.feature as cfeature\n",
    "import xarray as xr\n",
    "%matplotlib inline"
   ]
  },
  {
   "cell_type": "markdown",
   "metadata": {},
   "source": [
    "### 1. Import the velocity field\n",
    "\n",
    "Import one of the velocity fields that you use for your simulation. I'm using CMEMS SMOC 1/12 degree."
   ]
  },
  {
   "cell_type": "code",
   "execution_count": 2,
   "metadata": {},
   "outputs": [],
   "source": [
    "file_path = \"../data/mercatorpsy4v3r1_gl12_mean_20180101_R20180110.nc\"\n",
    "indices = {'lat': range(1, 960), 'lon': range(1284, 2460)}"
   ]
  },
  {
   "cell_type": "code",
   "execution_count": 3,
   "metadata": {},
   "outputs": [],
   "source": [
    "model = xr.load_dataset(file_path)"
   ]
  },
  {
   "cell_type": "code",
   "execution_count": 4,
   "metadata": {},
   "outputs": [],
   "source": [
    "lons = model['longitude'][indices['lon']]\n",
    "lats = model['latitude'][indices['lat']]\n",
    "X, Y = np.meshgrid(lons, lats)"
   ]
  },
  {
   "cell_type": "markdown",
   "metadata": {},
   "source": [
    "### 2. Make the land mask\n",
    "\n",
    "We make an array with the land mask where `land = 1` and `ocean = 0`."
   ]
  },
  {
   "cell_type": "code",
   "execution_count": 5,
   "metadata": {},
   "outputs": [],
   "source": [
    "def make_landmask(fielddata, indices):\n",
    "    \"\"\"Returns landmask where land = 1 and ocean = 0\n",
    "    fielddata is a netcdf file.\n",
    "    indices is a dictionary such as:\n",
    "    indices = {'lat': slice(1, 900), 'lon': slice(1284, 2460)}.\n",
    "    \"\"\"\n",
    "    datafile = Dataset(fielddata)\n",
    "\n",
    "    landmask = datafile.variables['uo'][0, 0, indices['lat'], indices['lon']]\n",
    "    landmask = np.ma.masked_invalid(landmask)\n",
    "    landmask = landmask.mask.astype('int')\n",
    "\n",
    "    return landmask"
   ]
  },
  {
   "cell_type": "code",
   "execution_count": 6,
   "metadata": {},
   "outputs": [],
   "source": [
    "landmask = make_landmask(file_path, indices)"
   ]
  },
  {
   "cell_type": "code",
   "execution_count": 7,
   "metadata": {},
   "outputs": [
    {
     "data": {
      "text/plain": [
       "Text(0.5, 1.0, 'Landmask')"
      ]
     },
     "execution_count": 7,
     "metadata": {},
     "output_type": "execute_result"
    },
    {
     "data": {
      "image/png": "[encoded data removed]",
      "text/plain": [
       "<Figure size 432x288 with 2 Axes>"
      ]
     },
     "metadata": {
      "needs_background": "light"
     },
     "output_type": "display_data"
    }
   ],
   "source": [
    "plt.figure()\n",
    "plt.pcolormesh(X, Y, landmask, shading='auto')\n",
    "plt.colorbar()\n",
    "plt.title('Landmask', fontsize=14)"
   ]
  },
  {
   "cell_type": "markdown",
   "metadata": {},
   "source": [
    "### 3. Detect the coast"
   ]
  },
  {
   "cell_type": "markdown",
   "metadata": {},
   "source": [
    "By computing the Laplacian from `landmask`, such as\n",
    "\n",
    "$$\\nabla^2 \\text{landmask} = \\partial_{xx} \\text{landmask} + \\partial_{yy} \\text{landmask},$$\n",
    "\n",
    "and by filtering the positive and negative values, we can detect the coastal and the shore cells (the edges). The coastal cells are the ocean cells next to land and the shore cells are land cells next to the ocean."
   ]
  },
  {
   "cell_type": "code",
   "execution_count": 8,
   "metadata": {},
   "outputs": [],
   "source": [
    "# Computing the Laplace operator of landmask (in three lines)\n",
    "mask_lap = np.roll(landmask, -1, axis=0) + np.roll(landmask, 1, axis=0)\n",
    "mask_lap += np.roll(landmask, -1, axis=1) + np.roll(landmask, 1, axis=1)\n",
    "mask_lap -= 4*landmask \n",
    "\n",
    "coastal = ma.masked_array(landmask, mask_lap>0)  # ocean cell next to land.\n",
    "shore = ma.masked_array(landmask, mask_lap<0)  # land cell next to ocean.\n",
    "coastal = coastal.mask.astype('int') #setting coastal cells equal to 1 and the rest to 0\n",
    "shore = shore.mask.astype('int') # same but for the shore cells"
   ]
  },
  {
   "cell_type": "markdown",
   "metadata": {},
   "source": [
    "To see what we did, we zoom somewhere in Argentina."
   ]
  },
  {
   "cell_type": "code",
   "execution_count": 9,
   "metadata": {},
   "outputs": [
    {
     "data": {
      "text/plain": [
       "<matplotlib.colorbar.Colorbar at 0x7fb9b12db9b0>"
      ]
     },
     "execution_count": 9,
     "metadata": {},
     "output_type": "execute_result"
    },
    {
     "data": {
      "image/png": "[encoded data removed]",
      "text/plain": [
       "<Figure size 432x288 with 2 Axes>"
      ]
     },
     "metadata": {
      "needs_background": "light"
     },
     "output_type": "display_data"
    }
   ],
   "source": [
    "plt.figure()\n",
    "plt.pcolormesh(X,Y, mask_lap, shading='auto')\n",
    "plt.xlim(-67, -62)\n",
    "plt.ylim(-45,-40)\n",
    "plt.title(r'$\\nabla^2$ landmask', fontsize=14)\n",
    "plt.colorbar()"
   ]
  },
  {
   "cell_type": "code",
   "execution_count": 10,
   "metadata": {},
   "outputs": [
    {
     "data": {
      "text/plain": [
       "<matplotlib.colorbar.Colorbar at 0x7fb9b78706d8>"
      ]
     },
     "execution_count": 10,
     "metadata": {},
     "output_type": "execute_result"
    },
    {
     "data": {
      "image/png": "[encoded data removed]",
      "text/plain": [
       "<Figure size 432x288 with 2 Axes>"
      ]
     },
     "metadata": {
      "needs_background": "light"
     },
     "output_type": "display_data"
    }
   ],
   "source": [
    "plt.figure()\n",
    "plt.pcolormesh(X,Y, coastal, shading='auto')\n",
    "plt.xlim(-67, -62)\n",
    "plt.ylim(-45,-40)\n",
    "plt.title('Coastal cells', fontsize=14)\n",
    "plt.colorbar()"
   ]
  },
  {
   "cell_type": "code",
   "execution_count": 11,
   "metadata": {},
   "outputs": [
    {
     "data": {
      "text/plain": [
       "<matplotlib.colorbar.Colorbar at 0x7fb9b1a05048>"
      ]
     },
     "execution_count": 11,
     "metadata": {},
     "output_type": "execute_result"
    },
    {
     "data": {
      "image/png": "[encoded data removed]",
      "text/plain": [
       "<Figure size 432x288 with 2 Axes>"
      ]
     },
     "metadata": {
      "needs_background": "light"
     },
     "output_type": "display_data"
    }
   ],
   "source": [
    "plt.figure()\n",
    "plt.pcolormesh(X,Y, shore, shading='auto')\n",
    "plt.xlim(-67, -62)\n",
    "plt.ylim(-45,-40)\n",
    "plt.title('Shore cells', fontsize=14)\n",
    "plt.colorbar()"
   ]
  },
  {
   "cell_type": "code",
   "execution_count": 12,
   "metadata": {},
   "outputs": [
    {
     "data": {
      "text/plain": [
       "<matplotlib.colorbar.Colorbar at 0x7fb9b1b52940>"
      ]
     },
     "execution_count": 12,
     "metadata": {},
     "output_type": "execute_result"
    },
    {
     "data": {
      "image/png": "[encoded data removed]",
      "text/plain": [
       "<Figure size 432x288 with 2 Axes>"
      ]
     },
     "metadata": {
      "needs_background": "light"
     },
     "output_type": "display_data"
    }
   ],
   "source": [
    "plt.figure()\n",
    "plt.pcolormesh(X,Y, coastal + shore, shading='auto')\n",
    "plt.xlim(-67, -62)\n",
    "plt.ylim(-45,-40)\n",
    "plt.title('Overlap check!', fontsize=14)\n",
    "plt.colorbar()"
   ]
  },
  {
   "cell_type": "markdown",
   "metadata": {},
   "source": [
    "> obs: the arrays don't ovelap!\n",
    "\n",
    "By the way, that strange peninsula is the Valdes Peninsula in Argentina and this is how it looks: [click for surprise.](https://oceancolor.gsfc.nasa.gov/gallery/feature/images/LC08_L1TP_227089-090_20210408_20210408_01_RT.PeninsulaValdes.jpg)\n",
    "\n",
    "You are welcome :)"
   ]
  },
  {
   "cell_type": "code",
   "execution_count": 26,
   "metadata": {},
   "outputs": [],
   "source": [
    "# Wrapping the code around functions.\n",
    "def get_coastal_cells(landmask):\n",
    "    \"\"\"Function that detects the coastal cells, i.e. the ocean cells directly\n",
    "    next to land. Computes the Laplacian of landmask.\n",
    "\n",
    "    - landmask: the land mask built using `make_landmask`, where land cell = 1\n",
    "                and ocean cell = 0.\n",
    "\n",
    "    Output: 2D array array containing the coastal cells, the coastal cells are\n",
    "            equal to one, and the rest is zero.\n",
    "    \"\"\"\n",
    "    mask_lap = np.roll(landmask, -1, axis=0) + np.roll(landmask, 1, axis=0)\n",
    "    mask_lap += np.roll(landmask, -1, axis=1) + np.roll(landmask, 1, axis=1)\n",
    "    mask_lap -= 4*landmask\n",
    "    coastal = np.ma.masked_array(landmask, mask_lap > 0)\n",
    "    coastal = coastal.mask.astype('int')\n",
    "\n",
    "    return coastal\n",
    "\n",
    "def get_shore_cells(landmask):\n",
    "    \"\"\"Function that detects the shore cells, i.e. the land cells directly\n",
    "    next to the ocean. Computes the Laplacian of landmask.\n",
    "\n",
    "    - landmask: the land mask built using `make_landmask`, where land cell = 1\n",
    "                and ocean cell = 0.\n",
    "\n",
    "    Output: 2D array array containing the shore cells, the shore cells are\n",
    "            equal to one, and the rest is zero.\n",
    "    \"\"\"\n",
    "    neg_landmask = 1 - landmask\n",
    "    shore1 = get_coastal_cells(neg_landmask)\n",
    "    shore2 = get_coastal_cells(neg_landmask - shore1)\n",
    "    \n",
    "#     mask_lap = np.roll(landmask, -1, axis=0) + np.roll(landmask, 1, axis=0)\n",
    "#     mask_lap += np.roll(landmask, -1, axis=1) + np.roll(landmask, 1, axis=1)\n",
    "#     mask_lap -= 4*landmask\n",
    "#     shore = np.ma.masked_array(landmask, mask_lap < 0)\n",
    "#     shore = shore.mask.astype('int')\n",
    "\n",
    "    return shore1 #+ shore2"
   ]
  },
  {
   "cell_type": "code",
   "execution_count": 27,
   "metadata": {},
   "outputs": [],
   "source": [
    "shore_2 = get_shore_cells(landmask)"
   ]
  },
  {
   "cell_type": "code",
   "execution_count": 28,
   "metadata": {},
   "outputs": [
    {
     "data": {
      "text/plain": [
       "<matplotlib.colorbar.Colorbar at 0x7fba272bda20>"
      ]
     },
     "execution_count": 28,
     "metadata": {},
     "output_type": "execute_result"
    },
    {
     "data": {
      "image/png": "[encoded data removed]",
      "text/plain": [
       "<Figure size 432x288 with 2 Axes>"
      ]
     },
     "metadata": {
      "needs_background": "light"
     },
     "output_type": "display_data"
    }
   ],
   "source": [
    "plt.figure()\n",
    "plt.scatter(X,Y, shore_2)\n",
    "plt.xlim(-67, -62)\n",
    "plt.ylim(-45,-40)\n",
    "plt.title('Shore cells', fontsize=14)\n",
    "plt.colorbar()"
   ]
  },
  {
   "cell_type": "code",
   "execution_count": 30,
   "metadata": {},
   "outputs": [
    {
     "data": {
      "text/plain": [
       "<matplotlib.colorbar.Colorbar at 0x7fb9b394c320>"
      ]
     },
     "execution_count": 30,
     "metadata": {},
     "output_type": "execute_result"
    },
    {
     "data": {
      "image/png": "[encoded data removed]",
      "text/plain": [
       "<Figure size 432x288 with 2 Axes>"
      ]
     },
     "metadata": {
      "needs_background": "light"
     },
     "output_type": "display_data"
    }
   ],
   "source": [
    "plt.figure()\n",
    "plt.scatter(X,Y, landmask)\n",
    "plt.scatter(X,Y, shore_2)\n",
    "plt.xlim(-67, -62)\n",
    "plt.ylim(-45,-40)\n",
    "plt.title('Shore cells', fontsize=14)\n",
    "plt.colorbar()"
   ]
  },
  {
   "cell_type": "code",
   "execution_count": 25,
   "metadata": {},
   "outputs": [
    {
     "data": {
      "text/plain": [
       "<matplotlib.colorbar.Colorbar at 0x7fb9b1cf0828>"
      ]
     },
     "execution_count": 25,
     "metadata": {},
     "output_type": "execute_result"
    },
    {
     "data": {
      "image/png": "[encoded data removed]",
      "text/plain": [
       "<Figure size 432x288 with 2 Axes>"
      ]
     },
     "metadata": {
      "needs_background": "light"
     },
     "output_type": "display_data"
    }
   ],
   "source": [
    "plt.figure()\n",
    "plt.scatter(X,Y, shore)\n",
    "plt.xlim(-67, -62)\n",
    "plt.ylim(-45,-40)\n",
    "plt.title('Shore cells', fontsize=14)\n",
    "plt.colorbar()"
   ]
  },
  {
   "cell_type": "markdown",
   "metadata": {},
   "source": [
    "### 4. Assigning coastal velocities\n",
    "\n",
    "For the antibeaching kernel, we need a border velocity field that pushes the particles back to the ocean. This velocity field has to be parallel to the normal coast vector. For making this velocity field, we can take the simple derivative of `landmask` and project the result to the `coastal` array, this will capture the orientation of the velocity vectors. Then, to make this vectors unitary, we normalize it."
   ]
  },
  {
   "cell_type": "code",
   "execution_count": 14,
   "metadata": {},
   "outputs": [],
   "source": [
    "Ly = np.roll(landmask, -1, axis=0) - np.roll(landmask, 1, axis=0)\n",
    "Lx = np.roll(landmask, -1, axis=1) - np.roll(landmask, 1, axis=1)\n",
    "\n",
    "# In case you need a double cell border velocity use:\n",
    "# v_x = -Lx*(coastal+shore) \n",
    "# v_y = -Ly*(coastal+shore)\n",
    "\n",
    "# If you just need a single cell border velocity then use this one:\n",
    "v_x = -Lx*(coastal) \n",
    "v_y = -Ly*(coastal) \n",
    "\n",
    "\n",
    "magnitude = np.sqrt(v_y**2 + v_x**2)\n",
    "# the coastal cells between land create a problem (islands). The magnitude there is zero.\n",
    "# I force it to be one to avoid problems when normalizing.\n",
    "ny, nx = np.where(magnitude==0)\n",
    "magnitude[ny,nx] = 1\n",
    "\n",
    "v_x = v_x/magnitude\n",
    "v_y = v_y/magnitude"
   ]
  },
  {
   "cell_type": "code",
   "execution_count": 15,
   "metadata": {},
   "outputs": [
    {
     "data": {
      "text/plain": [
       "<matplotlib.colorbar.Colorbar at 0x7f9e0647a668>"
      ]
     },
     "execution_count": 15,
     "metadata": {},
     "output_type": "execute_result"
    },
    {
     "data": {
      "image/png": "[encoded data removed]",
      "text/plain": [
       "<Figure size 432x288 with 2 Axes>"
      ]
     },
     "metadata": {
      "needs_background": "light"
     },
     "output_type": "display_data"
    }
   ],
   "source": [
    "plt.figure()\n",
    "plt.pcolormesh(X,Y, v_x, shading='auto')\n",
    "plt.xlim(-67, -62)\n",
    "plt.ylim(-45,-40)\n",
    "plt.title(r'$v_x$', fontsize=14)\n",
    "plt.colorbar()"
   ]
  },
  {
   "cell_type": "code",
   "execution_count": 16,
   "metadata": {},
   "outputs": [
    {
     "data": {
      "text/plain": [
       "<matplotlib.colorbar.Colorbar at 0x7f9e05acbcf8>"
      ]
     },
     "execution_count": 16,
     "metadata": {},
     "output_type": "execute_result"
    },
    {
     "data": {
      "image/png": "[encoded data removed]",
      "text/plain": [
       "<Figure size 432x288 with 2 Axes>"
      ]
     },
     "metadata": {
      "needs_background": "light"
     },
     "output_type": "display_data"
    }
   ],
   "source": [
    "plt.figure()\n",
    "plt.pcolormesh(X,Y, v_y, shading='auto')\n",
    "plt.xlim(-67, -62)\n",
    "plt.ylim(-45,-40)\n",
    "plt.title(r'$v_y$', fontsize=14)\n",
    "plt.colorbar()"
   ]
  },
  {
   "cell_type": "code",
   "execution_count": 17,
   "metadata": {},
   "outputs": [
    {
     "data": {
      "text/plain": [
       "<matplotlib.colorbar.Colorbar at 0x7f9e7ae03710>"
      ]
     },
     "execution_count": 17,
     "metadata": {},
     "output_type": "execute_result"
    },
    {
     "data": {
      "image/png": "[encoded data removed]",
      "text/plain": [
       "<Figure size 432x288 with 2 Axes>"
      ]
     },
     "metadata": {
      "needs_background": "light"
     },
     "output_type": "display_data"
    }
   ],
   "source": [
    "plt.figure()\n",
    "plt.pcolormesh(X,Y, np.sqrt(v_x**2 + v_y**2), shading='auto')\n",
    "plt.xlim(-67, -62)\n",
    "plt.ylim(-45,-40)\n",
    "plt.title('Speed', fontsize=14)\n",
    "plt.colorbar()"
   ]
  },
  {
   "cell_type": "code",
   "execution_count": 18,
   "metadata": {},
   "outputs": [],
   "source": [
    "# Wrapping everything around a function.\n",
    "def create_border_current(landmask, double_cell=False):\n",
    "    \"\"\"Function that creates a border current 1 m/s pointing away from shore.\n",
    "\n",
    "    - landmask: the land mask built using `make_landmask`.\n",
    "    - double_cell: Boolean for determining if you want a double cell.\n",
    "      Default set to False.\n",
    "\n",
    "    Output \n",
    "    - v_x, v_y: two 2D arrays, one for each camponent of the velocity.\n",
    "    \"\"\"\n",
    "    shore = get_shore_cells(landmask)\n",
    "    coastal = get_coastal_cells(landmask)\n",
    "    Ly = np.roll(landmask, -1, axis=0) - np.roll(landmask, 1, axis=0)\n",
    "    Lx = np.roll(landmask, -1, axis=1) - np.roll(landmask, 1, axis=1)\n",
    "    \n",
    "    if double_cell:\n",
    "        v_x = -Lx*(coastal+shore) \n",
    "        v_y = -Ly*(coastal+shore)\n",
    "    else:\n",
    "        v_x = -Lx*(coastal)\n",
    "        v_y = -Ly*(coastal)\n",
    "\n",
    "    magnitude = np.sqrt(v_y**2 + v_x**2)\n",
    "    # the coastal cells between land create a problem. Magnitude there is zero\n",
    "    # I force it to be 1 to avoid problems when normalizing.\n",
    "    ny, nx = np.where(magnitude == 0)\n",
    "    magnitude[ny, nx] = 1\n",
    "\n",
    "    v_x = v_x/magnitude\n",
    "    v_y = v_y/magnitude\n",
    "\n",
    "    return v_x, v_y"
   ]
  },
  {
   "cell_type": "markdown",
   "metadata": {},
   "source": [
    "### 5. Distance to shore\n",
    "**Warning:** This method is not accurate for long distances.\n",
    "\n",
    "The following algorithm counts how many cells there are from the shore. If you know the size of the cells you can get the distance to shore. This is quite difficult because the cell size changes according to the latitude.\n",
    "\n",
    "The main idea is to use the `get_coastal_cells` function iteratively following this recipe:\n",
    "1. Get `c1`, the coastal cells from `landmask`.\n",
    "2. Add `c1` to `landmask`.\n",
    "3. Get `c2` from `c1` + `landmask`.\n",
    "4. Add `c2` to `c1` + `landmask`.\n",
    "5. Get `c3` from `c1` + `c2` + `landmask`.\n",
    "6. So on ...\n",
    "\n",
    "Remember that the coastal cells have a value of $1$ and the non-coastal cells $0$. The `landmask` is $1$ where there is land and $0$ where there is ocean. By adding the coastal cells to the `landmask`, we are expanding the land just like the Dutch did in the Netherlands!\n",
    "\n",
    "Here is an example of how it works:"
   ]
  },
  {
   "cell_type": "code",
   "execution_count": 19,
   "metadata": {},
   "outputs": [],
   "source": [
    "c1 = get_coastal_cells(landmask)\n",
    "c2 = get_coastal_cells(landmask + c1)\n",
    "c3 = get_coastal_cells(landmask + c1 + c2)\n",
    "c4 = get_coastal_cells(landmask + c1 + c2 + c3)"
   ]
  },
  {
   "cell_type": "code",
   "execution_count": 20,
   "metadata": {},
   "outputs": [],
   "source": [
    "# creating masks for the plot bellow.\n",
    "c1 = np.ma.masked_where(c1==0, c1)\n",
    "c2 = np.ma.masked_where(c2==0, c2)\n",
    "c3 = np.ma.masked_where(c3==0, c3)\n",
    "c4 = np.ma.masked_where(c4==0, c4)"
   ]
  },
  {
   "cell_type": "code",
   "execution_count": 21,
   "metadata": {},
   "outputs": [
    {
     "data": {
      "text/plain": [
       "<matplotlib.colorbar.Colorbar at 0x7f9e7af18908>"
      ]
     },
     "execution_count": 21,
     "metadata": {},
     "output_type": "execute_result"
    },
    {
     "data": {
      "image/png": "[encoded data removed]",
      "text/plain": [
       "<Figure size 432x288 with 2 Axes>"
      ]
     },
     "metadata": {
      "needs_background": "light"
     },
     "output_type": "display_data"
    }
   ],
   "source": [
    "plt.figure()\n",
    "plt.pcolormesh(X,Y, c1, shading='auto', vmin=1, vmax=4)\n",
    "plt.pcolormesh(X,Y, c2+1, shading='auto', vmin=1, vmax=4)\n",
    "plt.pcolormesh(X,Y, c3+2, shading='auto', vmin=1, vmax=4)\n",
    "plt.pcolormesh(X,Y, c4+3, shading='auto',vmin=1, vmax=4)\n",
    "plt.xlim(-67, -62)\n",
    "plt.ylim(-45,-40)\n",
    "plt.title('Example: number of cells from shore', fontsize=14)\n",
    "plt.colorbar()"
   ]
  },
  {
   "cell_type": "markdown",
   "metadata": {},
   "source": [
    "The same but wrapped around a function and a while loop."
   ]
  },
  {
   "cell_type": "code",
   "execution_count": 22,
   "metadata": {},
   "outputs": [],
   "source": [
    "def distance_to_shore(landmask, dx=1):\n",
    "    \"\"\"Function that computes the distance to the shore. It is based in the\n",
    "    the `get_coastal_cells` algorithm.\n",
    "\n",
    "    - landmask: the land mask built using `make_landmask` function.\n",
    "    - dx: the grid cell dimesion. This is a crude approximation of the real\n",
    "    distance (be careful).\n",
    "\n",
    "    Output: 2D array containing the distances from shore.\n",
    "    \"\"\"\n",
    "    ci = get_coastal_cells(landmask)\n",
    "    landmask_i = landmask + ci\n",
    "    dist = ci\n",
    "    i = 0\n",
    "\n",
    "    while i < dist.max():\n",
    "        ci = get_coastal_cells(landmask_i)\n",
    "        landmask_i += ci\n",
    "        dist += ci*(i+2)\n",
    "        i += 1\n",
    "        \n",
    "    return dist*dx"
   ]
  },
  {
   "cell_type": "code",
   "execution_count": 23,
   "metadata": {},
   "outputs": [],
   "source": [
    "dist_SA = distance_to_shore(landmask)"
   ]
  },
  {
   "cell_type": "code",
   "execution_count": 24,
   "metadata": {},
   "outputs": [
    {
     "data": {
      "text/plain": [
       "Text(0.5, 1.0, 'Cells from shore South Atlantic')"
      ]
     },
     "execution_count": 24,
     "metadata": {},
     "output_type": "execute_result"
    },
    {
     "data": {
      "image/png": "[encoded data removed]",
      "text/plain": [
       "<Figure size 720x360 with 2 Axes>"
      ]
     },
     "metadata": {
      "needs_background": "light"
     },
     "output_type": "display_data"
    }
   ],
   "source": [
    "fig,ax = plt.subplots(figsize=(10,5),\n",
    "                      subplot_kw={'projection': ccrs.LambertConformal()})\n",
    "\n",
    "gl = ax.gridlines(crs=ccrs.PlateCarree(), draw_labels=True,\n",
    "                  linewidth=2, color='gray', alpha=0.5, linestyle='--')\n",
    "gl.top_labels = False\n",
    "gl.right_labels = False\n",
    "ax = plt.axes(projection=ccrs.PlateCarree())\n",
    "ax.set_extent((-70, 25, -60, -5), crs=ccrs.PlateCarree())\n",
    "\n",
    "ax.add_feature(cfeature.LAND, zorder=1)\n",
    "ax.add_feature(cfeature.COASTLINE)\n",
    "ax.gridlines(draw_labels=True, dms=False, x_inline=False, y_inline=False)\n",
    "\n",
    "im = ax.contourf(X, Y, dist_SA)\n",
    "plt.colorbar(im)\n",
    "ax.set_title('Cells from shore South Atlantic', fontsize=14)"
   ]
  },
  {
   "cell_type": "markdown",
   "metadata": {},
   "source": [
    "> obs: it assumes that the upper limit is a coast. To avoid that use the global landmask.\n",
    "\n",
    "**To implement later:** a way to compute the errors or confidence interval. "
   ]
  },
  {
   "cell_type": "code",
   "execution_count": 25,
   "metadata": {},
   "outputs": [],
   "source": [
    "def haversine_distance_two(point_A, point_B):\n",
    "    \"\"\"\n",
    "    Calculate the great circle distance between two points\n",
    "    on the earth (specified in decimal degrees)\n",
    "\n",
    "    All args must be of equal length.    \n",
    "    \"\"\"\n",
    "    lat1, lon1 = point_A\n",
    "    lat2, lon2 = point_B\n",
    "    lon1, lat1, lon2, lat2 = map(np.radians, [lon1, lat1, lon2, lat2])\n",
    "    dlon = lon2 - lon1\n",
    "    dlat = lat2 - lat1\n",
    "\n",
    "    a = np.sin(dlat/2.0)**2 + np.cos(lat1) * np.cos(lat2) * np.sin(dlon/2.0)**2\n",
    "\n",
    "    c = 2 * np.arcsin(np.sqrt(a))\n",
    "    km = 6367 * c\n",
    "    return km"
   ]
  },
  {
   "cell_type": "code",
   "execution_count": 26,
   "metadata": {},
   "outputs": [
    {
     "data": {
      "text/plain": [
       "7.093860769979677"
      ]
     },
     "execution_count": 26,
     "metadata": {},
     "output_type": "execute_result"
    }
   ],
   "source": [
    "lon_dx = haversine_distance_two((40,0),(40,1))/12\n",
    "lon_dx"
   ]
  },
  {
   "cell_type": "code",
   "execution_count": 27,
   "metadata": {},
   "outputs": [
    {
     "data": {
      "text/plain": [
       "9.26042612287326"
      ]
     },
     "execution_count": 27,
     "metadata": {},
     "output_type": "execute_result"
    }
   ],
   "source": [
    "lat_dx = haversine_distance_two((40,0),(41,0))/12\n",
    "lat_dx"
   ]
  },
  {
   "cell_type": "markdown",
   "metadata": {},
   "source": [
    "The error associated to the distance from shore could be estimated as:\n",
    "\n",
    "`e_max = dist*(dx - lon_dx)` and `e_min = dist*(dx - lat_dx)`."
   ]
  },
  {
   "cell_type": "markdown",
   "metadata": {},
   "source": [
    "### 6. Saving in a .nc file"
   ]
  },
  {
   "cell_type": "code",
   "execution_count": 28,
   "metadata": {},
   "outputs": [],
   "source": [
    "ds = xr.Dataset(\n",
    "    data_vars=dict(\n",
    "        landmask=([\"y\", \"x\"], landmask),\n",
    "        coastal=([\"y\", \"x\"], coastal),\n",
    "        shore=([\"y\", \"x\"], shore),\n",
    "        coastal_u=([\"y\", \"x\"], v_x),\n",
    "        coastal_v=([\"y\", \"x\"], v_y),\n",
    "        distance2shore=([\"y\", \"x\"], dist_SA),\n",
    "        latitude=([\"y\", \"x\"], Y),\n",
    "        longitude=([\"y\", \"x\"], X),),\n",
    "    \n",
    "    coords=dict(lon=([\"x\"], lons.values),\n",
    "        lat=([\"y\"], lats.values),),\n",
    "    \n",
    "    attrs=dict(description=\"setup files for simulation\",\n",
    "               index_lat=(indices['lat'].start, indices['lat'].stop),\n",
    "              index_lon=(indices['lon'].start, indices['lon'].stop)),)\n",
    "\n",
    "#ds.to_netcdf(\"output_path\")"
   ]
  },
  {
   "cell_type": "code",
   "execution_count": 29,
   "metadata": {},
   "outputs": [
    {
     "data": {
      "text/html": [
       "<div><svg style=\"position: absolute; width: 0; height: 0; overflow: hidden\">\n",
       "<defs>\n",
       "<symbol id=\"icon-database\" viewBox=\"0 0 32 32\">\n",
       "<path d=\"M16 0c-8.837 0-16 2.239-16 5v4c0 2.761 7.163 5 16 5s16-2.239 16-5v-4c0-2.761-7.163-5-16-5z\"></path>\n",
       "<path d=\"M16 17c-8.837 0-16-2.239-16-5v6c0 2.761 7.163 5 16 5s16-2.239 16-5v-6c0 2.761-7.163 5-16 5z\"></path>\n",
       "<path d=\"M16 26c-8.837 0-16-2.239-16-5v6c0 2.761 7.163 5 16 5s16-2.239 16-5v-6c0 2.761-7.163 5-16 5z\"></path>\n",
       "</symbol>\n",
       "<symbol id=\"icon-file-text2\" viewBox=\"0 0 32 32\">\n",
       "<path d=\"M28.681 7.159c-0.694-0.947-1.662-2.053-2.724-3.116s-2.169-2.030-3.116-2.724c-1.612-1.182-2.393-1.319-2.841-1.319h-15.5c-1.378 0-2.5 1.121-2.5 2.5v27c0 1.378 1.122 2.5 2.5 2.5h23c1.378 0 2.5-1.122 2.5-2.5v-19.5c0-0.448-0.137-1.23-1.319-2.841zM24.543 5.457c0.959 0.959 1.712 1.825 2.268 2.543h-4.811v-4.811c0.718 0.556 1.584 1.309 2.543 2.268zM28 29.5c0 0.271-0.229 0.5-0.5 0.5h-23c-0.271 0-0.5-0.229-0.5-0.5v-27c0-0.271 0.229-0.5 0.5-0.5 0 0 15.499-0 15.5 0v7c0 0.552 0.448 1 1 1h7v19.5z\"></path>\n",
       "<path d=\"M23 26h-14c-0.552 0-1-0.448-1-1s0.448-1 1-1h14c0.552 0 1 0.448 1 1s-0.448 1-1 1z\"></path>\n",
       "<path d=\"M23 22h-14c-0.552 0-1-0.448-1-1s0.448-1 1-1h14c0.552 0 1 0.448 1 1s-0.448 1-1 1z\"></path>\n",
       "<path d=\"M23 18h-14c-0.552 0-1-0.448-1-1s0.448-1 1-1h14c0.552 0 1 0.448 1 1s-0.448 1-1 1z\"></path>\n",
       "</symbol>\n",
       "</defs>\n",
       "</svg>\n",
       "<style>/* CSS stylesheet for displaying xarray objects in jupyterlab.\n",
       " *\n",
       " */\n",
       "\n",
       ":root {\n",
       "  --xr-font-color0: var(--jp-content-font-color0, rgba(0, 0, 0, 1));\n",
       "  --xr-font-color2: var(--jp-content-font-color2, rgba(0, 0, 0, 0.54));\n",
       "  --xr-font-color3: var(--jp-content-font-color3, rgba(0, 0, 0, 0.38));\n",
       "  --xr-border-color: var(--jp-border-color2, #e0e0e0);\n",
       "  --xr-disabled-color: var(--jp-layout-color3, #bdbdbd);\n",
       "  --xr-background-color: var(--jp-layout-color0, white);\n",
       "  --xr-background-color-row-even: var(--jp-layout-color1, white);\n",
       "  --xr-background-color-row-odd: var(--jp-layout-color2, #eeeeee);\n",
       "}\n",
       "\n",
       "html[theme=dark],\n",
       "body.vscode-dark {\n",
       "  --xr-font-color0: rgba(255, 255, 255, 1);\n",
       "  --xr-font-color2: rgba(255, 255, 255, 0.54);\n",
       "  --xr-font-color3: rgba(255, 255, 255, 0.38);\n",
       "  --xr-border-color: #1F1F1F;\n",
       "  --xr-disabled-color: #515151;\n",
       "  --xr-background-color: #111111;\n",
       "  --xr-background-color-row-even: #111111;\n",
       "  --xr-background-color-row-odd: #313131;\n",
       "}\n",
       "\n",
       ".xr-wrap {\n",
       "  display: block;\n",
       "  min-width: 300px;\n",
       "  max-width: 700px;\n",
       "}\n",
       "\n",
       ".xr-text-repr-fallback {\n",
       "  /* fallback to plain text repr when CSS is not injected (untrusted notebook) */\n",
       "  display: none;\n",
       "}\n",
       "\n",
       ".xr-header {\n",
       "  padding-top: 6px;\n",
       "  padding-bottom: 6px;\n",
       "  margin-bottom: 4px;\n",
       "  border-bottom: solid 1px var(--xr-border-color);\n",
       "}\n",
       "\n",
       ".xr-header > div,\n",
       ".xr-header > ul {\n",
       "  display: inline;\n",
       "  margin-top: 0;\n",
       "  margin-bottom: 0;\n",
       "}\n",
       "\n",
       ".xr-obj-type,\n",
       ".xr-array-name {\n",
       "  margin-left: 2px;\n",
       "  margin-right: 10px;\n",
       "}\n",
       "\n",
       ".xr-obj-type {\n",
       "  color: var(--xr-font-color2);\n",
       "}\n",
       "\n",
       ".xr-sections {\n",
       "  padding-left: 0 !important;\n",
       "  display: grid;\n",
       "  grid-template-columns: 150px auto auto 1fr 20px 20px;\n",
       "}\n",
       "\n",
       ".xr-section-item {\n",
       "  display: contents;\n",
       "}\n",
       "\n",
       ".xr-section-item input {\n",
       "  display: none;\n",
       "}\n",
       "\n",
       ".xr-section-item input + label {\n",
       "  color: var(--xr-disabled-color);\n",
       "}\n",
       "\n",
       ".xr-section-item input:enabled + label {\n",
       "  cursor: pointer;\n",
       "  color: var(--xr-font-color2);\n",
       "}\n",
       "\n",
       ".xr-section-item input:enabled + label:hover {\n",
       "  color: var(--xr-font-color0);\n",
       "}\n",
       "\n",
       ".xr-section-summary {\n",
       "  grid-column: 1;\n",
       "  color: var(--xr-font-color2);\n",
       "  font-weight: 500;\n",
       "}\n",
       "\n",
       ".xr-section-summary > span {\n",
       "  display: inline-block;\n",
       "  padding-left: 0.5em;\n",
       "}\n",
       "\n",
       ".xr-section-summary-in:disabled + label {\n",
       "  color: var(--xr-font-color2);\n",
       "}\n",
       "\n",
       ".xr-section-summary-in + label:before {\n",
       "  display: inline-block;\n",
       "  content: '►';\n",
       "  font-size: 11px;\n",
       "  width: 15px;\n",
       "  text-align: center;\n",
       "}\n",
       "\n",
       ".xr-section-summary-in:disabled + label:before {\n",
       "  color: var(--xr-disabled-color);\n",
       "}\n",
       "\n",
       ".xr-section-summary-in:checked + label:before {\n",
       "  content: '▼';\n",
       "}\n",
       "\n",
       ".xr-section-summary-in:checked + label > span {\n",
       "  display: none;\n",
       "}\n",
       "\n",
       ".xr-section-summary,\n",
       ".xr-section-inline-details {\n",
       "  padding-top: 4px;\n",
       "  padding-bottom: 4px;\n",
       "}\n",
       "\n",
       ".xr-section-inline-details {\n",
       "  grid-column: 2 / -1;\n",
       "}\n",
       "\n",
       ".xr-section-details {\n",
       "  display: none;\n",
       "  grid-column: 1 / -1;\n",
       "  margin-bottom: 5px;\n",
       "}\n",
       "\n",
       ".xr-section-summary-in:checked ~ .xr-section-details {\n",
       "  display: contents;\n",
       "}\n",
       "\n",
       ".xr-array-wrap {\n",
       "  grid-column: 1 / -1;\n",
       "  display: grid;\n",
       "  grid-template-columns: 20px auto;\n",
       "}\n",
       "\n",
       ".xr-array-wrap > label {\n",
       "  grid-column: 1;\n",
       "  vertical-align: top;\n",
       "}\n",
       "\n",
       ".xr-preview {\n",
       "  color: var(--xr-font-color3);\n",
       "}\n",
       "\n",
       ".xr-array-preview,\n",
       ".xr-array-data {\n",
       "  padding: 0 5px !important;\n",
       "  grid-column: 2;\n",
       "}\n",
       "\n",
       ".xr-array-data,\n",
       ".xr-array-in:checked ~ .xr-array-preview {\n",
       "  display: none;\n",
       "}\n",
       "\n",
       ".xr-array-in:checked ~ .xr-array-data,\n",
       ".xr-array-preview {\n",
       "  display: inline-block;\n",
       "}\n",
       "\n",
       ".xr-dim-list {\n",
       "  display: inline-block !important;\n",
       "  list-style: none;\n",
       "  padding: 0 !important;\n",
       "  margin: 0;\n",
       "}\n",
       "\n",
       ".xr-dim-list li {\n",
       "  display: inline-block;\n",
       "  padding: 0;\n",
       "  margin: 0;\n",
       "}\n",
       "\n",
       ".xr-dim-list:before {\n",
       "  content: '(';\n",
       "}\n",
       "\n",
       ".xr-dim-list:after {\n",
       "  content: ')';\n",
       "}\n",
       "\n",
       ".xr-dim-list li:not(:last-child):after {\n",
       "  content: ',';\n",
       "  padding-right: 5px;\n",
       "}\n",
       "\n",
       ".xr-has-index {\n",
       "  font-weight: bold;\n",
       "}\n",
       "\n",
       ".xr-var-list,\n",
       ".xr-var-item {\n",
       "  display: contents;\n",
       "}\n",
       "\n",
       ".xr-var-item > div,\n",
       ".xr-var-item label,\n",
       ".xr-var-item > .xr-var-name span {\n",
       "  background-color: var(--xr-background-color-row-even);\n",
       "  margin-bottom: 0;\n",
       "}\n",
       "\n",
       ".xr-var-item > .xr-var-name:hover span {\n",
       "  padding-right: 5px;\n",
       "}\n",
       "\n",
       ".xr-var-list > li:nth-child(odd) > div,\n",
       ".xr-var-list > li:nth-child(odd) > label,\n",
       ".xr-var-list > li:nth-child(odd) > .xr-var-name span {\n",
       "  background-color: var(--xr-background-color-row-odd);\n",
       "}\n",
       "\n",
       ".xr-var-name {\n",
       "  grid-column: 1;\n",
       "}\n",
       "\n",
       ".xr-var-dims {\n",
       "  grid-column: 2;\n",
       "}\n",
       "\n",
       ".xr-var-dtype {\n",
       "  grid-column: 3;\n",
       "  text-align: right;\n",
       "  color: var(--xr-font-color2);\n",
       "}\n",
       "\n",
       ".xr-var-preview {\n",
       "  grid-column: 4;\n",
       "}\n",
       "\n",
       ".xr-var-name,\n",
       ".xr-var-dims,\n",
       ".xr-var-dtype,\n",
       ".xr-preview,\n",
       ".xr-attrs dt {\n",
       "  white-space: nowrap;\n",
       "  overflow: hidden;\n",
       "  text-overflow: ellipsis;\n",
       "  padding-right: 10px;\n",
       "}\n",
       "\n",
       ".xr-var-name:hover,\n",
       ".xr-var-dims:hover,\n",
       ".xr-var-dtype:hover,\n",
       ".xr-attrs dt:hover {\n",
       "  overflow: visible;\n",
       "  width: auto;\n",
       "  z-index: 1;\n",
       "}\n",
       "\n",
       ".xr-var-attrs,\n",
       ".xr-var-data {\n",
       "  display: none;\n",
       "  background-color: var(--xr-background-color) !important;\n",
       "  padding-bottom: 5px !important;\n",
       "}\n",
       "\n",
       ".xr-var-attrs-in:checked ~ .xr-var-attrs,\n",
       ".xr-var-data-in:checked ~ .xr-var-data {\n",
       "  display: block;\n",
       "}\n",
       "\n",
       ".xr-var-data > table {\n",
       "  float: right;\n",
       "}\n",
       "\n",
       ".xr-var-name span,\n",
       ".xr-var-data,\n",
       ".xr-attrs {\n",
       "  padding-left: 25px !important;\n",
       "}\n",
       "\n",
       ".xr-attrs,\n",
       ".xr-var-attrs,\n",
       ".xr-var-data {\n",
       "  grid-column: 1 / -1;\n",
       "}\n",
       "\n",
       "dl.xr-attrs {\n",
       "  padding: 0;\n",
       "  margin: 0;\n",
       "  display: grid;\n",
       "  grid-template-columns: 125px auto;\n",
       "}\n",
       "\n",
       ".xr-attrs dt,\n",
       ".xr-attrs dd {\n",
       "  padding: 0;\n",
       "  margin: 0;\n",
       "  float: left;\n",
       "  padding-right: 10px;\n",
       "  width: auto;\n",
       "}\n",
       "\n",
       ".xr-attrs dt {\n",
       "  font-weight: normal;\n",
       "  grid-column: 1;\n",
       "}\n",
       "\n",
       ".xr-attrs dt:hover span {\n",
       "  display: inline-block;\n",
       "  background: var(--xr-background-color);\n",
       "  padding-right: 10px;\n",
       "}\n",
       "\n",
       ".xr-attrs dd {\n",
       "  grid-column: 2;\n",
       "  white-space: pre-wrap;\n",
       "  word-break: break-all;\n",
       "}\n",
       "\n",
       ".xr-icon-database,\n",
       ".xr-icon-file-text2 {\n",
       "  display: inline-block;\n",
       "  vertical-align: middle;\n",
       "  width: 1em;\n",
       "  height: 1.5em !important;\n",
       "  stroke-width: 0;\n",
       "  stroke: currentColor;\n",
       "  fill: currentColor;\n",
       "}\n",
       "</style><pre class='xr-text-repr-fallback'>&lt;xarray.Dataset&gt;\n",
       "Dimensions:         (x: 1176, y: 959)\n",
       "Coordinates:\n",
       "    lon             (x) float32 -73.0 -72.92 -72.83 -72.75 ... 24.75 24.83 24.92\n",
       "    lat             (y) float32 -79.92 -79.83 -79.75 ... -0.25 -0.1667 -0.08333\n",
       "Dimensions without coordinates: x, y\n",
       "Data variables:\n",
       "    landmask        (y, x) int64 1 1 1 1 1 1 1 1 1 1 1 ... 1 1 1 1 1 1 1 1 1 1 1\n",
       "    coastal         (y, x) int64 0 0 0 0 0 0 0 0 0 0 0 ... 0 0 0 0 0 0 0 0 0 0 0\n",
       "    shore           (y, x) int64 0 0 0 0 0 0 0 0 0 0 0 ... 0 0 0 0 0 0 0 0 0 0 0\n",
       "    coastal_u       (y, x) float64 0.0 0.0 0.0 0.0 0.0 ... 0.0 0.0 0.0 0.0 0.0\n",
       "    coastal_v       (y, x) float64 0.0 0.0 0.0 0.0 0.0 ... 0.0 0.0 0.0 0.0 0.0\n",
       "    distance2shore  (y, x) int64 0 0 0 0 0 0 0 0 0 0 0 ... 0 0 0 0 0 0 0 0 0 0 0\n",
       "    latitude        (y, x) float32 -79.92 -79.92 -79.92 ... -0.08333 -0.08333\n",
       "    longitude       (y, x) float32 -73.0 -72.92 -72.83 ... 24.75 24.83 24.92\n",
       "Attributes:\n",
       "    description:  setup files for simulation\n",
       "    index_lat:    (1, 960)\n",
       "    index_lon:    (1284, 2460)</pre><div class='xr-wrap' hidden><div class='xr-header'><div class='xr-obj-type'>xarray.Dataset</div></div><ul class='xr-sections'><li class='xr-section-item'><input id='section-12fa231f-e3df-42f2-99ad-06a16349cfaa' class='xr-section-summary-in' type='checkbox' disabled ><label for='section-12fa231f-e3df-42f2-99ad-06a16349cfaa' class='xr-section-summary'  title='Expand/collapse section'>Dimensions:</label><div class='xr-section-inline-details'><ul class='xr-dim-list'><li><span>x</span>: 1176</li><li><span>y</span>: 959</li></ul></div><div class='xr-section-details'></div></li><li class='xr-section-item'><input id='section-39674e52-c97d-4570-8f35-95acf8f383e7' class='xr-section-summary-in' type='checkbox'  checked><label for='section-39674e52-c97d-4570-8f35-95acf8f383e7' class='xr-section-summary' >Coordinates: <span>(2)</span></label><div class='xr-section-inline-details'></div><div class='xr-section-details'><ul class='xr-var-list'><li class='xr-var-item'><div class='xr-var-name'><span>lon</span></div><div class='xr-var-dims'>(x)</div><div class='xr-var-dtype'>float32</div><div class='xr-var-preview xr-preview'>-73.0 -72.92 -72.83 ... 24.83 24.92</div><input id='attrs-2e2de8cd-e22b-4fb6-88b4-b5bd16554df9' class='xr-var-attrs-in' type='checkbox' disabled><label for='attrs-2e2de8cd-e22b-4fb6-88b4-b5bd16554df9' title='Show/Hide attributes'><svg class='icon xr-icon-file-text2'><use xlink:href='#icon-file-text2'></use></svg></label><input id='data-8cb534f1-99e8-4477-9f90-36265ef3cb5c' class='xr-var-data-in' type='checkbox'><label for='data-8cb534f1-99e8-4477-9f90-36265ef3cb5c' title='Show/Hide data repr'><svg class='icon xr-icon-database'><use xlink:href='#icon-database'></use></svg></label><div class='xr-var-attrs'><dl class='xr-attrs'></dl></div><div class='xr-var-data'><pre>array([-73.      , -72.916664, -72.833336, ...,  24.75    ,  24.833334,\n",
       "        24.916666], dtype=float32)</pre></div></li><li class='xr-var-item'><div class='xr-var-name'><span>lat</span></div><div class='xr-var-dims'>(y)</div><div class='xr-var-dtype'>float32</div><div class='xr-var-preview xr-preview'>-79.92 -79.83 ... -0.1667 -0.08333</div><input id='attrs-1950f59e-5ce2-4c5f-9766-6247ae16e75f' class='xr-var-attrs-in' type='checkbox' disabled><label for='attrs-1950f59e-5ce2-4c5f-9766-6247ae16e75f' title='Show/Hide attributes'><svg class='icon xr-icon-file-text2'><use xlink:href='#icon-file-text2'></use></svg></label><input id='data-9a4d1251-5bf0-4df3-9240-c28a25918f3e' class='xr-var-data-in' type='checkbox'><label for='data-9a4d1251-5bf0-4df3-9240-c28a25918f3e' title='Show/Hide data repr'><svg class='icon xr-icon-database'><use xlink:href='#icon-database'></use></svg></label><div class='xr-var-attrs'><dl class='xr-attrs'></dl></div><div class='xr-var-data'><pre>array([-79.916664  , -79.833336  , -79.75      , -79.666664  ,\n",
       "       -79.583336  , -79.5       , -79.416664  , -79.333336  ,\n",
       "       -79.25      , -79.166664  , -79.083336  , -79.        ,\n",
       "       -78.916664  , -78.833336  , -78.75      , -78.666664  ,\n",
       "       -78.583336  , -78.5       , -78.416664  , -78.333336  ,\n",
       "       -78.25      , -78.166664  , -78.083336  , -78.        ,\n",
       "       -77.916664  , -77.833336  , -77.75      , -77.666664  ,\n",
       "       -77.583336  , -77.5       , -77.416664  , -77.333336  ,\n",
       "       -77.25      , -77.166664  , -77.083336  , -77.        ,\n",
       "       -76.916664  , -76.833336  , -76.75      , -76.666664  ,\n",
       "       -76.583336  , -76.5       , -76.416664  , -76.333336  ,\n",
       "       -76.25      , -76.166664  , -76.083336  , -76.        ,\n",
       "       -75.916664  , -75.833336  , -75.75      , -75.666664  ,\n",
       "       -75.583336  , -75.5       , -75.416664  , -75.333336  ,\n",
       "       -75.25      , -75.166664  , -75.083336  , -75.        ,\n",
       "       -74.916664  , -74.833336  , -74.75      , -74.666664  ,\n",
       "       -74.583336  , -74.5       , -74.416664  , -74.333336  ,\n",
       "       -74.25      , -74.166664  , -74.083336  , -74.        ,\n",
       "       -73.916664  , -73.833336  , -73.75      , -73.666664  ,\n",
       "       -73.583336  , -73.5       , -73.416664  , -73.333336  ,\n",
       "...\n",
       "        -6.5833335 ,  -6.5       ,  -6.4166665 ,  -6.3333335 ,\n",
       "        -6.25      ,  -6.1666665 ,  -6.0833335 ,  -6.        ,\n",
       "        -5.9166665 ,  -5.8333335 ,  -5.75      ,  -5.6666665 ,\n",
       "        -5.5833335 ,  -5.5       ,  -5.4166665 ,  -5.3333335 ,\n",
       "        -5.25      ,  -5.1666665 ,  -5.0833335 ,  -5.        ,\n",
       "        -4.9166665 ,  -4.8333335 ,  -4.75      ,  -4.6666665 ,\n",
       "        -4.5833335 ,  -4.5       ,  -4.4166665 ,  -4.3333335 ,\n",
       "        -4.25      ,  -4.1666665 ,  -4.0833335 ,  -4.        ,\n",
       "        -3.9166667 ,  -3.8333333 ,  -3.75      ,  -3.6666667 ,\n",
       "        -3.5833333 ,  -3.5       ,  -3.4166667 ,  -3.3333333 ,\n",
       "        -3.25      ,  -3.1666667 ,  -3.0833333 ,  -3.        ,\n",
       "        -2.9166667 ,  -2.8333333 ,  -2.75      ,  -2.6666667 ,\n",
       "        -2.5833333 ,  -2.5       ,  -2.4166667 ,  -2.3333333 ,\n",
       "        -2.25      ,  -2.1666667 ,  -2.0833333 ,  -2.        ,\n",
       "        -1.9166666 ,  -1.8333334 ,  -1.75      ,  -1.6666666 ,\n",
       "        -1.5833334 ,  -1.5       ,  -1.4166666 ,  -1.3333334 ,\n",
       "        -1.25      ,  -1.1666666 ,  -1.0833334 ,  -1.        ,\n",
       "        -0.9166667 ,  -0.8333333 ,  -0.75      ,  -0.6666667 ,\n",
       "        -0.5833333 ,  -0.5       ,  -0.41666666,  -0.33333334,\n",
       "        -0.25      ,  -0.16666667,  -0.08333334], dtype=float32)</pre></div></li></ul></div></li><li class='xr-section-item'><input id='section-e9725d96-6b79-48bb-b036-aeda01542b1a' class='xr-section-summary-in' type='checkbox'  checked><label for='section-e9725d96-6b79-48bb-b036-aeda01542b1a' class='xr-section-summary' >Data variables: <span>(8)</span></label><div class='xr-section-inline-details'></div><div class='xr-section-details'><ul class='xr-var-list'><li class='xr-var-item'><div class='xr-var-name'><span>landmask</span></div><div class='xr-var-dims'>(y, x)</div><div class='xr-var-dtype'>int64</div><div class='xr-var-preview xr-preview'>1 1 1 1 1 1 1 1 ... 1 1 1 1 1 1 1 1</div><input id='attrs-0faa5c1d-7d0a-40d8-9088-798e1bde04ca' class='xr-var-attrs-in' type='checkbox' disabled><label for='attrs-0faa5c1d-7d0a-40d8-9088-798e1bde04ca' title='Show/Hide attributes'><svg class='icon xr-icon-file-text2'><use xlink:href='#icon-file-text2'></use></svg></label><input id='data-c309690e-0f8f-4c5f-b236-c2e90f79c9d1' class='xr-var-data-in' type='checkbox'><label for='data-c309690e-0f8f-4c5f-b236-c2e90f79c9d1' title='Show/Hide data repr'><svg class='icon xr-icon-database'><use xlink:href='#icon-database'></use></svg></label><div class='xr-var-attrs'><dl class='xr-attrs'></dl></div><div class='xr-var-data'><pre>array([[1, 1, 1, ..., 1, 1, 1],\n",
       "       [1, 1, 1, ..., 1, 1, 1],\n",
       "       [1, 1, 1, ..., 1, 1, 1],\n",
       "       ...,\n",
       "       [1, 1, 1, ..., 1, 1, 1],\n",
       "       [1, 1, 1, ..., 1, 1, 1],\n",
       "       [1, 1, 1, ..., 1, 1, 1]])</pre></div></li><li class='xr-var-item'><div class='xr-var-name'><span>coastal</span></div><div class='xr-var-dims'>(y, x)</div><div class='xr-var-dtype'>int64</div><div class='xr-var-preview xr-preview'>0 0 0 0 0 0 0 0 ... 0 0 0 0 0 0 0 0</div><input id='attrs-d2d60616-cc25-4618-a767-729d5899d6bf' class='xr-var-attrs-in' type='checkbox' disabled><label for='attrs-d2d60616-cc25-4618-a767-729d5899d6bf' title='Show/Hide attributes'><svg class='icon xr-icon-file-text2'><use xlink:href='#icon-file-text2'></use></svg></label><input id='data-c3e7964c-467f-4d22-8f7d-8bfa318634f2' class='xr-var-data-in' type='checkbox'><label for='data-c3e7964c-467f-4d22-8f7d-8bfa318634f2' title='Show/Hide data repr'><svg class='icon xr-icon-database'><use xlink:href='#icon-database'></use></svg></label><div class='xr-var-attrs'><dl class='xr-attrs'></dl></div><div class='xr-var-data'><pre>array([[0, 0, 0, ..., 0, 0, 0],\n",
       "       [0, 0, 0, ..., 0, 0, 0],\n",
       "       [0, 0, 0, ..., 0, 0, 0],\n",
       "       ...,\n",
       "       [0, 0, 0, ..., 0, 0, 0],\n",
       "       [0, 0, 0, ..., 0, 0, 0],\n",
       "       [0, 0, 0, ..., 0, 0, 0]])</pre></div></li><li class='xr-var-item'><div class='xr-var-name'><span>shore</span></div><div class='xr-var-dims'>(y, x)</div><div class='xr-var-dtype'>int64</div><div class='xr-var-preview xr-preview'>0 0 0 0 0 0 0 0 ... 0 0 0 0 0 0 0 0</div><input id='attrs-301f8527-02d1-4941-9b4c-43442d058973' class='xr-var-attrs-in' type='checkbox' disabled><label for='attrs-301f8527-02d1-4941-9b4c-43442d058973' title='Show/Hide attributes'><svg class='icon xr-icon-file-text2'><use xlink:href='#icon-file-text2'></use></svg></label><input id='data-00a33069-77cd-4e19-b58c-96551cc62418' class='xr-var-data-in' type='checkbox'><label for='data-00a33069-77cd-4e19-b58c-96551cc62418' title='Show/Hide data repr'><svg class='icon xr-icon-database'><use xlink:href='#icon-database'></use></svg></label><div class='xr-var-attrs'><dl class='xr-attrs'></dl></div><div class='xr-var-data'><pre>array([[0, 0, 0, ..., 0, 0, 0],\n",
       "       [0, 0, 0, ..., 0, 0, 0],\n",
       "       [0, 0, 0, ..., 0, 0, 0],\n",
       "       ...,\n",
       "       [0, 0, 0, ..., 0, 0, 0],\n",
       "       [0, 0, 0, ..., 0, 0, 0],\n",
       "       [0, 0, 0, ..., 0, 0, 0]])</pre></div></li><li class='xr-var-item'><div class='xr-var-name'><span>coastal_u</span></div><div class='xr-var-dims'>(y, x)</div><div class='xr-var-dtype'>float64</div><div class='xr-var-preview xr-preview'>0.0 0.0 0.0 0.0 ... 0.0 0.0 0.0 0.0</div><input id='attrs-caff58c8-7fe1-49c3-a896-6439b8aecc4a' class='xr-var-attrs-in' type='checkbox' disabled><label for='attrs-caff58c8-7fe1-49c3-a896-6439b8aecc4a' title='Show/Hide attributes'><svg class='icon xr-icon-file-text2'><use xlink:href='#icon-file-text2'></use></svg></label><input id='data-5913f650-5886-491e-a50a-45ebc9293efa' class='xr-var-data-in' type='checkbox'><label for='data-5913f650-5886-491e-a50a-45ebc9293efa' title='Show/Hide data repr'><svg class='icon xr-icon-database'><use xlink:href='#icon-database'></use></svg></label><div class='xr-var-attrs'><dl class='xr-attrs'></dl></div><div class='xr-var-data'><pre>array([[0., 0., 0., ..., 0., 0., 0.],\n",
       "       [0., 0., 0., ..., 0., 0., 0.],\n",
       "       [0., 0., 0., ..., 0., 0., 0.],\n",
       "       ...,\n",
       "       [0., 0., 0., ..., 0., 0., 0.],\n",
       "       [0., 0., 0., ..., 0., 0., 0.],\n",
       "       [0., 0., 0., ..., 0., 0., 0.]])</pre></div></li><li class='xr-var-item'><div class='xr-var-name'><span>coastal_v</span></div><div class='xr-var-dims'>(y, x)</div><div class='xr-var-dtype'>float64</div><div class='xr-var-preview xr-preview'>0.0 0.0 0.0 0.0 ... 0.0 0.0 0.0 0.0</div><input id='attrs-6dec4b7f-4652-4723-b91d-7f86fd159a7b' class='xr-var-attrs-in' type='checkbox' disabled><label for='attrs-6dec4b7f-4652-4723-b91d-7f86fd159a7b' title='Show/Hide attributes'><svg class='icon xr-icon-file-text2'><use xlink:href='#icon-file-text2'></use></svg></label><input id='data-ea62d695-426c-4a9f-87ed-4032858c1c1f' class='xr-var-data-in' type='checkbox'><label for='data-ea62d695-426c-4a9f-87ed-4032858c1c1f' title='Show/Hide data repr'><svg class='icon xr-icon-database'><use xlink:href='#icon-database'></use></svg></label><div class='xr-var-attrs'><dl class='xr-attrs'></dl></div><div class='xr-var-data'><pre>array([[0., 0., 0., ..., 0., 0., 0.],\n",
       "       [0., 0., 0., ..., 0., 0., 0.],\n",
       "       [0., 0., 0., ..., 0., 0., 0.],\n",
       "       ...,\n",
       "       [0., 0., 0., ..., 0., 0., 0.],\n",
       "       [0., 0., 0., ..., 0., 0., 0.],\n",
       "       [0., 0., 0., ..., 0., 0., 0.]])</pre></div></li><li class='xr-var-item'><div class='xr-var-name'><span>distance2shore</span></div><div class='xr-var-dims'>(y, x)</div><div class='xr-var-dtype'>int64</div><div class='xr-var-preview xr-preview'>0 0 0 0 0 0 0 0 ... 0 0 0 0 0 0 0 0</div><input id='attrs-81945983-da9e-41a8-a0e7-222237be83aa' class='xr-var-attrs-in' type='checkbox' disabled><label for='attrs-81945983-da9e-41a8-a0e7-222237be83aa' title='Show/Hide attributes'><svg class='icon xr-icon-file-text2'><use xlink:href='#icon-file-text2'></use></svg></label><input id='data-350a8a9f-2882-4f7c-b8be-3e9f8194f9d5' class='xr-var-data-in' type='checkbox'><label for='data-350a8a9f-2882-4f7c-b8be-3e9f8194f9d5' title='Show/Hide data repr'><svg class='icon xr-icon-database'><use xlink:href='#icon-database'></use></svg></label><div class='xr-var-attrs'><dl class='xr-attrs'></dl></div><div class='xr-var-data'><pre>array([[0, 0, 0, ..., 0, 0, 0],\n",
       "       [0, 0, 0, ..., 0, 0, 0],\n",
       "       [0, 0, 0, ..., 0, 0, 0],\n",
       "       ...,\n",
       "       [0, 0, 0, ..., 0, 0, 0],\n",
       "       [0, 0, 0, ..., 0, 0, 0],\n",
       "       [0, 0, 0, ..., 0, 0, 0]])</pre></div></li><li class='xr-var-item'><div class='xr-var-name'><span>latitude</span></div><div class='xr-var-dims'>(y, x)</div><div class='xr-var-dtype'>float32</div><div class='xr-var-preview xr-preview'>-79.92 -79.92 ... -0.08333 -0.08333</div><input id='attrs-645cd8a0-a12c-48b9-9b70-c330981e1a81' class='xr-var-attrs-in' type='checkbox' disabled><label for='attrs-645cd8a0-a12c-48b9-9b70-c330981e1a81' title='Show/Hide attributes'><svg class='icon xr-icon-file-text2'><use xlink:href='#icon-file-text2'></use></svg></label><input id='data-c69303de-dccc-4c9b-abc4-3f5313e22990' class='xr-var-data-in' type='checkbox'><label for='data-c69303de-dccc-4c9b-abc4-3f5313e22990' title='Show/Hide data repr'><svg class='icon xr-icon-database'><use xlink:href='#icon-database'></use></svg></label><div class='xr-var-attrs'><dl class='xr-attrs'></dl></div><div class='xr-var-data'><pre>array([[-79.916664  , -79.916664  , -79.916664  , ..., -79.916664  ,\n",
       "        -79.916664  , -79.916664  ],\n",
       "       [-79.833336  , -79.833336  , -79.833336  , ..., -79.833336  ,\n",
       "        -79.833336  , -79.833336  ],\n",
       "       [-79.75      , -79.75      , -79.75      , ..., -79.75      ,\n",
       "        -79.75      , -79.75      ],\n",
       "       ...,\n",
       "       [ -0.25      ,  -0.25      ,  -0.25      , ...,  -0.25      ,\n",
       "         -0.25      ,  -0.25      ],\n",
       "       [ -0.16666667,  -0.16666667,  -0.16666667, ...,  -0.16666667,\n",
       "         -0.16666667,  -0.16666667],\n",
       "       [ -0.08333334,  -0.08333334,  -0.08333334, ...,  -0.08333334,\n",
       "         -0.08333334,  -0.08333334]], dtype=float32)</pre></div></li><li class='xr-var-item'><div class='xr-var-name'><span>longitude</span></div><div class='xr-var-dims'>(y, x)</div><div class='xr-var-dtype'>float32</div><div class='xr-var-preview xr-preview'>-73.0 -72.92 -72.83 ... 24.83 24.92</div><input id='attrs-28ddef9f-e341-4703-a41b-0f31c87ba75d' class='xr-var-attrs-in' type='checkbox' disabled><label for='attrs-28ddef9f-e341-4703-a41b-0f31c87ba75d' title='Show/Hide attributes'><svg class='icon xr-icon-file-text2'><use xlink:href='#icon-file-text2'></use></svg></label><input id='data-ade7451e-84a1-45d2-89b2-5f6fbd3a9f45' class='xr-var-data-in' type='checkbox'><label for='data-ade7451e-84a1-45d2-89b2-5f6fbd3a9f45' title='Show/Hide data repr'><svg class='icon xr-icon-database'><use xlink:href='#icon-database'></use></svg></label><div class='xr-var-attrs'><dl class='xr-attrs'></dl></div><div class='xr-var-data'><pre>array([[-73.      , -72.916664, -72.833336, ...,  24.75    ,  24.833334,\n",
       "         24.916666],\n",
       "       [-73.      , -72.916664, -72.833336, ...,  24.75    ,  24.833334,\n",
       "         24.916666],\n",
       "       [-73.      , -72.916664, -72.833336, ...,  24.75    ,  24.833334,\n",
       "         24.916666],\n",
       "       ...,\n",
       "       [-73.      , -72.916664, -72.833336, ...,  24.75    ,  24.833334,\n",
       "         24.916666],\n",
       "       [-73.      , -72.916664, -72.833336, ...,  24.75    ,  24.833334,\n",
       "         24.916666],\n",
       "       [-73.      , -72.916664, -72.833336, ...,  24.75    ,  24.833334,\n",
       "         24.916666]], dtype=float32)</pre></div></li></ul></div></li><li class='xr-section-item'><input id='section-da80c869-685f-4f68-aab6-e9ab8a877ba3' class='xr-section-summary-in' type='checkbox'  checked><label for='section-da80c869-685f-4f68-aab6-e9ab8a877ba3' class='xr-section-summary' >Attributes: <span>(3)</span></label><div class='xr-section-inline-details'></div><div class='xr-section-details'><dl class='xr-attrs'><dt><span>description :</span></dt><dd>setup files for simulation</dd><dt><span>index_lat :</span></dt><dd>(1, 960)</dd><dt><span>index_lon :</span></dt><dd>(1284, 2460)</dd></dl></div></li></ul></div></div>"
      ],
      "text/plain": [
       "<xarray.Dataset>\n",
       "Dimensions:         (x: 1176, y: 959)\n",
       "Coordinates:\n",
       "    lon             (x) float32 -73.0 -72.92 -72.83 -72.75 ... 24.75 24.83 24.92\n",
       "    lat             (y) float32 -79.92 -79.83 -79.75 ... -0.25 -0.1667 -0.08333\n",
       "Dimensions without coordinates: x, y\n",
       "Data variables:\n",
       "    landmask        (y, x) int64 1 1 1 1 1 1 1 1 1 1 1 ... 1 1 1 1 1 1 1 1 1 1 1\n",
       "    coastal         (y, x) int64 0 0 0 0 0 0 0 0 0 0 0 ... 0 0 0 0 0 0 0 0 0 0 0\n",
       "    shore           (y, x) int64 0 0 0 0 0 0 0 0 0 0 0 ... 0 0 0 0 0 0 0 0 0 0 0\n",
       "    coastal_u       (y, x) float64 0.0 0.0 0.0 0.0 0.0 ... 0.0 0.0 0.0 0.0 0.0\n",
       "    coastal_v       (y, x) float64 0.0 0.0 0.0 0.0 0.0 ... 0.0 0.0 0.0 0.0 0.0\n",
       "    distance2shore  (y, x) int64 0 0 0 0 0 0 0 0 0 0 0 ... 0 0 0 0 0 0 0 0 0 0 0\n",
       "    latitude        (y, x) float32 -79.92 -79.92 -79.92 ... -0.08333 -0.08333\n",
       "    longitude       (y, x) float32 -73.0 -72.92 -72.83 ... 24.75 24.83 24.92\n",
       "Attributes:\n",
       "    description:  setup files for simulation\n",
       "    index_lat:    (1, 960)\n",
       "    index_lon:    (1284, 2460)"
      ]
     },
     "execution_count": 29,
     "metadata": {},
     "output_type": "execute_result"
    }
   ],
   "source": [
    "ds"
   ]
  },
  {
   "cell_type": "markdown",
   "metadata": {},
   "source": [
    "### Extra. Point Nemo\n",
    "\n",
    "Just a small example to see how accurate it's the algorithm. Let's see if the most distant region in the South Pacific matches with [Point Nemo](https://oceanservice.noaa.gov/facts/nemo.html)."
   ]
  },
  {
   "cell_type": "code",
   "execution_count": 30,
   "metadata": {},
   "outputs": [],
   "source": [
    "indices_south_pacific = {'lat': range(1, 900), 'lon': range(0, 1284)}\n",
    "lat_sp = model.variables['latitude'][indices_south_pacific['lat']].data\n",
    "lon_sp = model.variables['longitude'][indices_south_pacific['lon']].data\n",
    "x_sp, y_sp = np.meshgrid(lon_sp, lat_sp)"
   ]
  },
  {
   "cell_type": "code",
   "execution_count": 31,
   "metadata": {},
   "outputs": [],
   "source": [
    "landmask_sp = make_landmask(file_path, indices_south_pacific)"
   ]
  },
  {
   "cell_type": "code",
   "execution_count": 32,
   "metadata": {},
   "outputs": [],
   "source": [
    "dist_sp = distance_to_shore(landmask_sp)"
   ]
  },
  {
   "cell_type": "code",
   "execution_count": 33,
   "metadata": {},
   "outputs": [],
   "source": [
    "point_nemo = (-48.89, -123.45)"
   ]
  },
  {
   "cell_type": "code",
   "execution_count": 34,
   "metadata": {},
   "outputs": [
    {
     "data": {
      "text/plain": [
       "Text(0.5, 1.0, 'Cells from shore in the South Pacific')"
      ]
     },
     "execution_count": 34,
     "metadata": {},
     "output_type": "execute_result"
    },
    {
     "data": {
      "image/png": "[encoded data removed]",
      "text/plain": [
       "<Figure size 720x360 with 2 Axes>"
      ]
     },
     "metadata": {
      "needs_background": "light"
     },
     "output_type": "display_data"
    }
   ],
   "source": [
    "fig,ax = plt.subplots(figsize=(10,5),\n",
    "                      subplot_kw={'projection': ccrs.PlateCarree()})\n",
    "\n",
    "gl = ax.gridlines(crs=ccrs.PlateCarree(), draw_labels=True,\n",
    "                  linewidth=2, color='gray', alpha=0.5, linestyle='--')\n",
    "gl.top_labels = False\n",
    "gl.right_labels = False\n",
    "ax = plt.axes(projection=ccrs.PlateCarree())\n",
    "ax.set_extent((-180, -75, -60, -5), crs=ccrs.PlateCarree())\n",
    "\n",
    "ax.add_feature(cfeature.LAND, zorder=1)\n",
    "ax.add_feature(cfeature.COASTLINE)\n",
    "ax.gridlines(draw_labels=True, dms=False, x_inline=False, y_inline=False)\n",
    "\n",
    "im = ax.contourf(x_sp, y_sp, dist_sp)\n",
    "\n",
    "ax.scatter(point_nemo[1], point_nemo[0], \n",
    "           s=100, marker='o', color='red', \n",
    "           edgecolors='k', zorder=3, label = 'Point Nemo')\n",
    "\n",
    "\n",
    "plt.legend(shadow=True, loc='upper left')\n",
    "plt.colorbar(im)\n",
    "ax.set_title('Cells from shore in the South Pacific', fontsize=14)"
   ]
  },
  {
   "cell_type": "markdown",
   "metadata": {},
   "source": [
    "> It doesn't match but fair enough..."
   ]
  }
 ],
 "metadata": {
  "kernelspec": {
   "display_name": "Python 3",
   "language": "python",
   "name": "python3"
  },
  "language_info": {
   "codemirror_mode": {
    "name": "ipython",
    "version": 3
   },
   "file_extension": ".py",
   "mimetype": "text/x-python",
   "name": "python",
   "nbconvert_exporter": "python",
   "pygments_lexer": "ipython3",
   "version": "3.6.13"
  }
 },
 "nbformat": 4,
 "nbformat_minor": 4
}
