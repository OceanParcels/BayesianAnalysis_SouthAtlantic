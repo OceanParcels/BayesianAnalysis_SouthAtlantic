{
 "cells": [
  {
   "cell_type": "code",
   "execution_count": 1,
   "id": "f270058e",
   "metadata": {},
   "outputs": [],
   "source": [
    "import numpy as np\n",
    "import pandas as pd\n",
    "import xarray as xr\n",
    "import matplotlib.pyplot as plt"
   ]
  },
  {
   "cell_type": "markdown",
   "id": "ef706a42",
   "metadata": {},
   "source": [
    "I need to figure out a way of translating the river mouth locations to the grid from the model. \n",
    "\n",
    "Idea:\n",
    "\n",
    "- Detect the coastal cell that is closer to the river mouth. \n",
    "- Create the cluster using that cell. "
   ]
  },
  {
   "cell_type": "code",
   "execution_count": 2,
   "id": "fa99afd9",
   "metadata": {},
   "outputs": [],
   "source": [
    "def haversine_distance_two(point_A, point_B):\n",
    "    \"\"\"\n",
    "    Calculate the great circle distance between two points\n",
    "    on the earth (specified in decimal degrees)\n",
    "\n",
    "    All args must be of equal length.    \n",
    "    \"\"\"\n",
    "    lat1, lon1 = point_A\n",
    "    lat2, lon2 = point_B\n",
    "    lon1, lat1, lon2, lat2 = map(np.radians, [lon1, lat1, lon2, lat2])\n",
    "    dlon = lon2 - lon1\n",
    "    dlat = lat2 - lat1\n",
    "\n",
    "    a = np.sin(dlat/2.0)**2 + np.cos(lat1) * np.cos(lat2) * np.sin(dlon/2.0)**2\n",
    "\n",
    "    c = 2 * np.arcsin(np.sqrt(a))\n",
    "    km = 6367 * c\n",
    "    return km\n",
    "\n",
    "def rivers_per_location(DF, loc_coords, radius):\n",
    "    \"\"\"\n",
    "    DF is the River_sources dataframes. loc_coords is the location coordinates.\n",
    "    radius is the radius of in degrees around loc_coords.\n",
    "    Returns the dataframe around loc_coords.\n",
    "    \"\"\"\n",
    "    lat, lon = loc_coords\n",
    "    mask = (DF['X'] <= lon + radius) & (DF['X'] > lon - radius) & (DF['Y'] <= lat + radius) & (DF['Y'] > lat - radius)\n",
    "    new_DF = DF[mask]\n",
    "    return new_DF\n",
    "\n",
    "def region_filters(DF, lon_min, lon_max, lat_min, lat_max):\n",
    "    \"\"\"\n",
    "    DF is the River_sources dataframes. lat_min, lat_max, lon_min, lon_max are the domain limits.\n",
    "    Returns the dataframe only for the region.\n",
    "    \"\"\"\n",
    "    mask = (DF['X'] <= lon_max) & (DF['X'] > lon_min) & (DF['Y'] <= lat_max) & (DF['Y'] > lat_min)\n",
    "    new_DF = DF[mask]\n",
    "    return new_DF"
   ]
  },
  {
   "cell_type": "code",
   "execution_count": 3,
   "id": "fdd2b666",
   "metadata": {},
   "outputs": [],
   "source": [
    "river_sources = pd.read_csv('../data/sources/Lebreton_rivers/PlasticRiverInputs.csv')"
   ]
  },
  {
   "cell_type": "code",
   "execution_count": 4,
   "id": "26bfd6ca",
   "metadata": {},
   "outputs": [],
   "source": [
    "coastal_fields = xr.load_dataset('../coastal_fields.nc')"
   ]
  },
  {
   "cell_type": "code",
   "execution_count": 5,
   "id": "91d429aa",
   "metadata": {},
   "outputs": [
    {
     "data": {
      "text/html": [
       "<div><svg style=\"position: absolute; width: 0; height: 0; overflow: hidden\">\n",
       "<defs>\n",
       "<symbol id=\"icon-database\" viewBox=\"0 0 32 32\">\n",
       "<path d=\"M16 0c-8.837 0-16 2.239-16 5v4c0 2.761 7.163 5 16 5s16-2.239 16-5v-4c0-2.761-7.163-5-16-5z\"></path>\n",
       "<path d=\"M16 17c-8.837 0-16-2.239-16-5v6c0 2.761 7.163 5 16 5s16-2.239 16-5v-6c0 2.761-7.163 5-16 5z\"></path>\n",
       "<path d=\"M16 26c-8.837 0-16-2.239-16-5v6c0 2.761 7.163 5 16 5s16-2.239 16-5v-6c0 2.761-7.163 5-16 5z\"></path>\n",
       "</symbol>\n",
       "<symbol id=\"icon-file-text2\" viewBox=\"0 0 32 32\">\n",
       "<path d=\"M28.681 7.159c-0.694-0.947-1.662-2.053-2.724-3.116s-2.169-2.030-3.116-2.724c-1.612-1.182-2.393-1.319-2.841-1.319h-15.5c-1.378 0-2.5 1.121-2.5 2.5v27c0 1.378 1.122 2.5 2.5 2.5h23c1.378 0 2.5-1.122 2.5-2.5v-19.5c0-0.448-0.137-1.23-1.319-2.841zM24.543 5.457c0.959 0.959 1.712 1.825 2.268 2.543h-4.811v-4.811c0.718 0.556 1.584 1.309 2.543 2.268zM28 29.5c0 0.271-0.229 0.5-0.5 0.5h-23c-0.271 0-0.5-0.229-0.5-0.5v-27c0-0.271 0.229-0.5 0.5-0.5 0 0 15.499-0 15.5 0v7c0 0.552 0.448 1 1 1h7v19.5z\"></path>\n",
       "<path d=\"M23 26h-14c-0.552 0-1-0.448-1-1s0.448-1 1-1h14c0.552 0 1 0.448 1 1s-0.448 1-1 1z\"></path>\n",
       "<path d=\"M23 22h-14c-0.552 0-1-0.448-1-1s0.448-1 1-1h14c0.552 0 1 0.448 1 1s-0.448 1-1 1z\"></path>\n",
       "<path d=\"M23 18h-14c-0.552 0-1-0.448-1-1s0.448-1 1-1h14c0.552 0 1 0.448 1 1s-0.448 1-1 1z\"></path>\n",
       "</symbol>\n",
       "</defs>\n",
       "</svg>\n",
       "<style>/* CSS stylesheet for displaying xarray objects in jupyterlab.\n",
       " *\n",
       " */\n",
       "\n",
       ":root {\n",
       "  --xr-font-color0: var(--jp-content-font-color0, rgba(0, 0, 0, 1));\n",
       "  --xr-font-color2: var(--jp-content-font-color2, rgba(0, 0, 0, 0.54));\n",
       "  --xr-font-color3: var(--jp-content-font-color3, rgba(0, 0, 0, 0.38));\n",
       "  --xr-border-color: var(--jp-border-color2, #e0e0e0);\n",
       "  --xr-disabled-color: var(--jp-layout-color3, #bdbdbd);\n",
       "  --xr-background-color: var(--jp-layout-color0, white);\n",
       "  --xr-background-color-row-even: var(--jp-layout-color1, white);\n",
       "  --xr-background-color-row-odd: var(--jp-layout-color2, #eeeeee);\n",
       "}\n",
       "\n",
       "html[theme=dark],\n",
       "body.vscode-dark {\n",
       "  --xr-font-color0: rgba(255, 255, 255, 1);\n",
       "  --xr-font-color2: rgba(255, 255, 255, 0.54);\n",
       "  --xr-font-color3: rgba(255, 255, 255, 0.38);\n",
       "  --xr-border-color: #1F1F1F;\n",
       "  --xr-disabled-color: #515151;\n",
       "  --xr-background-color: #111111;\n",
       "  --xr-background-color-row-even: #111111;\n",
       "  --xr-background-color-row-odd: #313131;\n",
       "}\n",
       "\n",
       ".xr-wrap {\n",
       "  display: block;\n",
       "  min-width: 300px;\n",
       "  max-width: 700px;\n",
       "}\n",
       "\n",
       ".xr-text-repr-fallback {\n",
       "  /* fallback to plain text repr when CSS is not injected (untrusted notebook) */\n",
       "  display: none;\n",
       "}\n",
       "\n",
       ".xr-header {\n",
       "  padding-top: 6px;\n",
       "  padding-bottom: 6px;\n",
       "  margin-bottom: 4px;\n",
       "  border-bottom: solid 1px var(--xr-border-color);\n",
       "}\n",
       "\n",
       ".xr-header > div,\n",
       ".xr-header > ul {\n",
       "  display: inline;\n",
       "  margin-top: 0;\n",
       "  margin-bottom: 0;\n",
       "}\n",
       "\n",
       ".xr-obj-type,\n",
       ".xr-array-name {\n",
       "  margin-left: 2px;\n",
       "  margin-right: 10px;\n",
       "}\n",
       "\n",
       ".xr-obj-type {\n",
       "  color: var(--xr-font-color2);\n",
       "}\n",
       "\n",
       ".xr-sections {\n",
       "  padding-left: 0 !important;\n",
       "  display: grid;\n",
       "  grid-template-columns: 150px auto auto 1fr 20px 20px;\n",
       "}\n",
       "\n",
       ".xr-section-item {\n",
       "  display: contents;\n",
       "}\n",
       "\n",
       ".xr-section-item input {\n",
       "  display: none;\n",
       "}\n",
       "\n",
       ".xr-section-item input + label {\n",
       "  color: var(--xr-disabled-color);\n",
       "}\n",
       "\n",
       ".xr-section-item input:enabled + label {\n",
       "  cursor: pointer;\n",
       "  color: var(--xr-font-color2);\n",
       "}\n",
       "\n",
       ".xr-section-item input:enabled + label:hover {\n",
       "  color: var(--xr-font-color0);\n",
       "}\n",
       "\n",
       ".xr-section-summary {\n",
       "  grid-column: 1;\n",
       "  color: var(--xr-font-color2);\n",
       "  font-weight: 500;\n",
       "}\n",
       "\n",
       ".xr-section-summary > span {\n",
       "  display: inline-block;\n",
       "  padding-left: 0.5em;\n",
       "}\n",
       "\n",
       ".xr-section-summary-in:disabled + label {\n",
       "  color: var(--xr-font-color2);\n",
       "}\n",
       "\n",
       ".xr-section-summary-in + label:before {\n",
       "  display: inline-block;\n",
       "  content: '►';\n",
       "  font-size: 11px;\n",
       "  width: 15px;\n",
       "  text-align: center;\n",
       "}\n",
       "\n",
       ".xr-section-summary-in:disabled + label:before {\n",
       "  color: var(--xr-disabled-color);\n",
       "}\n",
       "\n",
       ".xr-section-summary-in:checked + label:before {\n",
       "  content: '▼';\n",
       "}\n",
       "\n",
       ".xr-section-summary-in:checked + label > span {\n",
       "  display: none;\n",
       "}\n",
       "\n",
       ".xr-section-summary,\n",
       ".xr-section-inline-details {\n",
       "  padding-top: 4px;\n",
       "  padding-bottom: 4px;\n",
       "}\n",
       "\n",
       ".xr-section-inline-details {\n",
       "  grid-column: 2 / -1;\n",
       "}\n",
       "\n",
       ".xr-section-details {\n",
       "  display: none;\n",
       "  grid-column: 1 / -1;\n",
       "  margin-bottom: 5px;\n",
       "}\n",
       "\n",
       ".xr-section-summary-in:checked ~ .xr-section-details {\n",
       "  display: contents;\n",
       "}\n",
       "\n",
       ".xr-array-wrap {\n",
       "  grid-column: 1 / -1;\n",
       "  display: grid;\n",
       "  grid-template-columns: 20px auto;\n",
       "}\n",
       "\n",
       ".xr-array-wrap > label {\n",
       "  grid-column: 1;\n",
       "  vertical-align: top;\n",
       "}\n",
       "\n",
       ".xr-preview {\n",
       "  color: var(--xr-font-color3);\n",
       "}\n",
       "\n",
       ".xr-array-preview,\n",
       ".xr-array-data {\n",
       "  padding: 0 5px !important;\n",
       "  grid-column: 2;\n",
       "}\n",
       "\n",
       ".xr-array-data,\n",
       ".xr-array-in:checked ~ .xr-array-preview {\n",
       "  display: none;\n",
       "}\n",
       "\n",
       ".xr-array-in:checked ~ .xr-array-data,\n",
       ".xr-array-preview {\n",
       "  display: inline-block;\n",
       "}\n",
       "\n",
       ".xr-dim-list {\n",
       "  display: inline-block !important;\n",
       "  list-style: none;\n",
       "  padding: 0 !important;\n",
       "  margin: 0;\n",
       "}\n",
       "\n",
       ".xr-dim-list li {\n",
       "  display: inline-block;\n",
       "  padding: 0;\n",
       "  margin: 0;\n",
       "}\n",
       "\n",
       ".xr-dim-list:before {\n",
       "  content: '(';\n",
       "}\n",
       "\n",
       ".xr-dim-list:after {\n",
       "  content: ')';\n",
       "}\n",
       "\n",
       ".xr-dim-list li:not(:last-child):after {\n",
       "  content: ',';\n",
       "  padding-right: 5px;\n",
       "}\n",
       "\n",
       ".xr-has-index {\n",
       "  font-weight: bold;\n",
       "}\n",
       "\n",
       ".xr-var-list,\n",
       ".xr-var-item {\n",
       "  display: contents;\n",
       "}\n",
       "\n",
       ".xr-var-item > div,\n",
       ".xr-var-item label,\n",
       ".xr-var-item > .xr-var-name span {\n",
       "  background-color: var(--xr-background-color-row-even);\n",
       "  margin-bottom: 0;\n",
       "}\n",
       "\n",
       ".xr-var-item > .xr-var-name:hover span {\n",
       "  padding-right: 5px;\n",
       "}\n",
       "\n",
       ".xr-var-list > li:nth-child(odd) > div,\n",
       ".xr-var-list > li:nth-child(odd) > label,\n",
       ".xr-var-list > li:nth-child(odd) > .xr-var-name span {\n",
       "  background-color: var(--xr-background-color-row-odd);\n",
       "}\n",
       "\n",
       ".xr-var-name {\n",
       "  grid-column: 1;\n",
       "}\n",
       "\n",
       ".xr-var-dims {\n",
       "  grid-column: 2;\n",
       "}\n",
       "\n",
       ".xr-var-dtype {\n",
       "  grid-column: 3;\n",
       "  text-align: right;\n",
       "  color: var(--xr-font-color2);\n",
       "}\n",
       "\n",
       ".xr-var-preview {\n",
       "  grid-column: 4;\n",
       "}\n",
       "\n",
       ".xr-var-name,\n",
       ".xr-var-dims,\n",
       ".xr-var-dtype,\n",
       ".xr-preview,\n",
       ".xr-attrs dt {\n",
       "  white-space: nowrap;\n",
       "  overflow: hidden;\n",
       "  text-overflow: ellipsis;\n",
       "  padding-right: 10px;\n",
       "}\n",
       "\n",
       ".xr-var-name:hover,\n",
       ".xr-var-dims:hover,\n",
       ".xr-var-dtype:hover,\n",
       ".xr-attrs dt:hover {\n",
       "  overflow: visible;\n",
       "  width: auto;\n",
       "  z-index: 1;\n",
       "}\n",
       "\n",
       ".xr-var-attrs,\n",
       ".xr-var-data {\n",
       "  display: none;\n",
       "  background-color: var(--xr-background-color) !important;\n",
       "  padding-bottom: 5px !important;\n",
       "}\n",
       "\n",
       ".xr-var-attrs-in:checked ~ .xr-var-attrs,\n",
       ".xr-var-data-in:checked ~ .xr-var-data {\n",
       "  display: block;\n",
       "}\n",
       "\n",
       ".xr-var-data > table {\n",
       "  float: right;\n",
       "}\n",
       "\n",
       ".xr-var-name span,\n",
       ".xr-var-data,\n",
       ".xr-attrs {\n",
       "  padding-left: 25px !important;\n",
       "}\n",
       "\n",
       ".xr-attrs,\n",
       ".xr-var-attrs,\n",
       ".xr-var-data {\n",
       "  grid-column: 1 / -1;\n",
       "}\n",
       "\n",
       "dl.xr-attrs {\n",
       "  padding: 0;\n",
       "  margin: 0;\n",
       "  display: grid;\n",
       "  grid-template-columns: 125px auto;\n",
       "}\n",
       "\n",
       ".xr-attrs dt,\n",
       ".xr-attrs dd {\n",
       "  padding: 0;\n",
       "  margin: 0;\n",
       "  float: left;\n",
       "  padding-right: 10px;\n",
       "  width: auto;\n",
       "}\n",
       "\n",
       ".xr-attrs dt {\n",
       "  font-weight: normal;\n",
       "  grid-column: 1;\n",
       "}\n",
       "\n",
       ".xr-attrs dt:hover span {\n",
       "  display: inline-block;\n",
       "  background: var(--xr-background-color);\n",
       "  padding-right: 10px;\n",
       "}\n",
       "\n",
       ".xr-attrs dd {\n",
       "  grid-column: 2;\n",
       "  white-space: pre-wrap;\n",
       "  word-break: break-all;\n",
       "}\n",
       "\n",
       ".xr-icon-database,\n",
       ".xr-icon-file-text2 {\n",
       "  display: inline-block;\n",
       "  vertical-align: middle;\n",
       "  width: 1em;\n",
       "  height: 1.5em !important;\n",
       "  stroke-width: 0;\n",
       "  stroke: currentColor;\n",
       "  fill: currentColor;\n",
       "}\n",
       "</style><pre class='xr-text-repr-fallback'>&lt;xarray.DataArray &#x27;lon&#x27; (x: 1176)&gt;\n",
       "array([-73.      , -72.916664, -72.833336, ...,  24.75    ,  24.833334,\n",
       "        24.916666], dtype=float32)\n",
       "Coordinates:\n",
       "    lon      (x) float32 -73.0 -72.92 -72.83 -72.75 ... 24.67 24.75 24.83 24.92\n",
       "Dimensions without coordinates: x</pre><div class='xr-wrap' hidden><div class='xr-header'><div class='xr-obj-type'>xarray.DataArray</div><div class='xr-array-name'>'lon'</div><ul class='xr-dim-list'><li><span>x</span>: 1176</li></ul></div><ul class='xr-sections'><li class='xr-section-item'><div class='xr-array-wrap'><input id='section-fb854f39-108f-4df0-af31-b7e05be22fc6' class='xr-array-in' type='checkbox' checked><label for='section-fb854f39-108f-4df0-af31-b7e05be22fc6' title='Show/hide data repr'><svg class='icon xr-icon-database'><use xlink:href='#icon-database'></use></svg></label><div class='xr-array-preview xr-preview'><span>-73.0 -72.92 -72.83 -72.75 -72.67 ... 24.58 24.67 24.75 24.83 24.92</span></div><div class='xr-array-data'><pre>array([-73.      , -72.916664, -72.833336, ...,  24.75    ,  24.833334,\n",
       "        24.916666], dtype=float32)</pre></div></div></li><li class='xr-section-item'><input id='section-52c97b8d-ec13-4023-9cfd-6c3346d366ae' class='xr-section-summary-in' type='checkbox'  checked><label for='section-52c97b8d-ec13-4023-9cfd-6c3346d366ae' class='xr-section-summary' >Coordinates: <span>(1)</span></label><div class='xr-section-inline-details'></div><div class='xr-section-details'><ul class='xr-var-list'><li class='xr-var-item'><div class='xr-var-name'><span>lon</span></div><div class='xr-var-dims'>(x)</div><div class='xr-var-dtype'>float32</div><div class='xr-var-preview xr-preview'>-73.0 -72.92 -72.83 ... 24.83 24.92</div><input id='attrs-85ebaf34-8071-4b38-89a6-0115dcb4ab24' class='xr-var-attrs-in' type='checkbox' disabled><label for='attrs-85ebaf34-8071-4b38-89a6-0115dcb4ab24' title='Show/Hide attributes'><svg class='icon xr-icon-file-text2'><use xlink:href='#icon-file-text2'></use></svg></label><input id='data-ca64a54b-adc8-4335-bdf2-1077c7d2fa27' class='xr-var-data-in' type='checkbox'><label for='data-ca64a54b-adc8-4335-bdf2-1077c7d2fa27' title='Show/Hide data repr'><svg class='icon xr-icon-database'><use xlink:href='#icon-database'></use></svg></label><div class='xr-var-attrs'><dl class='xr-attrs'></dl></div><div class='xr-var-data'><pre>array([-73.      , -72.916664, -72.833336, ...,  24.75    ,  24.833334,\n",
       "        24.916666], dtype=float32)</pre></div></li></ul></div></li><li class='xr-section-item'><input id='section-c58f6747-862e-4777-b2ab-831c5b2fd71b' class='xr-section-summary-in' type='checkbox' disabled ><label for='section-c58f6747-862e-4777-b2ab-831c5b2fd71b' class='xr-section-summary'  title='Expand/collapse section'>Attributes: <span>(0)</span></label><div class='xr-section-inline-details'></div><div class='xr-section-details'><dl class='xr-attrs'></dl></div></li></ul></div></div>"
      ],
      "text/plain": [
       "<xarray.DataArray 'lon' (x: 1176)>\n",
       "array([-73.      , -72.916664, -72.833336, ...,  24.75    ,  24.833334,\n",
       "        24.916666], dtype=float32)\n",
       "Coordinates:\n",
       "    lon      (x) float32 -73.0 -72.92 -72.83 -72.75 ... 24.67 24.75 24.83 24.92\n",
       "Dimensions without coordinates: x"
      ]
     },
     "execution_count": 5,
     "metadata": {},
     "output_type": "execute_result"
    }
   ],
   "source": [
    "coastal_fields.lon"
   ]
  },
  {
   "cell_type": "code",
   "execution_count": 6,
   "id": "2bf59538",
   "metadata": {},
   "outputs": [],
   "source": [
    "coast = coastal_fields.coastal.values\n",
    "lats = coastal_fields.lat.values\n",
    "lons = coastal_fields.lon.values\n",
    "\n",
    "X = coastal_fields.lon_mesh\n",
    "Y = coastal_fields.lat_mesh"
   ]
  },
  {
   "cell_type": "code",
   "execution_count": 20,
   "id": "a1871773",
   "metadata": {},
   "outputs": [],
   "source": [
    "iy_coast, ix_coast = np.where(coast==1)\n",
    "lat_coast = lats[iy_coast]\n",
    "lon_coast = lons[ix_coast]"
   ]
  },
  {
   "cell_type": "code",
   "execution_count": 38,
   "id": "6a7518e8",
   "metadata": {},
   "outputs": [],
   "source": [
    "def nearest_coastal_cell(latidute, longitude, coord_lat, coord_lon):    \n",
    "    \"\"\"\n",
    "    Function to find the index of the closest point to a certain lon/lat value.\n",
    "    \n",
    "    latidute and longitude are the dimensinal 1D arrays of the grid, with the same length.\n",
    "    coord_lat and coord_lon are the coordinates of a point.\n",
    "    \"\"\"\n",
    "    \n",
    "    distance = np.sqrt((longitude-coord_lon)**2 + (latidute-coord_lat)**2)                     \n",
    "    index = distance.argmin()               \n",
    "        \n",
    "    return index"
   ]
  },
  {
   "cell_type": "code",
   "execution_count": 29,
   "id": "16c8bb40",
   "metadata": {},
   "outputs": [
    {
     "data": {
      "text/plain": [
       "4777"
      ]
     },
     "execution_count": 29,
     "metadata": {},
     "output_type": "execute_result"
    }
   ],
   "source": [
    "nearest_coastal_cell(lat_coast, lon_coast, -10, -30)"
   ]
  },
  {
   "cell_type": "markdown",
   "id": "ac16cd7b",
   "metadata": {},
   "source": [
    "We select a smaller region for the analysis."
   ]
  },
  {
   "cell_type": "code",
   "execution_count": 11,
   "id": "8608625d",
   "metadata": {},
   "outputs": [],
   "source": [
    "South_Atlantic_region = (-70, 25, -50, -5)"
   ]
  },
  {
   "cell_type": "code",
   "execution_count": 12,
   "id": "44bda6db",
   "metadata": {},
   "outputs": [],
   "source": [
    "SA_rivers = region_filters(river_sources, *South_Atlantic_region)"
   ]
  },
  {
   "cell_type": "code",
   "execution_count": 14,
   "id": "ea76cf6b",
   "metadata": {},
   "outputs": [],
   "source": [
    "sorted_rivers = SA_rivers.sort_values('i_high', ascending=False)\n",
    "sorted_rivers = sorted_rivers.reset_index()"
   ]
  },
  {
   "cell_type": "code",
   "execution_count": 39,
   "id": "45298038",
   "metadata": {},
   "outputs": [
    {
     "name": "stdout",
     "output_type": "stream",
     "text": [
      "-35.0375 -6.2875\n",
      "4833\n",
      "-35.0 -6.3333335\n"
     ]
    },
    {
     "data": {
      "text/plain": [
       "<matplotlib.legend.Legend at 0x7fad7af16fd0>"
      ]
     },
     "execution_count": 39,
     "metadata": {},
     "output_type": "execute_result"
    },
    {
     "data": {
      "image/png": "[encoded data removed]",
      "text/plain": [
       "<Figure size 432x288 with 1 Axes>"
      ]
     },
     "metadata": {
      "needs_background": "light"
     },
     "output_type": "display_data"
    }
   ],
   "source": [
    "N = 300\n",
    "\n",
    "x_lon = sorted_rivers.iloc[N].X\n",
    "x_lat = sorted_rivers.iloc[N].Y\n",
    "\n",
    "print(x_lon, x_lat)\n",
    "n_index = nearest_coastal_cell(lat_coast, lon_coast, x_lat, x_lon)\n",
    "print(n_index)\n",
    "print(lon_coast[n_index], lat_coast[n_index])\n",
    "\n",
    "res = 1\n",
    "plt.pcolormesh(X,Y, coast,shading='auto')\n",
    "plt.scatter(x_lon, x_lat, label='lebreton')\n",
    "plt.scatter(lon_coast[n_index], lat_coast[n_index], label='closest')\n",
    "plt.xlim(x_lon-res, x_lon+res)\n",
    "plt.ylim(x_lat-res, x_lat+res)\n",
    "plt.legend()"
   ]
  },
  {
   "cell_type": "code",
   "execution_count": null,
   "id": "70c8828b",
   "metadata": {},
   "outputs": [],
   "source": [
    "def "
   ]
  },
  {
   "cell_type": "code",
   "execution_count": 79,
   "id": "8a8f4a2b",
   "metadata": {},
   "outputs": [],
   "source": [
    "N = 300\n",
    "coordinates = np.zeros((N, 2))\n",
    "\n",
    "for i in range(N):\n",
    "    x_lon = sorted_rivers.iloc[i].X\n",
    "    x_lat = sorted_rivers.iloc[i].Y\n",
    "\n",
    "    n_index = nearest_coastal_cell(lat_coast, lon_coast, x_lat, x_lon)\n",
    "    coordinates[i,:] = (lon_coast[n_index], lat_coast[n_index])"
   ]
  },
  {
   "cell_type": "code",
   "execution_count": 80,
   "id": "76a92e44",
   "metadata": {},
   "outputs": [
    {
     "data": {
      "text/plain": [
       "(-73.0, 24.916666)"
      ]
     },
     "execution_count": 80,
     "metadata": {},
     "output_type": "execute_result"
    }
   ],
   "source": [
    "lons.min(), lons.max()"
   ]
  },
  {
   "cell_type": "code",
   "execution_count": 110,
   "id": "48481a78",
   "metadata": {},
   "outputs": [],
   "source": [
    "hist, _,_ = np.histogram2d(coordinates[:, 0], coordinates[:, 0], bins=coast.shape,\n",
    "                            range=[[lons.min(), lons.max()], [lats.min(), lats.max()]])"
   ]
  },
  {
   "cell_type": "code",
   "execution_count": 111,
   "id": "49cd1eec",
   "metadata": {},
   "outputs": [
    {
     "data": {
      "text/plain": [
       "241.0"
      ]
     },
     "execution_count": 111,
     "metadata": {},
     "output_type": "execute_result"
    }
   ],
   "source": [
    "np.sum(hist)"
   ]
  },
  {
   "cell_type": "code",
   "execution_count": 112,
   "id": "2a1a44a9",
   "metadata": {},
   "outputs": [],
   "source": [
    "%matplotlib inline"
   ]
  },
  {
   "cell_type": "code",
   "execution_count": 114,
   "id": "4c8315eb",
   "metadata": {},
   "outputs": [
    {
     "name": "stderr",
     "output_type": "stream",
     "text": [
      "/opt/miniconda3/envs/py3_parcels/lib/python3.6/site-packages/ipykernel_launcher.py:1: MatplotlibDeprecationWarning: shading='flat' when X and Y have the same dimensions as C is deprecated since 3.3.  Either specify the corners of the quadrilaterals with X and Y, or pass shading='auto', 'nearest' or 'gouraud', or set rcParams['pcolor.shading'].  This will become an error two minor releases later.\n",
      "  \"\"\"Entry point for launching an IPython kernel.\n"
     ]
    },
    {
     "data": {
      "text/plain": [
       "<matplotlib.collections.PathCollection at 0x7fad0510be48>"
      ]
     },
     "execution_count": 114,
     "metadata": {},
     "output_type": "execute_result"
    },
    {
     "data": {
      "image/png": "[encoded data removed]",
      "text/plain": [
       "<Figure size 432x288 with 1 Axes>"
      ]
     },
     "metadata": {
      "needs_background": "light"
     },
     "output_type": "display_data"
    }
   ],
   "source": [
    "plt.pcolormesh(X, Y, coast)\n",
    "plt.scatter(coordinates[:,0], coordinates[:, 1])"
   ]
  },
  {
   "cell_type": "code",
   "execution_count": 106,
   "id": "b50770cc",
   "metadata": {},
   "outputs": [],
   "source": [
    "%matplotlib inline"
   ]
  },
  {
   "cell_type": "code",
   "execution_count": 107,
   "id": "67a556b7",
   "metadata": {},
   "outputs": [
    {
     "data": {
      "text/plain": [
       "<matplotlib.collections.QuadMesh at 0x7facedf867b8>"
      ]
     },
     "execution_count": 107,
     "metadata": {},
     "output_type": "execute_result"
    },
    {
     "data": {
      "image/png": "[encoded data removed]",
      "text/plain": [
       "<Figure size 432x288 with 1 Axes>"
      ]
     },
     "metadata": {
      "needs_background": "light"
     },
     "output_type": "display_data"
    }
   ],
   "source": [
    "plt.pcolormesh(X, Y, hist, shading='auto')"
   ]
  },
  {
   "cell_type": "code",
   "execution_count": null,
   "id": "f2b1126d",
   "metadata": {},
   "outputs": [],
   "source": []
  }
 ],
 "metadata": {
  "kernelspec": {
   "display_name": "Python 3",
   "language": "python",
   "name": "python3"
  },
  "language_info": {
   "codemirror_mode": {
    "name": "ipython",
    "version": 3
   },
   "file_extension": ".py",
   "mimetype": "text/x-python",
   "name": "python",
   "nbconvert_exporter": "python",
   "pygments_lexer": "ipython3",
   "version": "3.6.13"
  }
 },
 "nbformat": 4,
 "nbformat_minor": 5
}
