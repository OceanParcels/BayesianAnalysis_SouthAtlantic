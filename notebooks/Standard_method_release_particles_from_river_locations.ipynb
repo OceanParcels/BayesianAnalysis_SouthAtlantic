{
 "cells": [
  {
   "cell_type": "markdown",
   "id": "2d99176d",
   "metadata": {},
   "source": [
    "I need to figure out a way of translating the river mouth locations to the grid from the model. \n",
    "\n",
    "TOC:\n",
    "1. read shapefiles (Lebreton or Meijer)\n",
    "2. split Point objects.\n",
    "3. bin the rivers into the coastal cells\n",
    "4. Cluster the rivers in N groups\n",
    "5. generate initial conditions for cluster\n",
    "    - save the river coord inside the cluster\n",
    "    - generate delayed realease randomized\n",
    "    - save them, sneaky beasts\n",
    "6. Compute priors."
   ]
  },
  {
   "cell_type": "code",
   "execution_count": 2,
   "id": "f270058e",
   "metadata": {},
   "outputs": [],
   "source": [
    "import numpy as np\n",
    "import pandas as pd\n",
    "import xarray as xr\n",
    "import geopandas as gpd\n",
    "import matplotlib.pyplot as plt\n",
    "\n",
    "import cartopy.crs as ccrs\n",
    "import cartopy.feature as cfeature\n",
    "import matplotlib.cm as cm\n",
    "\n",
    "from matplotlib.patches import Patch\n",
    "from matplotlib.lines import Line2D\n",
    "from matplotlib.patches import Rectangle\n",
    "\n",
    "import random"
   ]
  },
  {
   "cell_type": "code",
   "execution_count": 3,
   "id": "a62040d1",
   "metadata": {},
   "outputs": [],
   "source": [
    "def haversine_distance_two(point_A, point_B):\n",
    "    \"\"\"\n",
    "    Calculate the great circle distance between two points\n",
    "    on the earth (specified in decimal degrees)\n",
    "\n",
    "    All args must be of equal length.    \n",
    "    \"\"\"\n",
    "    lat1, lon1 = point_A\n",
    "    lat2, lon2 = point_B\n",
    "    lon1, lat1, lon2, lat2 = map(np.radians, [lon1, lat1, lon2, lat2])\n",
    "    dlon = lon2 - lon1\n",
    "    dlat = lat2 - lat1\n",
    "\n",
    "    a = np.sin(dlat/2.0)**2 + np.cos(lat1) * np.cos(lat2) * np.sin(dlon/2.0)**2\n",
    "\n",
    "    c = 2 * np.arcsin(np.sqrt(a))\n",
    "    km = 6367 * c\n",
    "    return km\n",
    "\n",
    "\n",
    "def region_filters(DF, lon_min, lon_max, lat_min, lat_max, shapefile=False):\n",
    "    \"\"\"\n",
    "    DF is the River_sources dataframes. lat_min, lat_max, lon_min, lon_max are the domain limits.\n",
    "    Returns the dataframe only for the region.\n",
    "    \"\"\"\n",
    "    if shapefile:\n",
    "        X = DF.geometry.x\n",
    "        Y = DF.geometry.y\n",
    "    else:\n",
    "        X = DF['X']\n",
    "        Y = DF['Y']\n",
    "        \n",
    "    mask = (X <= lon_max) & (X > lon_min) & (Y <= lat_max) & (Y > lat_min)\n",
    "    \n",
    "    new_DF = DF[mask]\n",
    "    return new_DF\n",
    "    "
   ]
  },
  {
   "cell_type": "code",
   "execution_count": 4,
   "id": "ecca60eb",
   "metadata": {},
   "outputs": [],
   "source": [
    "coastal_fields = xr.load_dataset('../coastal_fields.nc')"
   ]
  },
  {
   "cell_type": "code",
   "execution_count": 5,
   "id": "d53c453d",
   "metadata": {},
   "outputs": [],
   "source": [
    "coast = coastal_fields.coast.values\n",
    "lats = coastal_fields.lat.values\n",
    "lons = coastal_fields.lon.values\n",
    "\n",
    "X = coastal_fields.lon_mesh\n",
    "Y = coastal_fields.lat_mesh"
   ]
  },
  {
   "cell_type": "code",
   "execution_count": 6,
   "id": "17206bf6",
   "metadata": {},
   "outputs": [],
   "source": [
    "iy_coast, ix_coast = np.where(coast==1)\n",
    "lat_coast = lats[iy_coast]\n",
    "lon_coast = lons[ix_coast]"
   ]
  },
  {
   "cell_type": "code",
   "execution_count": 7,
   "id": "5acc9310",
   "metadata": {},
   "outputs": [],
   "source": [
    "def nearest_coastal_cell(latidute, longitude, coord_lat, coord_lon):    \n",
    "    \"\"\"\n",
    "    Function to find the index of the closest point to a certain lon/lat value.\n",
    "    \n",
    "    latidute and longitude are the dimensinal 1D arrays of the grid, with the same length.\n",
    "    coord_lat and coord_lon are the coordinates of a point.\n",
    "    \"\"\"\n",
    "    \n",
    "    distance = np.sqrt((longitude-coord_lon)**2 + (latidute-coord_lat)**2)                     \n",
    "    index = distance.argmin()               \n",
    "        \n",
    "    return index"
   ]
  },
  {
   "cell_type": "code",
   "execution_count": 8,
   "id": "b6142e83",
   "metadata": {},
   "outputs": [],
   "source": [
    "South_Atlantic_region = (-70, 25, -50, -5)"
   ]
  },
  {
   "cell_type": "markdown",
   "id": "464ba358",
   "metadata": {},
   "source": [
    "# 1. Loading data from GIS shapefiles"
   ]
  },
  {
   "cell_type": "code",
   "execution_count": 9,
   "id": "3e3cee5f",
   "metadata": {},
   "outputs": [],
   "source": [
    "def convert_geopandas2pandas(path):\n",
    "    '''Replaces the geometry column with a X and Y columns\n",
    "    There no built-in function for this in geopandas! \n",
    "    '''\n",
    "    geoDF = gpd.read_file(path)\n",
    "    L = len(geoDF)\n",
    "    coord = np.zeros((L,2))\n",
    "    coord[:, 0] = geoDF.geometry.x\n",
    "    coord[:, 1] = geoDF.geometry.y\n",
    "    aux = pd.DataFrame(coord, columns=['X','Y'])\n",
    "    geoDF.drop(columns=['geometry'], inplace=True)\n",
    "    geoDF = pd.concat([geoDF, aux], axis=1)\n",
    "    \n",
    "    return geoDF"
   ]
  },
  {
   "cell_type": "code",
   "execution_count": 10,
   "id": "bcf9aa4c",
   "metadata": {},
   "outputs": [],
   "source": [
    "path = '../data/sources/Meijer2021_midpoint_emissions/' \n",
    "meijer = convert_geopandas2pandas(path)"
   ]
  },
  {
   "cell_type": "code",
   "execution_count": 11,
   "id": "e982c1b6",
   "metadata": {},
   "outputs": [],
   "source": [
    "meijer.rename(columns={'dots_exten':'emissions'}, inplace=True)"
   ]
  },
  {
   "cell_type": "code",
   "execution_count": 12,
   "id": "61d51089",
   "metadata": {},
   "outputs": [],
   "source": [
    "df = meijer.copy()"
   ]
  },
  {
   "cell_type": "code",
   "execution_count": 13,
   "id": "632c23a1",
   "metadata": {},
   "outputs": [],
   "source": [
    "df['emissions'] = df['emissions']/df['emissions'].sum()"
   ]
  },
  {
   "cell_type": "code",
   "execution_count": 14,
   "id": "c98ea534",
   "metadata": {},
   "outputs": [
    {
     "data": {
      "text/html": [
       "<div>\n",
       "<style scoped>\n",
       "    .dataframe tbody tr th:only-of-type {\n",
       "        vertical-align: middle;\n",
       "    }\n",
       "\n",
       "    .dataframe tbody tr th {\n",
       "        vertical-align: top;\n",
       "    }\n",
       "\n",
       "    .dataframe thead th {\n",
       "        text-align: right;\n",
       "    }\n",
       "</style>\n",
       "<table border=\"1\" class=\"dataframe\">\n",
       "  <thead>\n",
       "    <tr style=\"text-align: right;\">\n",
       "      <th></th>\n",
       "      <th>emissions</th>\n",
       "      <th>X</th>\n",
       "      <th>Y</th>\n",
       "    </tr>\n",
       "  </thead>\n",
       "  <tbody>\n",
       "    <tr>\n",
       "      <th>0</th>\n",
       "      <td>0.164904</td>\n",
       "      <td>168.797917</td>\n",
       "      <td>-46.580833</td>\n",
       "    </tr>\n",
       "    <tr>\n",
       "      <th>1</th>\n",
       "      <td>0.124932</td>\n",
       "      <td>168.348750</td>\n",
       "      <td>-46.447083</td>\n",
       "    </tr>\n",
       "    <tr>\n",
       "      <th>2</th>\n",
       "      <td>1.213370</td>\n",
       "      <td>168.337083</td>\n",
       "      <td>-46.418750</td>\n",
       "    </tr>\n",
       "    <tr>\n",
       "      <th>3</th>\n",
       "      <td>0.121138</td>\n",
       "      <td>168.021250</td>\n",
       "      <td>-46.357917</td>\n",
       "    </tr>\n",
       "    <tr>\n",
       "      <th>4</th>\n",
       "      <td>0.197533</td>\n",
       "      <td>169.811250</td>\n",
       "      <td>-46.343750</td>\n",
       "    </tr>\n",
       "  </tbody>\n",
       "</table>\n",
       "</div>"
      ],
      "text/plain": [
       "   emissions           X          Y\n",
       "0   0.164904  168.797917 -46.580833\n",
       "1   0.124932  168.348750 -46.447083\n",
       "2   1.213370  168.337083 -46.418750\n",
       "3   0.121138  168.021250 -46.357917\n",
       "4   0.197533  169.811250 -46.343750"
      ]
     },
     "execution_count": 14,
     "metadata": {},
     "output_type": "execute_result"
    }
   ],
   "source": [
    "meijer.head()"
   ]
  },
  {
   "cell_type": "code",
   "execution_count": 15,
   "id": "bd346b63",
   "metadata": {},
   "outputs": [],
   "source": [
    "meijer.to_csv('../data/sources/Meijer2021_midpoint_emissions.csv')"
   ]
  },
  {
   "cell_type": "markdown",
   "id": "2564cdfe",
   "metadata": {},
   "source": [
    "# 2. "
   ]
  },
  {
   "cell_type": "code",
   "execution_count": 16,
   "id": "31eebb32",
   "metadata": {},
   "outputs": [],
   "source": [
    "def rivers2coastalgrid(DF, coastal_fields):\n",
    "    \n",
    "    N = len(DF)\n",
    "    \n",
    "    coast = coastal_fields.coast.values\n",
    "    lats = coastal_fields.lat.values\n",
    "    lons = coastal_fields.lon.values\n",
    "    iy_coast, ix_coast = np.where(coast==1)\n",
    "    lat_coast = lats[iy_coast]\n",
    "    lon_coast = lons[ix_coast]\n",
    "\n",
    "    new_coordinates = np.zeros((N, 2)) \n",
    "\n",
    "    for i in range(N):\n",
    "        x_lon = DF.iloc[i].X\n",
    "        x_lat = DF.iloc[i].Y\n",
    "\n",
    "        n_index = nearest_coastal_cell(lat_coast, lon_coast, x_lat, x_lon)\n",
    "        new_coordinates[i,:] = (lon_coast[n_index], lat_coast[n_index])\n",
    "        \n",
    "    aux = pd.DataFrame(new_coordinates, columns=['X_bin', 'Y_bin'], index=DF.index)\n",
    "    new_DF = pd.concat([DF, aux], axis=1)\n",
    "    \n",
    "    counts = new_DF.groupby(['X_bin', 'Y_bin']).count().loc[:, 'X'].values\n",
    "    new_DF = new_DF.groupby(['X_bin', 'Y_bin']).sum()\n",
    "    new_DF['merged_rivers'] = counts\n",
    "    new_DF.reset_index(inplace=True)\n",
    "    new_DF.drop(labels=['X', 'Y'], axis=1, inplace=True)\n",
    "\n",
    "    return new_DF"
   ]
  },
  {
   "cell_type": "markdown",
   "id": "ad213757",
   "metadata": {},
   "source": [
    "**How many rivers from the top 1000 rivers are there in the South Atlantic?**"
   ]
  },
  {
   "cell_type": "code",
   "execution_count": 17,
   "id": "e026a15d",
   "metadata": {},
   "outputs": [],
   "source": [
    "df_sort = df.sort_values(['emissions'], ascending=False)"
   ]
  },
  {
   "cell_type": "code",
   "execution_count": 18,
   "id": "a0a4f726",
   "metadata": {},
   "outputs": [],
   "source": [
    "df_1000 = df_sort[:1000]"
   ]
  },
  {
   "cell_type": "code",
   "execution_count": 19,
   "id": "8a74b586",
   "metadata": {},
   "outputs": [],
   "source": [
    "SA_1000_share, _ = region_filters(df_1000, *South_Atlantic_region).shape"
   ]
  },
  {
   "cell_type": "code",
   "execution_count": 20,
   "id": "aa8dda1e",
   "metadata": {},
   "outputs": [
    {
     "data": {
      "text/plain": [
       "47"
      ]
     },
     "execution_count": 20,
     "metadata": {},
     "output_type": "execute_result"
    }
   ],
   "source": [
    "SA_1000_share"
   ]
  },
  {
   "cell_type": "markdown",
   "id": "0c5f5c14",
   "metadata": {},
   "source": [
    "47 of the top 1000 rivers are in the South Atlantic\n",
    "\n",
    "-----"
   ]
  },
  {
   "cell_type": "code",
   "execution_count": 21,
   "id": "83f8cffd",
   "metadata": {},
   "outputs": [],
   "source": [
    "sa_meijer = region_filters(meijer, *South_Atlantic_region)\n",
    "sa_meijer = sa_meijer.sort_values(['emissions'], ascending=False)"
   ]
  },
  {
   "cell_type": "code",
   "execution_count": 47,
   "id": "2d93ec84",
   "metadata": {},
   "outputs": [
    {
     "data": {
      "text/plain": [
       "37539.313500000004"
      ]
     },
     "execution_count": 47,
     "metadata": {},
     "output_type": "execute_result"
    }
   ],
   "source": [
    "total_SA"
   ]
  },
  {
   "cell_type": "code",
   "execution_count": 22,
   "id": "a0aefd59",
   "metadata": {},
   "outputs": [],
   "source": [
    "top_47 = sa_meijer[:47]"
   ]
  },
  {
   "cell_type": "code",
   "execution_count": 23,
   "id": "5377e8c3",
   "metadata": {},
   "outputs": [],
   "source": [
    "binned_top_47 = len(rivers2coastalgrid(top_47, coastal_fields))"
   ]
  },
  {
   "cell_type": "code",
   "execution_count": 24,
   "id": "37bb2953",
   "metadata": {},
   "outputs": [
    {
     "data": {
      "text/plain": [
       "37"
      ]
     },
     "execution_count": 24,
     "metadata": {},
     "output_type": "execute_result"
    }
   ],
   "source": [
    "binned_top_47"
   ]
  },
  {
   "cell_type": "code",
   "execution_count": 25,
   "id": "16f162ae",
   "metadata": {},
   "outputs": [],
   "source": [
    "bin_meijer = rivers2coastalgrid(sa_meijer, coastal_fields)"
   ]
  },
  {
   "cell_type": "code",
   "execution_count": 26,
   "id": "56188bbc",
   "metadata": {},
   "outputs": [
    {
     "data": {
      "text/html": [
       "<div>\n",
       "<style scoped>\n",
       "    .dataframe tbody tr th:only-of-type {\n",
       "        vertical-align: middle;\n",
       "    }\n",
       "\n",
       "    .dataframe tbody tr th {\n",
       "        vertical-align: top;\n",
       "    }\n",
       "\n",
       "    .dataframe thead th {\n",
       "        text-align: right;\n",
       "    }\n",
       "</style>\n",
       "<table border=\"1\" class=\"dataframe\">\n",
       "  <thead>\n",
       "    <tr style=\"text-align: right;\">\n",
       "      <th></th>\n",
       "      <th>X_bin</th>\n",
       "      <th>Y_bin</th>\n",
       "      <th>emissions</th>\n",
       "      <th>merged_rivers</th>\n",
       "    </tr>\n",
       "  </thead>\n",
       "  <tbody>\n",
       "    <tr>\n",
       "      <th>0</th>\n",
       "      <td>-68.583336</td>\n",
       "      <td>-50.250000</td>\n",
       "      <td>0.342405</td>\n",
       "      <td>1</td>\n",
       "    </tr>\n",
       "    <tr>\n",
       "      <th>1</th>\n",
       "      <td>-67.583336</td>\n",
       "      <td>-49.250000</td>\n",
       "      <td>0.517043</td>\n",
       "      <td>1</td>\n",
       "    </tr>\n",
       "    <tr>\n",
       "      <th>2</th>\n",
       "      <td>-67.500000</td>\n",
       "      <td>-46.500000</td>\n",
       "      <td>0.446724</td>\n",
       "      <td>1</td>\n",
       "    </tr>\n",
       "    <tr>\n",
       "      <th>3</th>\n",
       "      <td>-67.500000</td>\n",
       "      <td>-45.916668</td>\n",
       "      <td>7.472280</td>\n",
       "      <td>1</td>\n",
       "    </tr>\n",
       "    <tr>\n",
       "      <th>4</th>\n",
       "      <td>-67.416664</td>\n",
       "      <td>-45.833332</td>\n",
       "      <td>5.246860</td>\n",
       "      <td>2</td>\n",
       "    </tr>\n",
       "  </tbody>\n",
       "</table>\n",
       "</div>"
      ],
      "text/plain": [
       "       X_bin      Y_bin  emissions  merged_rivers\n",
       "0 -68.583336 -50.250000   0.342405              1\n",
       "1 -67.583336 -49.250000   0.517043              1\n",
       "2 -67.500000 -46.500000   0.446724              1\n",
       "3 -67.500000 -45.916668   7.472280              1\n",
       "4 -67.416664 -45.833332   5.246860              2"
      ]
     },
     "execution_count": 26,
     "metadata": {},
     "output_type": "execute_result"
    }
   ],
   "source": [
    "bin_meijer.head()"
   ]
  },
  {
   "cell_type": "markdown",
   "id": "7797b3c3",
   "metadata": {},
   "source": [
    "implement a counter for the rivers merged per bin"
   ]
  },
  {
   "cell_type": "code",
   "execution_count": 27,
   "id": "8141d4ec",
   "metadata": {},
   "outputs": [
    {
     "data": {
      "text/plain": [
       "Text(0.5, 1.0, 'Top 47 Meijer al. 2021')"
      ]
     },
     "execution_count": 27,
     "metadata": {},
     "output_type": "execute_result"
    },
    {
     "data": {
      "image/png": "[encoded data removed]",
      "text/plain": [
       "<Figure size 936x432 with 2 Axes>"
      ]
     },
     "metadata": {
      "needs_background": "light"
     },
     "output_type": "display_data"
    }
   ],
   "source": [
    "fig = plt.figure(figsize=(13,6))\n",
    "ax = fig.add_subplot(1, 1, 1, projection=ccrs.PlateCarree())\n",
    "ax.set_extent((-70, 25, -50, 0), crs=ccrs.PlateCarree())\n",
    "ax.add_feature(cfeature.OCEAN)\n",
    "ax.add_feature(cfeature.LAND)\n",
    "#ax.add_feature(cfeature.COASTLINE)\n",
    "ax.add_feature(cfeature.RIVERS)\n",
    "ax.gridlines(draw_labels=True, dms=False, x_inline=False, y_inline=False)\n",
    "\n",
    "#plt.pcolormesh(X, Y, coast)\n",
    "im = plt.scatter(top_47['X'], top_47['Y'], c=top_47['emissions'],\n",
    "                 s=top_47['emissions']/5, cmap='plasma', edgecolors=None)\n",
    "plt.colorbar(im)\n",
    "plt.title('Top 47 Meijer al. 2021', fontsize=16)"
   ]
  },
  {
   "cell_type": "code",
   "execution_count": 28,
   "id": "cc599855",
   "metadata": {},
   "outputs": [
    {
     "data": {
      "text/plain": [
       "Text(0.5, 1.0, 'binned rivers Meijer al. 2021')"
      ]
     },
     "execution_count": 28,
     "metadata": {},
     "output_type": "execute_result"
    },
    {
     "data": {
      "image/png": "[encoded data removed]",
      "text/plain": [
       "<Figure size 936x432 with 2 Axes>"
      ]
     },
     "metadata": {
      "needs_background": "light"
     },
     "output_type": "display_data"
    }
   ],
   "source": [
    "fig = plt.figure(figsize=(13,6))\n",
    "ax = fig.add_subplot(1, 1, 1, projection=ccrs.PlateCarree())\n",
    "ax.set_extent((-70, 25, -50, 0), crs=ccrs.PlateCarree())\n",
    "ax.add_feature(cfeature.OCEAN)\n",
    "ax.add_feature(cfeature.LAND)\n",
    "#ax.add_feature(cfeature.COASTLINE)\n",
    "ax.add_feature(cfeature.RIVERS)\n",
    "ax.gridlines(draw_labels=True, dms=False, x_inline=False, y_inline=False)\n",
    "\n",
    "#plt.pcolormesh(X, Y, coast)\n",
    "im = plt.scatter(bin_meijer['X_bin'], bin_meijer['Y_bin'], c=bin_meijer['emissions'],\n",
    "                 s=bin_meijer['emissions']/5, cmap='plasma', edgecolors=None)\n",
    "plt.colorbar(im)\n",
    "plt.title('binned rivers Meijer al. 2021', fontsize=16)"
   ]
  },
  {
   "cell_type": "code",
   "execution_count": 29,
   "id": "a592f6f8",
   "metadata": {},
   "outputs": [],
   "source": [
    "total_SA = bin_meijer['emissions'].sum()"
   ]
  },
  {
   "cell_type": "code",
   "execution_count": 30,
   "id": "e5c0235c",
   "metadata": {},
   "outputs": [
    {
     "data": {
      "text/plain": [
       "37539.313500000004"
      ]
     },
     "execution_count": 30,
     "metadata": {},
     "output_type": "execute_result"
    }
   ],
   "source": [
    "total_SA"
   ]
  },
  {
   "cell_type": "code",
   "execution_count": 31,
   "id": "5be8f706",
   "metadata": {},
   "outputs": [],
   "source": [
    "sort_meijer = bin_meijer.sort_values(['emissions'], ascending=False)\n",
    "sort_meijer.reset_index(inplace=True, drop=True)"
   ]
  },
  {
   "cell_type": "code",
   "execution_count": 32,
   "id": "1718ba50",
   "metadata": {},
   "outputs": [
    {
     "data": {
      "text/html": [
       "<div>\n",
       "<style scoped>\n",
       "    .dataframe tbody tr th:only-of-type {\n",
       "        vertical-align: middle;\n",
       "    }\n",
       "\n",
       "    .dataframe tbody tr th {\n",
       "        vertical-align: top;\n",
       "    }\n",
       "\n",
       "    .dataframe thead th {\n",
       "        text-align: right;\n",
       "    }\n",
       "</style>\n",
       "<table border=\"1\" class=\"dataframe\">\n",
       "  <thead>\n",
       "    <tr style=\"text-align: right;\">\n",
       "      <th></th>\n",
       "      <th>X_bin</th>\n",
       "      <th>Y_bin</th>\n",
       "      <th>emissions</th>\n",
       "      <th>merged_rivers</th>\n",
       "    </tr>\n",
       "  </thead>\n",
       "  <tbody>\n",
       "    <tr>\n",
       "      <th>0</th>\n",
       "      <td>-43.166668</td>\n",
       "      <td>-22.916666</td>\n",
       "      <td>6504.328900</td>\n",
       "      <td>8</td>\n",
       "    </tr>\n",
       "    <tr>\n",
       "      <th>1</th>\n",
       "      <td>-50.416668</td>\n",
       "      <td>-30.583334</td>\n",
       "      <td>2825.247684</td>\n",
       "      <td>22</td>\n",
       "    </tr>\n",
       "    <tr>\n",
       "      <th>2</th>\n",
       "      <td>-58.333332</td>\n",
       "      <td>-34.583332</td>\n",
       "      <td>1283.969980</td>\n",
       "      <td>3</td>\n",
       "    </tr>\n",
       "    <tr>\n",
       "      <th>3</th>\n",
       "      <td>-34.833332</td>\n",
       "      <td>-8.083333</td>\n",
       "      <td>1266.363000</td>\n",
       "      <td>2</td>\n",
       "    </tr>\n",
       "    <tr>\n",
       "      <th>4</th>\n",
       "      <td>-43.750000</td>\n",
       "      <td>-23.083334</td>\n",
       "      <td>1167.378900</td>\n",
       "      <td>2</td>\n",
       "    </tr>\n",
       "    <tr>\n",
       "      <th>...</th>\n",
       "      <td>...</td>\n",
       "      <td>...</td>\n",
       "      <td>...</td>\n",
       "      <td>...</td>\n",
       "    </tr>\n",
       "    <tr>\n",
       "      <th>530</th>\n",
       "      <td>19.666666</td>\n",
       "      <td>-34.750000</td>\n",
       "      <td>0.116729</td>\n",
       "      <td>1</td>\n",
       "    </tr>\n",
       "    <tr>\n",
       "      <th>531</th>\n",
       "      <td>-47.333332</td>\n",
       "      <td>-24.666666</td>\n",
       "      <td>0.114340</td>\n",
       "      <td>1</td>\n",
       "    </tr>\n",
       "    <tr>\n",
       "      <th>532</th>\n",
       "      <td>13.333333</td>\n",
       "      <td>-10.000000</td>\n",
       "      <td>0.114288</td>\n",
       "      <td>1</td>\n",
       "    </tr>\n",
       "    <tr>\n",
       "      <th>533</th>\n",
       "      <td>-39.166668</td>\n",
       "      <td>-17.083334</td>\n",
       "      <td>0.106569</td>\n",
       "      <td>1</td>\n",
       "    </tr>\n",
       "    <tr>\n",
       "      <th>534</th>\n",
       "      <td>-40.166668</td>\n",
       "      <td>-20.000000</td>\n",
       "      <td>0.101014</td>\n",
       "      <td>1</td>\n",
       "    </tr>\n",
       "  </tbody>\n",
       "</table>\n",
       "<p>535 rows × 4 columns</p>\n",
       "</div>"
      ],
      "text/plain": [
       "         X_bin      Y_bin    emissions  merged_rivers\n",
       "0   -43.166668 -22.916666  6504.328900              8\n",
       "1   -50.416668 -30.583334  2825.247684             22\n",
       "2   -58.333332 -34.583332  1283.969980              3\n",
       "3   -34.833332  -8.083333  1266.363000              2\n",
       "4   -43.750000 -23.083334  1167.378900              2\n",
       "..         ...        ...          ...            ...\n",
       "530  19.666666 -34.750000     0.116729              1\n",
       "531 -47.333332 -24.666666     0.114340              1\n",
       "532  13.333333 -10.000000     0.114288              1\n",
       "533 -39.166668 -17.083334     0.106569              1\n",
       "534 -40.166668 -20.000000     0.101014              1\n",
       "\n",
       "[535 rows x 4 columns]"
      ]
     },
     "execution_count": 32,
     "metadata": {},
     "output_type": "execute_result"
    }
   ],
   "source": [
    "sort_meijer"
   ]
  },
  {
   "cell_type": "markdown",
   "id": "e7fd96e5",
   "metadata": {},
   "source": [
    "# How to do the clustering? \n",
    "\n",
    "Three words: center of mass."
   ]
  },
  {
   "cell_type": "code",
   "execution_count": 33,
   "id": "395ebeb4",
   "metadata": {},
   "outputs": [],
   "source": [
    "cluster_locations = {'Congo':(-5.6442, 12.1375),\n",
    "                     'Cape-Town':(-33.93, 18.56),\n",
    "                    'Rio-de-la-Plata':(-33.9375, -58.5208),\n",
    "                    'Porto-Alegre':(-30.051, -51.285),\n",
    "                    'Santos':(-23.9875, -46.2958),\n",
    "                    'Paraiba':(-21.6208, -41.0375),\n",
    "                    'Itajai':(-26.9125, -48.6458),\n",
    "                    'Rio-de-Janeiro':(-23.01250, -43.32083),\n",
    "                    'Salvador':(-13.017065, -38.579832),\n",
    "                    'Recife':(-8.09, -34.88)}\n",
    "# 'Luanda':(-8.82, 13.22),\n",
    "#                      'Cuvo':(-10.87917, 13.81250),\n",
    "grid_cluster_centers = {}\n",
    "for loc in cluster_locations:\n",
    "\n",
    "    indx = nearest_coastal_cell(lat_coast, lon_coast, *cluster_locations[loc])\n",
    "    grid_cluster_centers[loc] = (lat_coast[indx], lon_coast[indx])"
   ]
  },
  {
   "cell_type": "code",
   "execution_count": 34,
   "id": "9982aa8f",
   "metadata": {},
   "outputs": [
    {
     "data": {
      "text/plain": [
       "{'Congo': (-5.6666665, 12.083333),\n",
       " 'Cape-Town': (-33.916668, 18.416666),\n",
       " 'Rio-de-la-Plata': (-34.083332, -58.333332),\n",
       " 'Porto-Alegre': (-30.583334, -50.416668),\n",
       " 'Santos': (-24.0, -46.333332),\n",
       " 'Paraiba': (-21.583334, -41.0),\n",
       " 'Itajai': (-26.916666, -48.583332),\n",
       " 'Rio-de-Janeiro': (-23.0, -43.333332),\n",
       " 'Salvador': (-13.083333, -38.583332),\n",
       " 'Recife': (-8.083333, -34.833332)}"
      ]
     },
     "execution_count": 34,
     "metadata": {},
     "output_type": "execute_result"
    }
   ],
   "source": [
    "grid_cluster_centers"
   ]
  },
  {
   "cell_type": "code",
   "execution_count": 35,
   "id": "a7343f29",
   "metadata": {},
   "outputs": [],
   "source": [
    "sort = bin_meijer.sort_values(['emissions'], ascending=False)\n",
    "sort.reset_index(inplace=True, drop=True)"
   ]
  },
  {
   "cell_type": "code",
   "execution_count": 36,
   "id": "a16103db",
   "metadata": {},
   "outputs": [
    {
     "name": "stderr",
     "output_type": "stream",
     "text": [
      "No handles with labels found to put in legend.\n"
     ]
    },
    {
     "data": {
      "text/plain": [
       "<matplotlib.legend.Legend at 0x7fb0ec6c7f28>"
      ]
     },
     "execution_count": 36,
     "metadata": {},
     "output_type": "execute_result"
    },
    {
     "data": {
      "image/png": "[encoded data removed]",
      "text/plain": [
       "<Figure size 936x432 with 2 Axes>"
      ]
     },
     "metadata": {
      "needs_background": "light"
     },
     "output_type": "display_data"
    }
   ],
   "source": [
    "fig = plt.figure(figsize=(13,6))\n",
    "ax = fig.add_subplot(1, 1, 1, projection=ccrs.PlateCarree())\n",
    "ax.set_extent((-70, 25, -50, 0), crs=ccrs.PlateCarree())\n",
    "ax.add_feature(cfeature.OCEAN)\n",
    "ax.add_feature(cfeature.LAND)\n",
    "# ax.add_feature(cfeature.COASTLINE)\n",
    "ax.add_feature(cfeature.RIVERS)\n",
    "ax.gridlines(draw_labels=True, dms=False, x_inline=False, y_inline=False)\n",
    "\n",
    "M = 47\n",
    "#plt.pcolormesh(X, Y, coast)\n",
    "im = plt.scatter(sort['X_bin'][:M], sort['Y_bin'][:M], c=sort['emissions'][:M],\n",
    "                 s=sort['emissions'][:M]/5, cmap='plasma', edgecolors=None)\n",
    "\n",
    "for loc in cluster_locations:\n",
    "    x = cluster_locations[loc][1]\n",
    "    y = cluster_locations[loc][0]\n",
    "    plt.scatter(x, y, c='r', marker='x')\n",
    "    \n",
    "plt.colorbar(im)\n",
    "plt.title('Meijer top 30 rivers', fontsize=16)\n",
    "plt.legend()"
   ]
  },
  {
   "cell_type": "code",
   "execution_count": 37,
   "id": "f2cb9b49",
   "metadata": {},
   "outputs": [],
   "source": [
    "def center_of_mass(DF):\n",
    "    \n",
    "    x = DF.X_bin\n",
    "    y = DF.Y_bin\n",
    "    m = DF.emissions #this is so annoying\n",
    "    M = m.sum()\n",
    "    \n",
    "    return sum(m*y)/M, sum(m*x)/M"
   ]
  },
  {
   "cell_type": "code",
   "execution_count": 38,
   "id": "70dd1bf5",
   "metadata": {},
   "outputs": [],
   "source": [
    "def rivers_per_location(DF, loc_coords, radius, binned=False, tolerance=0.1):\n",
    "    \"\"\"\n",
    "    It cluster the rivers in a square with sides 2*radius.\n",
    "    The clustering is done iteratively using the center of mass.\n",
    "    Input\n",
    "    - DF: the pandas Dataframe with data River_sources. \n",
    "    - loc_coords: tuple with the location coordinates as in (lat, lon).\n",
    "    - radius: the radius in degrees around loc_coords.\n",
    "    - tolerance: [km]\n",
    "    Returns \n",
    "    - the dataframe around loc_coords.\n",
    "    \"\"\"\n",
    "    if binned:\n",
    "        _label = '_bin'\n",
    "        \n",
    "    else:\n",
    "        _label = ''\n",
    "        \n",
    "    x_col = f'X{_label}'\n",
    "    y_col = f'Y{_label}'\n",
    "    \n",
    "    lat, lon = loc_coords\n",
    "    mask = (DF[x_col] <= lon + radius) & (DF[x_col] > lon - radius) & \\\n",
    "            (DF[y_col] <= lat + radius) & (DF[y_col] > lat - radius)\n",
    "    CM = center_of_mass(DF[mask])\n",
    "    dist = haversine_distance_two((lat,lon), CM)\n",
    "    \n",
    "    while dist > tolerance:\n",
    "        lat, lon = CM\n",
    "        mask = (DF[x_col] <= lon + radius) & (DF[x_col] > lon - radius) & \\\n",
    "                (DF[y_col] <= lat + radius) & (DF[y_col] > lat - radius)\n",
    "        CM = center_of_mass(DF[mask])\n",
    "        dist = haversine_distance_two((lat,lon), CM)\n",
    "    \n",
    "    loc_df = DF[mask]\n",
    "    p = pd.DataFrame({'p': loc_df['emissions']/loc_df['emissions'].sum()})\n",
    "    loc_df = loc_df.drop(['emissions'], axis=1)\n",
    "    loc_df = pd.concat([loc_df, p], axis=1)\n",
    "    loc_df.reset_index(inplace=True)\n",
    "\n",
    "    return mask, CM"
   ]
  },
  {
   "cell_type": "code",
   "execution_count": 39,
   "id": "dddceb4f",
   "metadata": {},
   "outputs": [
    {
     "name": "stdout",
     "output_type": "stream",
     "text": [
      "CM (-22.945060155551058, -43.25007477878783)\n",
      "OC (-23.0125, -43.32083)\n",
      "10.419394448211134\n"
     ]
    }
   ],
   "source": [
    "_mask, _cm = rivers_per_location(sort, cluster_locations['Rio-de-Janeiro'], 1, binned=True)\n",
    "print('CM', _cm)\n",
    "print('OC', cluster_locations['Rio-de-Janeiro'])\n",
    "print(haversine_distance_two(_cm, cluster_locations['Rio-de-Janeiro']))"
   ]
  },
  {
   "cell_type": "code",
   "execution_count": 40,
   "id": "39dc9fe4",
   "metadata": {},
   "outputs": [
    {
     "name": "stdout",
     "output_type": "stream",
     "text": [
      "Congo [12.322773940845202, 12.322773940845202, -5.839025814859182, -5.839025814859182]\n",
      "Cape-Town [18.516123691832572, 18.516123691832572, -33.98071957888667, -33.98071957888667]\n",
      "Rio-de-la-Plata [-58.33804718267087, -58.33804718267087, -34.533424574858756, -34.533424574858756]\n",
      "Porto-Alegre [-50.42807859021225, -50.42807859021225, -30.591184442740754, -30.591184442740754]\n",
      "Santos [-46.282869090631785, -46.282869090631785, -23.97941880008897, -23.97941880008897]\n",
      "Paraiba [-41.149217208680454, -41.149217208680454, -21.594112104419448, -21.594112104419448]\n",
      "Itajai [-48.60662095689911, -48.60662095689911, -26.95349610101432, -26.95349610101432]\n",
      "Rio-de-Janeiro [-43.25007477878783, -43.25007477878783, -22.945060155551058, -22.945060155551058]\n",
      "Salvador [-38.41695490351165, -38.41695490351165, -13.005334422056057, -13.005334422056057]\n",
      "Recife [-34.877316798218914, -34.877316798218914, -8.117255001381881, -8.117255001381881]\n"
     ]
    },
    {
     "data": {
      "image/png": "[encoded data removed]",
      "text/plain": [
       "<Figure size 864x360 with 10 Axes>"
      ]
     },
     "metadata": {
      "needs_background": "light"
     },
     "output_type": "display_data"
    }
   ],
   "source": [
    "fig,ax = plt.subplots(ncols=5,nrows=2,figsize=(12,5),\n",
    "                      subplot_kw={'projection': ccrs.PlateCarree()})\n",
    "\n",
    "coast_mask = np.ma.masked_equal(coast, 0)\n",
    "\n",
    "ax = np.reshape(ax, 10)\n",
    "r = 1\n",
    "adjusted_cluster = {}\n",
    "\n",
    "for i, loc in enumerate(cluster_locations):\n",
    "    \n",
    "    loc_mask, loc_CM = rivers_per_location(sort, cluster_locations[loc], r, binned=True)\n",
    "    adjusted_cluster[loc] = loc_CM\n",
    "    \n",
    "    lat_BA, lon_BA = loc_CM \n",
    "    loc_df = sort[loc_mask]\n",
    "    print(loc, [lon_BA, lon_BA, lat_BA, lat_BA])\n",
    "    ax[i].set_extent([lon_BA-r, lon_BA+r, lat_BA-r, lat_BA+r], crs=ccrs.PlateCarree())\n",
    "    ax[i].add_feature(cfeature.OCEAN)\n",
    "    ax[i].add_feature(cfeature.LAND)\n",
    "#     ax[i].add_feature(cfeature.COASTLINE)\n",
    "    ax[i].add_feature(cfeature.RIVERS)\n",
    "    ax[i].set_title(loc)\n",
    "    ax[i].pcolormesh(X, Y, coast_mask)\n",
    "#     g1 = ax[i].gridlines(draw_labels=True, dms=False, x_inline=False, y_inline=False,\n",
    "#             color='black', linestyle='--', alpha=0.1)\n",
    "#     g1.top_labels = False\n",
    "#     g1.right_labels = False\n",
    "\n",
    "    \n",
    "    for m in loc_df.index:\n",
    "        ax[i].scatter(loc_df['X_bin'][m], loc_df['Y_bin'][m], s=loc_df['emissions'][m]*0.5,\n",
    "                     alpha=0.7)\n",
    "#         ax[i].scatter(cluster_locations[loc][1], cluster_locations[loc][0], c='white',\n",
    "#                       marker='s',  edgecolor='k', s=100)\n",
    "        ax[i].scatter(loc_CM[1], loc_CM[0], c='white', marker='s', edgecolor='k', s=100)\n",
    "    "
   ]
  },
  {
   "cell_type": "code",
   "execution_count": 42,
   "id": "1566a726",
   "metadata": {
    "scrolled": false
   },
   "outputs": [
    {
     "data": {
      "image/png": "[encoded data removed]",
      "text/plain": [
       "<Figure size 432x288 with 1 Axes>"
      ]
     },
     "metadata": {
      "needs_background": "light"
     },
     "output_type": "display_data"
    }
   ],
   "source": [
    "fig,ax = plt.subplots(figsize=(6,4),\n",
    "                      subplot_kw={'projection': ccrs.PlateCarree()}, constrained_layout=True)\n",
    "\n",
    "gl = ax.gridlines(crs=ccrs.PlateCarree(), draw_labels=True,\n",
    "                  linewidth=1, color='black', alpha=0.3, linestyle='--')\n",
    "gl.top_labels = False\n",
    "gl.right_labels = False\n",
    "gl = ax.gridlines(crs=ccrs.PlateCarree(), draw_labels=True,\n",
    "                  linewidth=0.5, color='black', alpha=0.5, linestyle='--')\n",
    "gl.top_labels = False\n",
    "gl.right_labels = False\n",
    "\n",
    "ax.set_extent([-73, 25,-45, 0], crs=ccrs.PlateCarree())\n",
    "\n",
    "ax.add_feature(cfeature.OCEAN)\n",
    "ax.add_feature(cfeature.LAND, zorder=0)\n",
    "im = ax.scatter(sa_meijer['X'][:47], sa_meijer['Y'][:47], c='r',\n",
    "                 s=sa_meijer['emissions'][:47]/15, edgecolors=None)\n",
    "    \n",
    "    \n",
    "Sudamerica = ['Itajai', 'Rio-de-la-Plata',\n",
    "              'Porto-Alegre','Recife', 'Salvador', 'Rio-de-Janeiro',]\n",
    "for loc in Sudamerica:\n",
    "    ax.scatter(adjusted_cluster[loc][1], adjusted_cluster[loc][0], \n",
    "               s=120, marker='s', linewidths=2, edgecolors='k', facecolor=\"None\",\n",
    "              label='Cluster')\n",
    "    ax.text(adjusted_cluster[loc][1]+2, adjusted_cluster[loc][0]-2, s=loc,\n",
    "           fontsize=12)\n",
    "    \n",
    "annoying = ['Paraiba']\n",
    "\n",
    "for loc in annoying:\n",
    "    ax.scatter(adjusted_cluster[loc][1], adjusted_cluster[loc][0], \n",
    "               s=120, marker='s', linewidths=2, edgecolors='k', facecolor=\"None\",\n",
    "              label='Cluster')\n",
    "    ax.text(adjusted_cluster[loc][1]+2, adjusted_cluster[loc][0]+1, s=loc,\n",
    "           fontsize=12)\n",
    "\n",
    "Africa = ['Congo', 'Cape-Town', 'Santos']\n",
    "for loc in Africa:\n",
    "    ax.scatter(adjusted_cluster[loc][1], adjusted_cluster[loc][0], \n",
    "               s=120, marker='s', linewidths=2, edgecolors='k', facecolor=\"None\",\n",
    "              label='Cluster')\n",
    "    ax.text(adjusted_cluster[loc][1]-2, adjusted_cluster[loc][0], s=loc,\n",
    "           fontsize=12, ha='right')\n",
    "\n",
    "\n",
    "\n",
    "# legend_elements = [Line2D([0], [0], marker='o', color='w', label='',\n",
    "#                           markerfacecolor=colors[0], markersize=15),\n",
    "#                    Line2D([0], [0], marker='o', color='w', label='Lebreton',\n",
    "#                           markerfacecolor=colors[0], markersize=10),\n",
    "#                    Line2D([0], [0], marker='o', color='w', label='river inputs',\n",
    "#                           markerfacecolor=colors[0], markersize=7.5),\n",
    "#                    Line2D([0], [0], marker='o', color='w', label='',\n",
    "#                           markerfacecolor=colors[0], markersize=5),\n",
    "#                   Rectangle((0,0), 0, 2, facecolor='None', edgecolor='k',\n",
    "#                             lw=2, label='Clusters')]\n",
    "\n",
    "legend_elements = [\n",
    "                   Line2D([0], [0], marker='o', color='w', label='River emissions',\n",
    "                          markerfacecolor='r', markersize=10),\n",
    "                  Rectangle((0,0), 0, 2, facecolor='None', edgecolor='k',\n",
    "                            lw=2, label='Clusters')]\n",
    "\n",
    "ax.legend(handles=legend_elements, loc='upper left',\n",
    "         fontsize=11)\n",
    "\n",
    "plt.savefig('../article_figs/clusters.png', dpi=200)"
   ]
  },
  {
   "cell_type": "code",
   "execution_count": null,
   "id": "f048ba0e",
   "metadata": {},
   "outputs": [],
   "source": [
    "sort§"
   ]
  },
  {
   "cell_type": "code",
   "execution_count": 48,
   "id": "5c106398",
   "metadata": {},
   "outputs": [
    {
     "name": "stdout",
     "output_type": "stream",
     "text": [
      "Congo\n",
      "Cape-Town\n",
      "Rio-de-la-Plata\n",
      "Porto-Alegre\n",
      "Santos\n",
      "Paraiba\n",
      "Itajai\n",
      "Rio-de-Janeiro\n",
      "Salvador\n",
      "Recife\n"
     ]
    }
   ],
   "source": [
    "\n",
    "release_points = {}\n",
    "priors = {}\n",
    "r = 1.5\n",
    "N = 100000 #Number of particles realesed pre source.\n",
    "\n",
    "cluster_percent = 0\n",
    "merged_rivers = 0\n",
    "\n",
    "adjusted_cluster = {}\n",
    "for i, loc in enumerate(cluster_locations):\n",
    "    print(loc)\n",
    "    _mask, _CM = rivers_per_location(sort, cluster_locations[loc], r, binned=True)\n",
    "    adjusted_cluster[loc] = _CM\n",
    "    lat_BA, lon_BA = _CM \n",
    "    loc_df = sort[_mask]\n",
    "    \n",
    "    loc_percent = loc_df['emissions'].sum()/total_SA\n",
    "    no_rivers = loc_df['merged_rivers'].sum()\n",
    "    merged_rivers += no_rivers\n",
    "    priors[loc] = [loc_percent, no_rivers]\n",
    "    cluster_percent += loc_df['emissions'].sum()/total_SA\n",
    "    p = pd.DataFrame({'p': loc_df['emissions']/loc_df['emissions'].sum()})\n",
    "    \n",
    "    loc_df = loc_df.drop(['emissions'], axis=1)\n",
    "    loc_df = pd.concat([loc_df, p], axis=1)\n",
    "    loc_df.reset_index(drop=True, inplace=True)\n",
    "\n",
    "    release_points[loc] = loc_df.sample(n=N, replace=True, weights='p')\n",
    "    \n",
    "priors['Other'] = [1 - cluster_percent, sa_meijer.shape[0] - merged_rivers]\n",
    "priors = pd.DataFrame(priors).T\n",
    "priors = priors.rename(columns={0:'mean', 1:'merged_rivers'})\n",
    "# priors.to_csv('../data/analysis/river_input_analysis.csv')"
   ]
  },
  {
   "cell_type": "code",
   "execution_count": 54,
   "id": "934783e6",
   "metadata": {},
   "outputs": [
    {
     "data": {
      "text/html": [
       "<div>\n",
       "<style scoped>\n",
       "    .dataframe tbody tr th:only-of-type {\n",
       "        vertical-align: middle;\n",
       "    }\n",
       "\n",
       "    .dataframe tbody tr th {\n",
       "        vertical-align: top;\n",
       "    }\n",
       "\n",
       "    .dataframe thead th {\n",
       "        text-align: right;\n",
       "    }\n",
       "</style>\n",
       "<table border=\"1\" class=\"dataframe\">\n",
       "  <thead>\n",
       "    <tr style=\"text-align: right;\">\n",
       "      <th></th>\n",
       "      <th>mean</th>\n",
       "      <th>merged_rivers</th>\n",
       "    </tr>\n",
       "  </thead>\n",
       "  <tbody>\n",
       "    <tr>\n",
       "      <th>Congo</th>\n",
       "      <td>0.016213</td>\n",
       "      <td>25.0</td>\n",
       "    </tr>\n",
       "    <tr>\n",
       "      <th>Cape-Town</th>\n",
       "      <td>0.042383</td>\n",
       "      <td>36.0</td>\n",
       "    </tr>\n",
       "    <tr>\n",
       "      <th>Rio-de-la-Plata</th>\n",
       "      <td>0.098469</td>\n",
       "      <td>61.0</td>\n",
       "    </tr>\n",
       "    <tr>\n",
       "      <th>Porto-Alegre</th>\n",
       "      <td>0.082776</td>\n",
       "      <td>65.0</td>\n",
       "    </tr>\n",
       "    <tr>\n",
       "      <th>Santos</th>\n",
       "      <td>0.046163</td>\n",
       "      <td>77.0</td>\n",
       "    </tr>\n",
       "    <tr>\n",
       "      <th>Paraiba</th>\n",
       "      <td>0.037892</td>\n",
       "      <td>56.0</td>\n",
       "    </tr>\n",
       "    <tr>\n",
       "      <th>Itajai</th>\n",
       "      <td>0.075225</td>\n",
       "      <td>127.0</td>\n",
       "    </tr>\n",
       "    <tr>\n",
       "      <th>Rio-de-Janeiro</th>\n",
       "      <td>0.284832</td>\n",
       "      <td>83.0</td>\n",
       "    </tr>\n",
       "    <tr>\n",
       "      <th>Salvador</th>\n",
       "      <td>0.067949</td>\n",
       "      <td>65.0</td>\n",
       "    </tr>\n",
       "    <tr>\n",
       "      <th>Recife</th>\n",
       "      <td>0.127064</td>\n",
       "      <td>69.0</td>\n",
       "    </tr>\n",
       "    <tr>\n",
       "      <th>Other</th>\n",
       "      <td>0.121035</td>\n",
       "      <td>346.0</td>\n",
       "    </tr>\n",
       "  </tbody>\n",
       "</table>\n",
       "</div>"
      ],
      "text/plain": [
       "                     mean  merged_rivers\n",
       "Congo            0.016213           25.0\n",
       "Cape-Town        0.042383           36.0\n",
       "Rio-de-la-Plata  0.098469           61.0\n",
       "Porto-Alegre     0.082776           65.0\n",
       "Santos           0.046163           77.0\n",
       "Paraiba          0.037892           56.0\n",
       "Itajai           0.075225          127.0\n",
       "Rio-de-Janeiro   0.284832           83.0\n",
       "Salvador         0.067949           65.0\n",
       "Recife           0.127064           69.0\n",
       "Other            0.121035          346.0"
      ]
     },
     "execution_count": 54,
     "metadata": {},
     "output_type": "execute_result"
    }
   ],
   "source": [
    "priors"
   ]
  },
  {
   "cell_type": "code",
   "execution_count": 156,
   "id": "626b0aa2",
   "metadata": {},
   "outputs": [
    {
     "data": {
      "text/html": [
       "<div>\n",
       "<style scoped>\n",
       "    .dataframe tbody tr th:only-of-type {\n",
       "        vertical-align: middle;\n",
       "    }\n",
       "\n",
       "    .dataframe tbody tr th {\n",
       "        vertical-align: top;\n",
       "    }\n",
       "\n",
       "    .dataframe thead th {\n",
       "        text-align: right;\n",
       "    }\n",
       "</style>\n",
       "<table border=\"1\" class=\"dataframe\">\n",
       "  <thead>\n",
       "    <tr style=\"text-align: right;\">\n",
       "      <th></th>\n",
       "      <th>X_bin</th>\n",
       "      <th>Y_bin</th>\n",
       "      <th>merged_rivers</th>\n",
       "      <th>p</th>\n",
       "    </tr>\n",
       "  </thead>\n",
       "  <tbody>\n",
       "    <tr>\n",
       "      <th>0</th>\n",
       "      <td>12.416667</td>\n",
       "      <td>-6.083333</td>\n",
       "      <td>1</td>\n",
       "      <td>0.627005</td>\n",
       "    </tr>\n",
       "    <tr>\n",
       "      <th>0</th>\n",
       "      <td>12.416667</td>\n",
       "      <td>-6.083333</td>\n",
       "      <td>1</td>\n",
       "      <td>0.627005</td>\n",
       "    </tr>\n",
       "    <tr>\n",
       "      <th>0</th>\n",
       "      <td>12.416667</td>\n",
       "      <td>-6.083333</td>\n",
       "      <td>1</td>\n",
       "      <td>0.627005</td>\n",
       "    </tr>\n",
       "    <tr>\n",
       "      <th>7</th>\n",
       "      <td>12.833333</td>\n",
       "      <td>-7.166667</td>\n",
       "      <td>1</td>\n",
       "      <td>0.011051</td>\n",
       "    </tr>\n",
       "    <tr>\n",
       "      <th>0</th>\n",
       "      <td>12.416667</td>\n",
       "      <td>-6.083333</td>\n",
       "      <td>1</td>\n",
       "      <td>0.627005</td>\n",
       "    </tr>\n",
       "    <tr>\n",
       "      <th>...</th>\n",
       "      <td>...</td>\n",
       "      <td>...</td>\n",
       "      <td>...</td>\n",
       "      <td>...</td>\n",
       "    </tr>\n",
       "    <tr>\n",
       "      <th>0</th>\n",
       "      <td>12.416667</td>\n",
       "      <td>-6.083333</td>\n",
       "      <td>1</td>\n",
       "      <td>0.627005</td>\n",
       "    </tr>\n",
       "    <tr>\n",
       "      <th>0</th>\n",
       "      <td>12.416667</td>\n",
       "      <td>-6.083333</td>\n",
       "      <td>1</td>\n",
       "      <td>0.627005</td>\n",
       "    </tr>\n",
       "    <tr>\n",
       "      <th>1</th>\n",
       "      <td>12.083333</td>\n",
       "      <td>-5.166667</td>\n",
       "      <td>2</td>\n",
       "      <td>0.243010</td>\n",
       "    </tr>\n",
       "    <tr>\n",
       "      <th>2</th>\n",
       "      <td>12.333333</td>\n",
       "      <td>-6.083333</td>\n",
       "      <td>1</td>\n",
       "      <td>0.025228</td>\n",
       "    </tr>\n",
       "    <tr>\n",
       "      <th>0</th>\n",
       "      <td>12.416667</td>\n",
       "      <td>-6.083333</td>\n",
       "      <td>1</td>\n",
       "      <td>0.627005</td>\n",
       "    </tr>\n",
       "  </tbody>\n",
       "</table>\n",
       "<p>100000 rows × 4 columns</p>\n",
       "</div>"
      ],
      "text/plain": [
       "        X_bin     Y_bin  merged_rivers         p\n",
       "0   12.416667 -6.083333              1  0.627005\n",
       "0   12.416667 -6.083333              1  0.627005\n",
       "0   12.416667 -6.083333              1  0.627005\n",
       "7   12.833333 -7.166667              1  0.011051\n",
       "0   12.416667 -6.083333              1  0.627005\n",
       "..        ...       ...            ...       ...\n",
       "0   12.416667 -6.083333              1  0.627005\n",
       "0   12.416667 -6.083333              1  0.627005\n",
       "1   12.083333 -5.166667              2  0.243010\n",
       "2   12.333333 -6.083333              1  0.025228\n",
       "0   12.416667 -6.083333              1  0.627005\n",
       "\n",
       "[100000 rows x 4 columns]"
      ]
     },
     "execution_count": 156,
     "metadata": {},
     "output_type": "execute_result"
    }
   ],
   "source": [
    "release_points['Congo']"
   ]
  },
  {
   "cell_type": "code",
   "execution_count": 45,
   "id": "0812b355",
   "metadata": {},
   "outputs": [
    {
     "ename": "KeyError",
     "evalue": "'Congo'",
     "output_type": "error",
     "traceback": [
      "\u001b[0;31m---------------------------------------------------------------------------\u001b[0m",
      "\u001b[0;31mKeyError\u001b[0m                                  Traceback (most recent call last)",
      "\u001b[0;32m<ipython-input-45-c71b553e466a>\u001b[0m in \u001b[0;36m<module>\u001b[0;34m\u001b[0m\n\u001b[1;32m     19\u001b[0m     \u001b[0max\u001b[0m\u001b[0;34m[\u001b[0m\u001b[0mi\u001b[0m\u001b[0;34m]\u001b[0m\u001b[0;34m.\u001b[0m\u001b[0mset_title\u001b[0m\u001b[0;34m(\u001b[0m\u001b[0mloc\u001b[0m\u001b[0;34m)\u001b[0m\u001b[0;34m\u001b[0m\u001b[0;34m\u001b[0m\u001b[0m\n\u001b[1;32m     20\u001b[0m     \u001b[0max\u001b[0m\u001b[0;34m[\u001b[0m\u001b[0mi\u001b[0m\u001b[0;34m]\u001b[0m\u001b[0;34m.\u001b[0m\u001b[0mpcolormesh\u001b[0m\u001b[0;34m(\u001b[0m\u001b[0mX\u001b[0m\u001b[0;34m,\u001b[0m \u001b[0mY\u001b[0m\u001b[0;34m,\u001b[0m \u001b[0mcoast_mask\u001b[0m\u001b[0;34m)\u001b[0m\u001b[0;34m\u001b[0m\u001b[0;34m\u001b[0m\u001b[0m\n\u001b[0;32m---> 21\u001b[0;31m     \u001b[0max\u001b[0m\u001b[0;34m[\u001b[0m\u001b[0mi\u001b[0m\u001b[0;34m]\u001b[0m\u001b[0;34m.\u001b[0m\u001b[0mscatter\u001b[0m\u001b[0;34m(\u001b[0m\u001b[0mrelease_points\u001b[0m\u001b[0;34m[\u001b[0m\u001b[0mloc\u001b[0m\u001b[0;34m]\u001b[0m\u001b[0;34m[\u001b[0m\u001b[0;34m'X_bin'\u001b[0m\u001b[0;34m]\u001b[0m\u001b[0;34m,\u001b[0m \u001b[0mrelease_points\u001b[0m\u001b[0;34m[\u001b[0m\u001b[0mloc\u001b[0m\u001b[0;34m]\u001b[0m\u001b[0;34m[\u001b[0m\u001b[0;34m'Y_bin'\u001b[0m\u001b[0;34m]\u001b[0m\u001b[0;34m)\u001b[0m\u001b[0;34m\u001b[0m\u001b[0;34m\u001b[0m\u001b[0m\n\u001b[0m",
      "\u001b[0;31mKeyError\u001b[0m: 'Congo'"
     ]
    },
    {
     "data": {
      "image/png": "[encoded data removed]",
      "text/plain": [
       "<Figure size 864x360 with 10 Axes>"
      ]
     },
     "metadata": {
      "needs_background": "light"
     },
     "output_type": "display_data"
    }
   ],
   "source": [
    "fig,ax = plt.subplots(ncols=5,nrows=2,figsize=(12,5),\n",
    "                      subplot_kw={'projection': ccrs.PlateCarree()})\n",
    "\n",
    "coast_mask = np.ma.masked_equal(coast, 0)\n",
    "\n",
    "ax = np.reshape(ax, 10)\n",
    "r = 1.5\n",
    "\n",
    "for i, loc in enumerate(cluster_locations):\n",
    "    \n",
    "    loc_mask, loc_CM= rivers_per_location(sort, cluster_locations[loc], r, binned=True)\n",
    "    lat_BA, lon_BA = loc_CM \n",
    "#     loc_df = sort[loc_mask]\n",
    "    \n",
    "    ax[i].set_extent([lon_BA-r, lon_BA+r, lat_BA-r, lat_BA+r], crs=ccrs.PlateCarree())\n",
    "    ax[i].add_feature(cfeature.OCEAN)\n",
    "    ax[i].add_feature(cfeature.LAND)\n",
    "    ax[i].add_feature(cfeature.RIVERS)\n",
    "    ax[i].set_title(loc)\n",
    "    ax[i].pcolormesh(X, Y, coast_mask)\n",
    "    ax[i].scatter(release_points[loc]['X_bin'], release_points[loc]['Y_bin'])\n"
   ]
  },
  {
   "cell_type": "code",
   "execution_count": 46,
   "id": "dfa1db09",
   "metadata": {},
   "outputs": [
    {
     "ename": "KeyError",
     "evalue": "'mean'",
     "output_type": "error",
     "traceback": [
      "\u001b[0;31m---------------------------------------------------------------------------\u001b[0m",
      "\u001b[0;31mKeyError\u001b[0m                                  Traceback (most recent call last)",
      "\u001b[0;32m<ipython-input-46-512623831bf0>\u001b[0m in \u001b[0;36m<module>\u001b[0;34m\u001b[0m\n\u001b[1;32m      2\u001b[0m \u001b[0mwedgeprops\u001b[0m \u001b[0;34m=\u001b[0m \u001b[0;34m{\u001b[0m\u001b[0;34m'fontsize'\u001b[0m\u001b[0;34m:\u001b[0m \u001b[0;36m12\u001b[0m\u001b[0;34m}\u001b[0m\u001b[0;34m\u001b[0m\u001b[0;34m\u001b[0m\u001b[0m\n\u001b[1;32m      3\u001b[0m \u001b[0;34m\u001b[0m\u001b[0m\n\u001b[0;32m----> 4\u001b[0;31m plt.pie(priors['mean'], labels=priors.index, autopct='%.1f%%',\n\u001b[0m\u001b[1;32m      5\u001b[0m        \u001b[0mshadow\u001b[0m\u001b[0;34m=\u001b[0m\u001b[0;32mTrue\u001b[0m\u001b[0;34m,\u001b[0m\u001b[0;34m\u001b[0m\u001b[0;34m\u001b[0m\u001b[0m\n\u001b[1;32m      6\u001b[0m        rotatelabels=True, startangle=15, textprops=wedgeprops);\n",
      "\u001b[0;31mKeyError\u001b[0m: 'mean'"
     ]
    },
    {
     "data": {
      "text/plain": [
       "<Figure size 504x468 with 0 Axes>"
      ]
     },
     "metadata": {},
     "output_type": "display_data"
    }
   ],
   "source": [
    "plt.figure(figsize=(7,6.5))\n",
    "wedgeprops = {'fontsize': 12}\n",
    "\n",
    "plt.pie(priors['mean'], labels=priors.index, autopct='%.1f%%',\n",
    "       shadow=True,\n",
    "       rotatelabels=True, startangle=15, textprops=wedgeprops);\n"
   ]
  },
  {
   "cell_type": "code",
   "execution_count": null,
   "id": "5bad40be",
   "metadata": {},
   "outputs": [],
   "source": []
  },
  {
   "cell_type": "code",
   "execution_count": 58,
   "id": "b63a2134",
   "metadata": {},
   "outputs": [],
   "source": [
    "priors = pd.read_csv('../data/analysis/priors_river_inputs.csv', index_col=0)"
   ]
  },
  {
   "cell_type": "code",
   "execution_count": 65,
   "id": "a86c2223",
   "metadata": {},
   "outputs": [
    {
     "name": "stdout",
     "output_type": "stream",
     "text": [
      "\\begin{tabular}{lrr}\n",
      "\\toprule\n",
      "{} &      Mean &  merged\\_rivers \\\\\n",
      "\\midrule\n",
      "Congo           &  0.019756 &           22.0 \\\\\n",
      "Cape-Town       &  0.051432 &           34.0 \\\\\n",
      "Rio-de-la-Plata &  0.120597 &           51.0 \\\\\n",
      "Porto-Alegre    &  0.098673 &           49.0 \\\\\n",
      "Santos          &  0.048234 &           55.0 \\\\\n",
      "Paraiba         &  0.030517 &           32.0 \\\\\n",
      "Itajai          &  0.086101 &           91.0 \\\\\n",
      "Rio-de-Janeiro  &  0.333884 &           50.0 \\\\\n",
      "Salvador        &  0.078250 &           57.0 \\\\\n",
      "Recife          &  0.132556 &           45.0 \\\\\n",
      "\\bottomrule\n",
      "\\end{tabular}\n",
      "\n"
     ]
    }
   ],
   "source": [
    "print(priors.to_latex())"
   ]
  },
  {
   "cell_type": "code",
   "execution_count": null,
   "id": "95a2bca7",
   "metadata": {},
   "outputs": [],
   "source": []
  }
 ],
 "metadata": {
  "kernelspec": {
   "display_name": "Python 3",
   "language": "python",
   "name": "python3"
  },
  "language_info": {
   "codemirror_mode": {
    "name": "ipython",
    "version": 3
   },
   "file_extension": ".py",
   "mimetype": "text/x-python",
   "name": "python",
   "nbconvert_exporter": "python",
   "pygments_lexer": "ipython3",
   "version": "3.6.13"
  }
 },
 "nbformat": 4,
 "nbformat_minor": 5
}
