{
 "cells": [
  {
   "cell_type": "markdown",
   "id": "2d99176d",
   "metadata": {},
   "source": [
    "I need to figure out a way of translating the river mouth locations to the grid from the model. \n",
    "\n",
    "TOC:\n",
    "1. read shapefiles (Lebreton or Meijer)\n",
    "2. split Point objects.\n",
    "3. bin the rivers into the coastal cells\n",
    "4. Cluster the rivers in N groups\n",
    "5. generate initial conditions for cluster\n",
    "    - save the river coord inside the cluster\n",
    "    - generate delayed realease randomized\n",
    "    - save them, sneaky beasts\n",
    "6. Compute priors."
   ]
  },
  {
   "cell_type": "code",
   "execution_count": 1,
   "id": "f270058e",
   "metadata": {},
   "outputs": [],
   "source": [
    "import numpy as np\n",
    "import pandas as pd\n",
    "import xarray as xr\n",
    "import geopandas as gpd\n",
    "import matplotlib.pyplot as plt\n",
    "\n",
    "import cartopy.crs as ccrs\n",
    "import cartopy.feature as cfeature\n",
    "import matplotlib.cm as cm\n",
    "\n",
    "import random"
   ]
  },
  {
   "cell_type": "code",
   "execution_count": 2,
   "id": "a62040d1",
   "metadata": {},
   "outputs": [],
   "source": [
    "def haversine_distance_two(point_A, point_B):\n",
    "    \"\"\"\n",
    "    Calculate the great circle distance between two points\n",
    "    on the earth (specified in decimal degrees)\n",
    "\n",
    "    All args must be of equal length.    \n",
    "    \"\"\"\n",
    "    lat1, lon1 = point_A\n",
    "    lat2, lon2 = point_B\n",
    "    lon1, lat1, lon2, lat2 = map(np.radians, [lon1, lat1, lon2, lat2])\n",
    "    dlon = lon2 - lon1\n",
    "    dlat = lat2 - lat1\n",
    "\n",
    "    a = np.sin(dlat/2.0)**2 + np.cos(lat1) * np.cos(lat2) * np.sin(dlon/2.0)**2\n",
    "\n",
    "    c = 2 * np.arcsin(np.sqrt(a))\n",
    "    km = 6367 * c\n",
    "    return km\n",
    "\n",
    "\n",
    "def region_filters(DF, lon_min, lon_max, lat_min, lat_max, shapefile=False):\n",
    "    \"\"\"\n",
    "    DF is the River_sources dataframes. lat_min, lat_max, lon_min, lon_max are the domain limits.\n",
    "    Returns the dataframe only for the region.\n",
    "    \"\"\"\n",
    "    if shapefile:\n",
    "        X = DF.geometry.x\n",
    "        Y = DF.geometry.y\n",
    "    else:\n",
    "        X = DF['X']\n",
    "        Y = DF['Y']\n",
    "        \n",
    "    mask = (X <= lon_max) & (X > lon_min) & (Y <= lat_max) & (Y > lat_min)\n",
    "    \n",
    "    new_DF = DF[mask]\n",
    "    return new_DF\n",
    "    "
   ]
  },
  {
   "cell_type": "code",
   "execution_count": 3,
   "id": "ecca60eb",
   "metadata": {},
   "outputs": [],
   "source": [
    "coastal_fields = xr.load_dataset('../coastal_fields.nc')"
   ]
  },
  {
   "cell_type": "code",
   "execution_count": 4,
   "id": "d53c453d",
   "metadata": {},
   "outputs": [],
   "source": [
    "coast = coastal_fields.coast.values\n",
    "lats = coastal_fields.lat.values\n",
    "lons = coastal_fields.lon.values\n",
    "\n",
    "X = coastal_fields.lon_mesh\n",
    "Y = coastal_fields.lat_mesh"
   ]
  },
  {
   "cell_type": "code",
   "execution_count": 5,
   "id": "17206bf6",
   "metadata": {},
   "outputs": [],
   "source": [
    "iy_coast, ix_coast = np.where(coast==1)\n",
    "lat_coast = lats[iy_coast]\n",
    "lon_coast = lons[ix_coast]"
   ]
  },
  {
   "cell_type": "code",
   "execution_count": 6,
   "id": "5acc9310",
   "metadata": {},
   "outputs": [],
   "source": [
    "def nearest_coastal_cell(latidute, longitude, coord_lat, coord_lon):    \n",
    "    \"\"\"\n",
    "    Function to find the index of the closest point to a certain lon/lat value.\n",
    "    \n",
    "    latidute and longitude are the dimensinal 1D arrays of the grid, with the same length.\n",
    "    coord_lat and coord_lon are the coordinates of a point.\n",
    "    \"\"\"\n",
    "    \n",
    "    distance = np.sqrt((longitude-coord_lon)**2 + (latidute-coord_lat)**2)                     \n",
    "    index = distance.argmin()               \n",
    "        \n",
    "    return index"
   ]
  },
  {
   "cell_type": "code",
   "execution_count": 7,
   "id": "e20e1a79",
   "metadata": {},
   "outputs": [
    {
     "data": {
      "text/plain": [
       "4777"
      ]
     },
     "execution_count": 7,
     "metadata": {},
     "output_type": "execute_result"
    }
   ],
   "source": [
    "nearest_coastal_cell(lat_coast, lon_coast, -10, -30)"
   ]
  },
  {
   "cell_type": "code",
   "execution_count": 8,
   "id": "b6142e83",
   "metadata": {},
   "outputs": [],
   "source": [
    "South_Atlantic_region = (-70, 25, -50, -5)"
   ]
  },
  {
   "cell_type": "markdown",
   "id": "464ba358",
   "metadata": {},
   "source": [
    "# 1. Loading data from GIS shapefiles"
   ]
  },
  {
   "cell_type": "code",
   "execution_count": 9,
   "id": "3e3cee5f",
   "metadata": {},
   "outputs": [],
   "source": [
    "def convert_geopandas2pandas(geoDF):\n",
    "    '''Replaces the geometry column with a X and Y columns\n",
    "    There no built-in function for this in geopandas! \n",
    "    '''\n",
    "    \n",
    "    L = len(geoDF)\n",
    "    coord = np.zeros((L,2))\n",
    "    coord[:, 0] = geoDF.geometry.x\n",
    "    coord[:, 1] = geoDF.geometry.y\n",
    "    aux = pd.DataFrame(coord, columns=['X','Y'])\n",
    "    geoDF.drop(columns=['geometry'], inplace=True)\n",
    "    geoDF = pd.concat([geoDF, aux], axis=1)\n",
    "    \n",
    "    return geoDF"
   ]
  },
  {
   "cell_type": "code",
   "execution_count": 10,
   "id": "82c918dd",
   "metadata": {},
   "outputs": [],
   "source": [
    "path = '../data/sources/Lebreton_rivers/PlasticRiverInputs/' \n",
    "lebreton = convert_geopandas2pandas(gpd.read_file(path))"
   ]
  },
  {
   "cell_type": "code",
   "execution_count": 11,
   "id": "47d46aa1",
   "metadata": {},
   "outputs": [
    {
     "data": {
      "text/html": [
       "<div>\n",
       "<style scoped>\n",
       "    .dataframe tbody tr th:only-of-type {\n",
       "        vertical-align: middle;\n",
       "    }\n",
       "\n",
       "    .dataframe tbody tr th {\n",
       "        vertical-align: top;\n",
       "    }\n",
       "\n",
       "    .dataframe thead th {\n",
       "        text-align: right;\n",
       "    }\n",
       "</style>\n",
       "<table border=\"1\" class=\"dataframe\">\n",
       "  <thead>\n",
       "    <tr style=\"text-align: right;\">\n",
       "      <th></th>\n",
       "      <th>i_mid</th>\n",
       "      <th>i_low</th>\n",
       "      <th>i_high</th>\n",
       "      <th>i_mid_jan</th>\n",
       "      <th>i_low_jan</th>\n",
       "      <th>i_high_jan</th>\n",
       "      <th>i_mid_feb</th>\n",
       "      <th>i_low_feb</th>\n",
       "      <th>i_high_feb</th>\n",
       "      <th>i_mid_mar</th>\n",
       "      <th>...</th>\n",
       "      <th>runoff_jul</th>\n",
       "      <th>runoff_aug</th>\n",
       "      <th>runoff_sep</th>\n",
       "      <th>runoff_oct</th>\n",
       "      <th>runoff_nov</th>\n",
       "      <th>runoff_dec</th>\n",
       "      <th>mpw</th>\n",
       "      <th>area</th>\n",
       "      <th>X</th>\n",
       "      <th>Y</th>\n",
       "    </tr>\n",
       "  </thead>\n",
       "  <tbody>\n",
       "    <tr>\n",
       "      <th>0</th>\n",
       "      <td>0.000000</td>\n",
       "      <td>0.000000</td>\n",
       "      <td>0.000000</td>\n",
       "      <td>0.000000</td>\n",
       "      <td>0.000000</td>\n",
       "      <td>0.000000</td>\n",
       "      <td>0.000000</td>\n",
       "      <td>0.000000</td>\n",
       "      <td>0.000000</td>\n",
       "      <td>0.000000</td>\n",
       "      <td>...</td>\n",
       "      <td>0.000000</td>\n",
       "      <td>0.000000</td>\n",
       "      <td>0.000000</td>\n",
       "      <td>0.000000</td>\n",
       "      <td>0.000000</td>\n",
       "      <td>0.000000</td>\n",
       "      <td>21753.3</td>\n",
       "      <td>22500000.0</td>\n",
       "      <td>9.812500</td>\n",
       "      <td>37.329167</td>\n",
       "    </tr>\n",
       "    <tr>\n",
       "      <th>1</th>\n",
       "      <td>0.117503</td>\n",
       "      <td>0.046447</td>\n",
       "      <td>0.431570</td>\n",
       "      <td>0.008847</td>\n",
       "      <td>0.003387</td>\n",
       "      <td>0.033584</td>\n",
       "      <td>0.025464</td>\n",
       "      <td>0.010425</td>\n",
       "      <td>0.089840</td>\n",
       "      <td>0.022978</td>\n",
       "      <td>...</td>\n",
       "      <td>0.172272</td>\n",
       "      <td>0.075899</td>\n",
       "      <td>0.067729</td>\n",
       "      <td>0.176044</td>\n",
       "      <td>0.588417</td>\n",
       "      <td>0.466081</td>\n",
       "      <td>506114.0</td>\n",
       "      <td>95100000.0</td>\n",
       "      <td>9.387500</td>\n",
       "      <td>37.254167</td>\n",
       "    </tr>\n",
       "    <tr>\n",
       "      <th>2</th>\n",
       "      <td>0.004653</td>\n",
       "      <td>0.001518</td>\n",
       "      <td>0.021067</td>\n",
       "      <td>0.000364</td>\n",
       "      <td>0.000116</td>\n",
       "      <td>0.001692</td>\n",
       "      <td>0.000750</td>\n",
       "      <td>0.000250</td>\n",
       "      <td>0.003305</td>\n",
       "      <td>0.000905</td>\n",
       "      <td>...</td>\n",
       "      <td>0.236187</td>\n",
       "      <td>0.135462</td>\n",
       "      <td>0.101813</td>\n",
       "      <td>0.223936</td>\n",
       "      <td>0.821796</td>\n",
       "      <td>0.500808</td>\n",
       "      <td>56294.6</td>\n",
       "      <td>33500000.0</td>\n",
       "      <td>9.804167</td>\n",
       "      <td>37.237500</td>\n",
       "    </tr>\n",
       "    <tr>\n",
       "      <th>3</th>\n",
       "      <td>0.163098</td>\n",
       "      <td>0.065719</td>\n",
       "      <td>0.586740</td>\n",
       "      <td>0.019418</td>\n",
       "      <td>0.007780</td>\n",
       "      <td>0.070142</td>\n",
       "      <td>0.041209</td>\n",
       "      <td>0.017347</td>\n",
       "      <td>0.141035</td>\n",
       "      <td>0.030320</td>\n",
       "      <td>...</td>\n",
       "      <td>0.275328</td>\n",
       "      <td>0.182635</td>\n",
       "      <td>0.184765</td>\n",
       "      <td>0.335541</td>\n",
       "      <td>1.101117</td>\n",
       "      <td>0.927117</td>\n",
       "      <td>349409.0</td>\n",
       "      <td>99200000.0</td>\n",
       "      <td>9.229167</td>\n",
       "      <td>37.220833</td>\n",
       "    </tr>\n",
       "    <tr>\n",
       "      <th>4</th>\n",
       "      <td>0.038200</td>\n",
       "      <td>0.014144</td>\n",
       "      <td>0.150693</td>\n",
       "      <td>0.003528</td>\n",
       "      <td>0.001281</td>\n",
       "      <td>0.014193</td>\n",
       "      <td>0.008848</td>\n",
       "      <td>0.003407</td>\n",
       "      <td>0.033372</td>\n",
       "      <td>0.007342</td>\n",
       "      <td>...</td>\n",
       "      <td>0.200378</td>\n",
       "      <td>0.105010</td>\n",
       "      <td>0.099647</td>\n",
       "      <td>0.219543</td>\n",
       "      <td>0.728243</td>\n",
       "      <td>0.591818</td>\n",
       "      <td>199000.0</td>\n",
       "      <td>39700000.0</td>\n",
       "      <td>9.254167</td>\n",
       "      <td>37.220833</td>\n",
       "    </tr>\n",
       "  </tbody>\n",
       "</table>\n",
       "<p>5 rows × 55 columns</p>\n",
       "</div>"
      ],
      "text/plain": [
       "      i_mid     i_low    i_high  i_mid_jan  i_low_jan  i_high_jan  i_mid_feb  \\\n",
       "0  0.000000  0.000000  0.000000   0.000000   0.000000    0.000000   0.000000   \n",
       "1  0.117503  0.046447  0.431570   0.008847   0.003387    0.033584   0.025464   \n",
       "2  0.004653  0.001518  0.021067   0.000364   0.000116    0.001692   0.000750   \n",
       "3  0.163098  0.065719  0.586740   0.019418   0.007780    0.070142   0.041209   \n",
       "4  0.038200  0.014144  0.150693   0.003528   0.001281    0.014193   0.008848   \n",
       "\n",
       "   i_low_feb  i_high_feb  i_mid_mar  ...  runoff_jul  runoff_aug  runoff_sep  \\\n",
       "0   0.000000    0.000000   0.000000  ...    0.000000    0.000000    0.000000   \n",
       "1   0.010425    0.089840   0.022978  ...    0.172272    0.075899    0.067729   \n",
       "2   0.000250    0.003305   0.000905  ...    0.236187    0.135462    0.101813   \n",
       "3   0.017347    0.141035   0.030320  ...    0.275328    0.182635    0.184765   \n",
       "4   0.003407    0.033372   0.007342  ...    0.200378    0.105010    0.099647   \n",
       "\n",
       "   runoff_oct  runoff_nov  runoff_dec       mpw        area         X  \\\n",
       "0    0.000000    0.000000    0.000000   21753.3  22500000.0  9.812500   \n",
       "1    0.176044    0.588417    0.466081  506114.0  95100000.0  9.387500   \n",
       "2    0.223936    0.821796    0.500808   56294.6  33500000.0  9.804167   \n",
       "3    0.335541    1.101117    0.927117  349409.0  99200000.0  9.229167   \n",
       "4    0.219543    0.728243    0.591818  199000.0  39700000.0  9.254167   \n",
       "\n",
       "           Y  \n",
       "0  37.329167  \n",
       "1  37.254167  \n",
       "2  37.237500  \n",
       "3  37.220833  \n",
       "4  37.220833  \n",
       "\n",
       "[5 rows x 55 columns]"
      ]
     },
     "execution_count": 11,
     "metadata": {},
     "output_type": "execute_result"
    }
   ],
   "source": [
    "lebreton.head()"
   ]
  },
  {
   "cell_type": "code",
   "execution_count": 12,
   "id": "bcf9aa4c",
   "metadata": {},
   "outputs": [],
   "source": [
    "path = '../data/sources/Meijer2021_midpoint_emissions/' \n",
    "meijer = convert_geopandas2pandas(gpd.read_file(path))"
   ]
  },
  {
   "cell_type": "code",
   "execution_count": 13,
   "id": "c98ea534",
   "metadata": {},
   "outputs": [
    {
     "data": {
      "text/html": [
       "<div>\n",
       "<style scoped>\n",
       "    .dataframe tbody tr th:only-of-type {\n",
       "        vertical-align: middle;\n",
       "    }\n",
       "\n",
       "    .dataframe tbody tr th {\n",
       "        vertical-align: top;\n",
       "    }\n",
       "\n",
       "    .dataframe thead th {\n",
       "        text-align: right;\n",
       "    }\n",
       "</style>\n",
       "<table border=\"1\" class=\"dataframe\">\n",
       "  <thead>\n",
       "    <tr style=\"text-align: right;\">\n",
       "      <th></th>\n",
       "      <th>dots_exten</th>\n",
       "      <th>X</th>\n",
       "      <th>Y</th>\n",
       "    </tr>\n",
       "  </thead>\n",
       "  <tbody>\n",
       "    <tr>\n",
       "      <th>0</th>\n",
       "      <td>0.164904</td>\n",
       "      <td>168.797917</td>\n",
       "      <td>-46.580833</td>\n",
       "    </tr>\n",
       "    <tr>\n",
       "      <th>1</th>\n",
       "      <td>0.124932</td>\n",
       "      <td>168.348750</td>\n",
       "      <td>-46.447083</td>\n",
       "    </tr>\n",
       "    <tr>\n",
       "      <th>2</th>\n",
       "      <td>1.213370</td>\n",
       "      <td>168.337083</td>\n",
       "      <td>-46.418750</td>\n",
       "    </tr>\n",
       "    <tr>\n",
       "      <th>3</th>\n",
       "      <td>0.121138</td>\n",
       "      <td>168.021250</td>\n",
       "      <td>-46.357917</td>\n",
       "    </tr>\n",
       "    <tr>\n",
       "      <th>4</th>\n",
       "      <td>0.197533</td>\n",
       "      <td>169.811250</td>\n",
       "      <td>-46.343750</td>\n",
       "    </tr>\n",
       "  </tbody>\n",
       "</table>\n",
       "</div>"
      ],
      "text/plain": [
       "   dots_exten           X          Y\n",
       "0    0.164904  168.797917 -46.580833\n",
       "1    0.124932  168.348750 -46.447083\n",
       "2    1.213370  168.337083 -46.418750\n",
       "3    0.121138  168.021250 -46.357917\n",
       "4    0.197533  169.811250 -46.343750"
      ]
     },
     "execution_count": 13,
     "metadata": {},
     "output_type": "execute_result"
    }
   ],
   "source": [
    "meijer.head()"
   ]
  },
  {
   "cell_type": "code",
   "execution_count": 14,
   "id": "bd346b63",
   "metadata": {},
   "outputs": [],
   "source": [
    "meijer.to_csv('../data/sources/Meijer2021_midpoint_emissions.csv')"
   ]
  },
  {
   "cell_type": "markdown",
   "id": "2564cdfe",
   "metadata": {},
   "source": [
    "# 2. "
   ]
  },
  {
   "cell_type": "code",
   "execution_count": 15,
   "id": "31eebb32",
   "metadata": {},
   "outputs": [],
   "source": [
    "def rivers2coastalgrid(DF, coastal_fields):\n",
    "    \n",
    "    N = len(DF)\n",
    "    \n",
    "    coast = coastal_fields.coast.values\n",
    "    lats = coastal_fields.lat.values\n",
    "    lons = coastal_fields.lon.values\n",
    "    iy_coast, ix_coast = np.where(coast==1)\n",
    "    lat_coast = lats[iy_coast]\n",
    "    lon_coast = lons[ix_coast]\n",
    "\n",
    "    new_coordinates = np.zeros((N, 2)) \n",
    "\n",
    "    for i in range(N):\n",
    "        x_lon = DF.iloc[i].X\n",
    "        x_lat = DF.iloc[i].Y\n",
    "\n",
    "        n_index = nearest_coastal_cell(lat_coast, lon_coast, x_lat, x_lon)\n",
    "        new_coordinates[i,:] = (lon_coast[n_index], lat_coast[n_index])\n",
    "        \n",
    "    aux = pd.DataFrame(new_coordinates, columns=['X_bin', 'Y_bin'], index=DF.index)\n",
    "    new_DF = pd.concat([DF, aux], axis=1)\n",
    "    \n",
    "    counts = new_DF.groupby(['X_bin', 'Y_bin']).count().loc[:, 'X'].values\n",
    "    new_DF = new_DF.groupby(['X_bin', 'Y_bin']).sum()\n",
    "    new_DF['merged_rivers'] = counts\n",
    "    new_DF.reset_index(inplace=True)\n",
    "    new_DF.drop(labels=['X', 'Y'], axis=1, inplace=True)\n",
    "\n",
    "    return new_DF"
   ]
  },
  {
   "cell_type": "markdown",
   "id": "ad213757",
   "metadata": {},
   "source": [
    "We select a smaller region for the analysis."
   ]
  },
  {
   "cell_type": "code",
   "execution_count": 16,
   "id": "ce07b157",
   "metadata": {},
   "outputs": [],
   "source": [
    "sa_lebreton = region_filters(lebreton, *South_Atlantic_region)"
   ]
  },
  {
   "cell_type": "code",
   "execution_count": 17,
   "id": "4730c79d",
   "metadata": {},
   "outputs": [],
   "source": [
    "bin_lebreton = rivers2coastalgrid(sa_lebreton, coastal_fields)"
   ]
  },
  {
   "cell_type": "code",
   "execution_count": 18,
   "id": "d67a7e3d",
   "metadata": {},
   "outputs": [
    {
     "data": {
      "text/html": [
       "<div>\n",
       "<style scoped>\n",
       "    .dataframe tbody tr th:only-of-type {\n",
       "        vertical-align: middle;\n",
       "    }\n",
       "\n",
       "    .dataframe tbody tr th {\n",
       "        vertical-align: top;\n",
       "    }\n",
       "\n",
       "    .dataframe thead th {\n",
       "        text-align: right;\n",
       "    }\n",
       "</style>\n",
       "<table border=\"1\" class=\"dataframe\">\n",
       "  <thead>\n",
       "    <tr style=\"text-align: right;\">\n",
       "      <th></th>\n",
       "      <th>X_bin</th>\n",
       "      <th>Y_bin</th>\n",
       "      <th>i_mid</th>\n",
       "      <th>i_low</th>\n",
       "      <th>i_high</th>\n",
       "      <th>i_mid_jan</th>\n",
       "      <th>i_low_jan</th>\n",
       "      <th>i_high_jan</th>\n",
       "      <th>i_mid_feb</th>\n",
       "      <th>i_low_feb</th>\n",
       "      <th>...</th>\n",
       "      <th>runoff_jun</th>\n",
       "      <th>runoff_jul</th>\n",
       "      <th>runoff_aug</th>\n",
       "      <th>runoff_sep</th>\n",
       "      <th>runoff_oct</th>\n",
       "      <th>runoff_nov</th>\n",
       "      <th>runoff_dec</th>\n",
       "      <th>mpw</th>\n",
       "      <th>area</th>\n",
       "      <th>merged_rivers</th>\n",
       "    </tr>\n",
       "  </thead>\n",
       "  <tbody>\n",
       "    <tr>\n",
       "      <th>0</th>\n",
       "      <td>-68.583336</td>\n",
       "      <td>-50.250000</td>\n",
       "      <td>0.006420</td>\n",
       "      <td>0.002029</td>\n",
       "      <td>0.030079</td>\n",
       "      <td>0.000594</td>\n",
       "      <td>0.000188</td>\n",
       "      <td>0.002776</td>\n",
       "      <td>0.000522</td>\n",
       "      <td>0.000165</td>\n",
       "      <td>...</td>\n",
       "      <td>1.429872</td>\n",
       "      <td>1.275802</td>\n",
       "      <td>1.136191</td>\n",
       "      <td>1.378335</td>\n",
       "      <td>1.437603</td>\n",
       "      <td>1.371964</td>\n",
       "      <td>1.351435</td>\n",
       "      <td>76543.190</td>\n",
       "      <td>4.542030e+10</td>\n",
       "      <td>4</td>\n",
       "    </tr>\n",
       "    <tr>\n",
       "      <th>1</th>\n",
       "      <td>-68.333336</td>\n",
       "      <td>-50.166668</td>\n",
       "      <td>0.000002</td>\n",
       "      <td>0.000000</td>\n",
       "      <td>0.000013</td>\n",
       "      <td>0.000000</td>\n",
       "      <td>0.000000</td>\n",
       "      <td>0.000001</td>\n",
       "      <td>0.000000</td>\n",
       "      <td>0.000000</td>\n",
       "      <td>...</td>\n",
       "      <td>0.413738</td>\n",
       "      <td>0.590872</td>\n",
       "      <td>0.562548</td>\n",
       "      <td>0.472751</td>\n",
       "      <td>0.317295</td>\n",
       "      <td>0.239723</td>\n",
       "      <td>0.223380</td>\n",
       "      <td>1564.809</td>\n",
       "      <td>5.068000e+08</td>\n",
       "      <td>3</td>\n",
       "    </tr>\n",
       "    <tr>\n",
       "      <th>2</th>\n",
       "      <td>-67.916664</td>\n",
       "      <td>-50.000000</td>\n",
       "      <td>0.000000</td>\n",
       "      <td>0.000000</td>\n",
       "      <td>0.000000</td>\n",
       "      <td>0.000000</td>\n",
       "      <td>0.000000</td>\n",
       "      <td>0.000000</td>\n",
       "      <td>0.000000</td>\n",
       "      <td>0.000000</td>\n",
       "      <td>...</td>\n",
       "      <td>0.240534</td>\n",
       "      <td>0.280626</td>\n",
       "      <td>0.268234</td>\n",
       "      <td>0.258034</td>\n",
       "      <td>0.211518</td>\n",
       "      <td>0.170115</td>\n",
       "      <td>0.151919</td>\n",
       "      <td>38.170</td>\n",
       "      <td>1.490000e+07</td>\n",
       "      <td>1</td>\n",
       "    </tr>\n",
       "    <tr>\n",
       "      <th>3</th>\n",
       "      <td>-67.833336</td>\n",
       "      <td>-49.916668</td>\n",
       "      <td>0.000000</td>\n",
       "      <td>0.000000</td>\n",
       "      <td>0.000002</td>\n",
       "      <td>0.000000</td>\n",
       "      <td>0.000000</td>\n",
       "      <td>0.000000</td>\n",
       "      <td>0.000000</td>\n",
       "      <td>0.000000</td>\n",
       "      <td>...</td>\n",
       "      <td>0.481065</td>\n",
       "      <td>0.561252</td>\n",
       "      <td>0.536468</td>\n",
       "      <td>0.516073</td>\n",
       "      <td>0.423039</td>\n",
       "      <td>0.340224</td>\n",
       "      <td>0.303836</td>\n",
       "      <td>251.043</td>\n",
       "      <td>9.570000e+07</td>\n",
       "      <td>2</td>\n",
       "    </tr>\n",
       "    <tr>\n",
       "      <th>4</th>\n",
       "      <td>-67.750000</td>\n",
       "      <td>-49.750000</td>\n",
       "      <td>0.000000</td>\n",
       "      <td>0.000000</td>\n",
       "      <td>0.000004</td>\n",
       "      <td>0.000000</td>\n",
       "      <td>0.000000</td>\n",
       "      <td>0.000000</td>\n",
       "      <td>0.000000</td>\n",
       "      <td>0.000000</td>\n",
       "      <td>...</td>\n",
       "      <td>0.485726</td>\n",
       "      <td>0.584076</td>\n",
       "      <td>0.547501</td>\n",
       "      <td>0.512261</td>\n",
       "      <td>0.406353</td>\n",
       "      <td>0.322592</td>\n",
       "      <td>0.284390</td>\n",
       "      <td>403.819</td>\n",
       "      <td>1.475000e+08</td>\n",
       "      <td>2</td>\n",
       "    </tr>\n",
       "  </tbody>\n",
       "</table>\n",
       "<p>5 rows × 56 columns</p>\n",
       "</div>"
      ],
      "text/plain": [
       "       X_bin      Y_bin     i_mid     i_low    i_high  i_mid_jan  i_low_jan  \\\n",
       "0 -68.583336 -50.250000  0.006420  0.002029  0.030079   0.000594   0.000188   \n",
       "1 -68.333336 -50.166668  0.000002  0.000000  0.000013   0.000000   0.000000   \n",
       "2 -67.916664 -50.000000  0.000000  0.000000  0.000000   0.000000   0.000000   \n",
       "3 -67.833336 -49.916668  0.000000  0.000000  0.000002   0.000000   0.000000   \n",
       "4 -67.750000 -49.750000  0.000000  0.000000  0.000004   0.000000   0.000000   \n",
       "\n",
       "   i_high_jan  i_mid_feb  i_low_feb  ...  runoff_jun  runoff_jul  runoff_aug  \\\n",
       "0    0.002776   0.000522   0.000165  ...    1.429872    1.275802    1.136191   \n",
       "1    0.000001   0.000000   0.000000  ...    0.413738    0.590872    0.562548   \n",
       "2    0.000000   0.000000   0.000000  ...    0.240534    0.280626    0.268234   \n",
       "3    0.000000   0.000000   0.000000  ...    0.481065    0.561252    0.536468   \n",
       "4    0.000000   0.000000   0.000000  ...    0.485726    0.584076    0.547501   \n",
       "\n",
       "   runoff_sep  runoff_oct  runoff_nov  runoff_dec        mpw          area  \\\n",
       "0    1.378335    1.437603    1.371964    1.351435  76543.190  4.542030e+10   \n",
       "1    0.472751    0.317295    0.239723    0.223380   1564.809  5.068000e+08   \n",
       "2    0.258034    0.211518    0.170115    0.151919     38.170  1.490000e+07   \n",
       "3    0.516073    0.423039    0.340224    0.303836    251.043  9.570000e+07   \n",
       "4    0.512261    0.406353    0.322592    0.284390    403.819  1.475000e+08   \n",
       "\n",
       "   merged_rivers  \n",
       "0              4  \n",
       "1              3  \n",
       "2              1  \n",
       "3              2  \n",
       "4              2  \n",
       "\n",
       "[5 rows x 56 columns]"
      ]
     },
     "execution_count": 18,
     "metadata": {},
     "output_type": "execute_result"
    }
   ],
   "source": [
    "bin_lebreton.head()"
   ]
  },
  {
   "cell_type": "code",
   "execution_count": 34,
   "id": "2dd4dc94",
   "metadata": {},
   "outputs": [
    {
     "data": {
      "text/plain": [
       "(-70, 25, -50, -5)"
      ]
     },
     "execution_count": 34,
     "metadata": {},
     "output_type": "execute_result"
    }
   ],
   "source": [
    "South_Atlantic_region"
   ]
  },
  {
   "cell_type": "code",
   "execution_count": 31,
   "id": "83f8cffd",
   "metadata": {},
   "outputs": [],
   "source": [
    "sa_meijer = region_filters(meijer, *South_Atlantic_region)"
   ]
  },
  {
   "cell_type": "code",
   "execution_count": 32,
   "id": "a0aefd59",
   "metadata": {},
   "outputs": [
    {
     "data": {
      "text/html": [
       "<div>\n",
       "<style scoped>\n",
       "    .dataframe tbody tr th:only-of-type {\n",
       "        vertical-align: middle;\n",
       "    }\n",
       "\n",
       "    .dataframe tbody tr th {\n",
       "        vertical-align: top;\n",
       "    }\n",
       "\n",
       "    .dataframe thead th {\n",
       "        text-align: right;\n",
       "    }\n",
       "</style>\n",
       "<table border=\"1\" class=\"dataframe\">\n",
       "  <thead>\n",
       "    <tr style=\"text-align: right;\">\n",
       "      <th></th>\n",
       "      <th>dots_exten</th>\n",
       "      <th>X</th>\n",
       "      <th>Y</th>\n",
       "    </tr>\n",
       "  </thead>\n",
       "  <tbody>\n",
       "    <tr>\n",
       "      <th>19832</th>\n",
       "      <td>0.116729</td>\n",
       "      <td>19.713750</td>\n",
       "      <td>-34.762083</td>\n",
       "    </tr>\n",
       "    <tr>\n",
       "      <th>19833</th>\n",
       "      <td>1.843410</td>\n",
       "      <td>20.112917</td>\n",
       "      <td>-34.712083</td>\n",
       "    </tr>\n",
       "    <tr>\n",
       "      <th>19834</th>\n",
       "      <td>1.927560</td>\n",
       "      <td>19.412917</td>\n",
       "      <td>-34.604583</td>\n",
       "    </tr>\n",
       "    <tr>\n",
       "      <th>19835</th>\n",
       "      <td>0.600146</td>\n",
       "      <td>20.337083</td>\n",
       "      <td>-34.597083</td>\n",
       "    </tr>\n",
       "    <tr>\n",
       "      <th>19836</th>\n",
       "      <td>1.503210</td>\n",
       "      <td>20.447083</td>\n",
       "      <td>-34.506250</td>\n",
       "    </tr>\n",
       "    <tr>\n",
       "      <th>...</th>\n",
       "      <td>...</td>\n",
       "      <td>...</td>\n",
       "      <td>...</td>\n",
       "    </tr>\n",
       "    <tr>\n",
       "      <th>26370</th>\n",
       "      <td>1.130220</td>\n",
       "      <td>-36.735417</td>\n",
       "      <td>-5.087917</td>\n",
       "    </tr>\n",
       "    <tr>\n",
       "      <th>26371</th>\n",
       "      <td>0.311402</td>\n",
       "      <td>-35.761250</td>\n",
       "      <td>-5.087500</td>\n",
       "    </tr>\n",
       "    <tr>\n",
       "      <th>26372</th>\n",
       "      <td>0.191990</td>\n",
       "      <td>-35.880417</td>\n",
       "      <td>-5.067917</td>\n",
       "    </tr>\n",
       "    <tr>\n",
       "      <th>26373</th>\n",
       "      <td>0.512231</td>\n",
       "      <td>-35.861250</td>\n",
       "      <td>-5.067917</td>\n",
       "    </tr>\n",
       "    <tr>\n",
       "      <th>26374</th>\n",
       "      <td>0.223562</td>\n",
       "      <td>-36.818333</td>\n",
       "      <td>-5.020417</td>\n",
       "    </tr>\n",
       "  </tbody>\n",
       "</table>\n",
       "<p>1010 rows × 3 columns</p>\n",
       "</div>"
      ],
      "text/plain": [
       "       dots_exten          X          Y\n",
       "19832    0.116729  19.713750 -34.762083\n",
       "19833    1.843410  20.112917 -34.712083\n",
       "19834    1.927560  19.412917 -34.604583\n",
       "19835    0.600146  20.337083 -34.597083\n",
       "19836    1.503210  20.447083 -34.506250\n",
       "...           ...        ...        ...\n",
       "26370    1.130220 -36.735417  -5.087917\n",
       "26371    0.311402 -35.761250  -5.087500\n",
       "26372    0.191990 -35.880417  -5.067917\n",
       "26373    0.512231 -35.861250  -5.067917\n",
       "26374    0.223562 -36.818333  -5.020417\n",
       "\n",
       "[1010 rows x 3 columns]"
      ]
     },
     "execution_count": 32,
     "metadata": {},
     "output_type": "execute_result"
    }
   ],
   "source": [
    "sa_meijer"
   ]
  },
  {
   "cell_type": "code",
   "execution_count": 20,
   "id": "16f162ae",
   "metadata": {},
   "outputs": [],
   "source": [
    "bin_meijer = rivers2coastalgrid(sa_meijer, coastal_fields)"
   ]
  },
  {
   "cell_type": "code",
   "execution_count": 21,
   "id": "56188bbc",
   "metadata": {},
   "outputs": [
    {
     "data": {
      "text/html": [
       "<div>\n",
       "<style scoped>\n",
       "    .dataframe tbody tr th:only-of-type {\n",
       "        vertical-align: middle;\n",
       "    }\n",
       "\n",
       "    .dataframe tbody tr th {\n",
       "        vertical-align: top;\n",
       "    }\n",
       "\n",
       "    .dataframe thead th {\n",
       "        text-align: right;\n",
       "    }\n",
       "</style>\n",
       "<table border=\"1\" class=\"dataframe\">\n",
       "  <thead>\n",
       "    <tr style=\"text-align: right;\">\n",
       "      <th></th>\n",
       "      <th>X_bin</th>\n",
       "      <th>Y_bin</th>\n",
       "      <th>dots_exten</th>\n",
       "      <th>merged_rivers</th>\n",
       "    </tr>\n",
       "  </thead>\n",
       "  <tbody>\n",
       "    <tr>\n",
       "      <th>0</th>\n",
       "      <td>-68.583336</td>\n",
       "      <td>-50.250000</td>\n",
       "      <td>0.342405</td>\n",
       "      <td>1</td>\n",
       "    </tr>\n",
       "    <tr>\n",
       "      <th>1</th>\n",
       "      <td>-67.583336</td>\n",
       "      <td>-49.250000</td>\n",
       "      <td>0.517043</td>\n",
       "      <td>1</td>\n",
       "    </tr>\n",
       "    <tr>\n",
       "      <th>2</th>\n",
       "      <td>-67.500000</td>\n",
       "      <td>-46.500000</td>\n",
       "      <td>0.446724</td>\n",
       "      <td>1</td>\n",
       "    </tr>\n",
       "    <tr>\n",
       "      <th>3</th>\n",
       "      <td>-67.500000</td>\n",
       "      <td>-45.916668</td>\n",
       "      <td>7.472280</td>\n",
       "      <td>1</td>\n",
       "    </tr>\n",
       "    <tr>\n",
       "      <th>4</th>\n",
       "      <td>-67.416664</td>\n",
       "      <td>-45.833332</td>\n",
       "      <td>5.246860</td>\n",
       "      <td>2</td>\n",
       "    </tr>\n",
       "  </tbody>\n",
       "</table>\n",
       "</div>"
      ],
      "text/plain": [
       "       X_bin      Y_bin  dots_exten  merged_rivers\n",
       "0 -68.583336 -50.250000    0.342405              1\n",
       "1 -67.583336 -49.250000    0.517043              1\n",
       "2 -67.500000 -46.500000    0.446724              1\n",
       "3 -67.500000 -45.916668    7.472280              1\n",
       "4 -67.416664 -45.833332    5.246860              2"
      ]
     },
     "execution_count": 21,
     "metadata": {},
     "output_type": "execute_result"
    }
   ],
   "source": [
    "bin_meijer.head()"
   ]
  },
  {
   "cell_type": "markdown",
   "id": "7797b3c3",
   "metadata": {},
   "source": [
    "implement a counter for the rivers merged per bin"
   ]
  },
  {
   "cell_type": "code",
   "execution_count": 22,
   "id": "5cb8dc85",
   "metadata": {},
   "outputs": [
    {
     "data": {
      "text/plain": [
       "Text(0.5, 1.0, 'Lebreton et al. 2018')"
      ]
     },
     "execution_count": 22,
     "metadata": {},
     "output_type": "execute_result"
    },
    {
     "data": {
      "image/png": "[encoded data removed]",
      "text/plain": [
       "<Figure size 936x432 with 2 Axes>"
      ]
     },
     "metadata": {
      "needs_background": "light"
     },
     "output_type": "display_data"
    }
   ],
   "source": [
    "fig = plt.figure(figsize=(13,6))\n",
    "ax = fig.add_subplot(1, 1, 1, projection=ccrs.PlateCarree())\n",
    "ax.set_extent((-70, 25, -50, 0), crs=ccrs.PlateCarree())\n",
    "ax.add_feature(cfeature.OCEAN)\n",
    "ax.add_feature(cfeature.LAND)\n",
    "#ax.add_feature(cfeature.COASTLINE)\n",
    "ax.add_feature(cfeature.RIVERS)\n",
    "ax.gridlines(draw_labels=True, dms=False, x_inline=False, y_inline=False)\n",
    "\n",
    "#plt.pcolormesh(X, Y, coast)\n",
    "im = plt.scatter(bin_lebreton['X_bin'], bin_lebreton['Y_bin'], c=bin_lebreton['i_high'],\n",
    "                 s=bin_lebreton['i_high']/5, cmap='plasma', edgecolors=None)\n",
    "plt.colorbar(im)\n",
    "plt.title('Lebreton et al. 2018', fontsize=16)"
   ]
  },
  {
   "cell_type": "code",
   "execution_count": 23,
   "id": "1e5f4ba1",
   "metadata": {},
   "outputs": [],
   "source": [
    "total_lebreton = bin_lebreton['i_high'].sum()"
   ]
  },
  {
   "cell_type": "code",
   "execution_count": 24,
   "id": "eff18cbb",
   "metadata": {},
   "outputs": [
    {
     "data": {
      "text/plain": [
       "13075.876366"
      ]
     },
     "execution_count": 24,
     "metadata": {},
     "output_type": "execute_result"
    }
   ],
   "source": [
    "total_lebreton"
   ]
  },
  {
   "cell_type": "code",
   "execution_count": 25,
   "id": "8141d4ec",
   "metadata": {},
   "outputs": [
    {
     "data": {
      "text/plain": [
       "Text(0.5, 1.0, 'Meijer al. 2021')"
      ]
     },
     "execution_count": 25,
     "metadata": {},
     "output_type": "execute_result"
    },
    {
     "data": {
      "image/png": "[encoded data removed]",
      "text/plain": [
       "<Figure size 936x432 with 2 Axes>"
      ]
     },
     "metadata": {
      "needs_background": "light"
     },
     "output_type": "display_data"
    }
   ],
   "source": [
    "fig = plt.figure(figsize=(13,6))\n",
    "ax = fig.add_subplot(1, 1, 1, projection=ccrs.PlateCarree())\n",
    "ax.set_extent((-70, 25, -50, 0), crs=ccrs.PlateCarree())\n",
    "ax.add_feature(cfeature.OCEAN)\n",
    "ax.add_feature(cfeature.LAND)\n",
    "#ax.add_feature(cfeature.COASTLINE)\n",
    "ax.add_feature(cfeature.RIVERS)\n",
    "ax.gridlines(draw_labels=True, dms=False, x_inline=False, y_inline=False)\n",
    "\n",
    "#plt.pcolormesh(X, Y, coast)\n",
    "im = plt.scatter(bin_meijer['X_bin'], bin_meijer['Y_bin'], c=bin_meijer['dots_exten'],\n",
    "                 s=bin_meijer['dots_exten']/5, cmap='plasma', edgecolors=None)\n",
    "plt.colorbar(im)\n",
    "plt.title('Meijer al. 2021', fontsize=16)"
   ]
  },
  {
   "cell_type": "code",
   "execution_count": 26,
   "id": "a592f6f8",
   "metadata": {},
   "outputs": [],
   "source": [
    "total_meijer = bin_meijer['dots_exten'].sum()"
   ]
  },
  {
   "cell_type": "code",
   "execution_count": 27,
   "id": "e5c0235c",
   "metadata": {},
   "outputs": [
    {
     "data": {
      "text/plain": [
       "37539.313500000004"
      ]
     },
     "execution_count": 27,
     "metadata": {},
     "output_type": "execute_result"
    }
   ],
   "source": [
    "total_meijer"
   ]
  },
  {
   "cell_type": "code",
   "execution_count": 28,
   "id": "589aaa7d",
   "metadata": {},
   "outputs": [],
   "source": [
    "sort_meijer = bin_meijer.sort_values(['dots_exten'], ascending=False)\n",
    "sort_meijer.reset_index(inplace=True, drop=True)"
   ]
  },
  {
   "cell_type": "code",
   "execution_count": 30,
   "id": "1718ba50",
   "metadata": {},
   "outputs": [
    {
     "data": {
      "text/html": [
       "<div>\n",
       "<style scoped>\n",
       "    .dataframe tbody tr th:only-of-type {\n",
       "        vertical-align: middle;\n",
       "    }\n",
       "\n",
       "    .dataframe tbody tr th {\n",
       "        vertical-align: top;\n",
       "    }\n",
       "\n",
       "    .dataframe thead th {\n",
       "        text-align: right;\n",
       "    }\n",
       "</style>\n",
       "<table border=\"1\" class=\"dataframe\">\n",
       "  <thead>\n",
       "    <tr style=\"text-align: right;\">\n",
       "      <th></th>\n",
       "      <th>X_bin</th>\n",
       "      <th>Y_bin</th>\n",
       "      <th>dots_exten</th>\n",
       "      <th>merged_rivers</th>\n",
       "    </tr>\n",
       "  </thead>\n",
       "  <tbody>\n",
       "    <tr>\n",
       "      <th>0</th>\n",
       "      <td>-43.166668</td>\n",
       "      <td>-22.916666</td>\n",
       "      <td>6504.328900</td>\n",
       "      <td>8</td>\n",
       "    </tr>\n",
       "    <tr>\n",
       "      <th>1</th>\n",
       "      <td>-50.416668</td>\n",
       "      <td>-30.583334</td>\n",
       "      <td>2825.247684</td>\n",
       "      <td>22</td>\n",
       "    </tr>\n",
       "    <tr>\n",
       "      <th>2</th>\n",
       "      <td>-58.333332</td>\n",
       "      <td>-34.583332</td>\n",
       "      <td>1283.969980</td>\n",
       "      <td>3</td>\n",
       "    </tr>\n",
       "    <tr>\n",
       "      <th>3</th>\n",
       "      <td>-34.833332</td>\n",
       "      <td>-8.083333</td>\n",
       "      <td>1266.363000</td>\n",
       "      <td>2</td>\n",
       "    </tr>\n",
       "    <tr>\n",
       "      <th>4</th>\n",
       "      <td>-43.750000</td>\n",
       "      <td>-23.083334</td>\n",
       "      <td>1167.378900</td>\n",
       "      <td>2</td>\n",
       "    </tr>\n",
       "    <tr>\n",
       "      <th>...</th>\n",
       "      <td>...</td>\n",
       "      <td>...</td>\n",
       "      <td>...</td>\n",
       "      <td>...</td>\n",
       "    </tr>\n",
       "    <tr>\n",
       "      <th>530</th>\n",
       "      <td>19.666666</td>\n",
       "      <td>-34.750000</td>\n",
       "      <td>0.116729</td>\n",
       "      <td>1</td>\n",
       "    </tr>\n",
       "    <tr>\n",
       "      <th>531</th>\n",
       "      <td>-47.333332</td>\n",
       "      <td>-24.666666</td>\n",
       "      <td>0.114340</td>\n",
       "      <td>1</td>\n",
       "    </tr>\n",
       "    <tr>\n",
       "      <th>532</th>\n",
       "      <td>13.333333</td>\n",
       "      <td>-10.000000</td>\n",
       "      <td>0.114288</td>\n",
       "      <td>1</td>\n",
       "    </tr>\n",
       "    <tr>\n",
       "      <th>533</th>\n",
       "      <td>-39.166668</td>\n",
       "      <td>-17.083334</td>\n",
       "      <td>0.106569</td>\n",
       "      <td>1</td>\n",
       "    </tr>\n",
       "    <tr>\n",
       "      <th>534</th>\n",
       "      <td>-40.166668</td>\n",
       "      <td>-20.000000</td>\n",
       "      <td>0.101014</td>\n",
       "      <td>1</td>\n",
       "    </tr>\n",
       "  </tbody>\n",
       "</table>\n",
       "<p>535 rows × 4 columns</p>\n",
       "</div>"
      ],
      "text/plain": [
       "         X_bin      Y_bin   dots_exten  merged_rivers\n",
       "0   -43.166668 -22.916666  6504.328900              8\n",
       "1   -50.416668 -30.583334  2825.247684             22\n",
       "2   -58.333332 -34.583332  1283.969980              3\n",
       "3   -34.833332  -8.083333  1266.363000              2\n",
       "4   -43.750000 -23.083334  1167.378900              2\n",
       "..         ...        ...          ...            ...\n",
       "530  19.666666 -34.750000     0.116729              1\n",
       "531 -47.333332 -24.666666     0.114340              1\n",
       "532  13.333333 -10.000000     0.114288              1\n",
       "533 -39.166668 -17.083334     0.106569              1\n",
       "534 -40.166668 -20.000000     0.101014              1\n",
       "\n",
       "[535 rows x 4 columns]"
      ]
     },
     "execution_count": 30,
     "metadata": {},
     "output_type": "execute_result"
    }
   ],
   "source": [
    "sort_meijer"
   ]
  },
  {
   "cell_type": "markdown",
   "id": "e7fd96e5",
   "metadata": {},
   "source": [
    "# How to do the clustering? \n",
    "\n",
    "Three words: center of mass."
   ]
  },
  {
   "cell_type": "code",
   "execution_count": 33,
   "id": "395ebeb4",
   "metadata": {},
   "outputs": [],
   "source": [
    "cluster_locations = {'Congo':(-5.6442, 12.1375),\n",
    "                     'Cape-Town':(-33.93, 18.56),\n",
    "                    'Rio-de-la-Plata':(-33.9375, -58.5208),\n",
    "                    'Porto-Alegre':(-30.051, -51.285),\n",
    "                    'Santos':(-23.9875, -46.2958),\n",
    "                    'Paraiba':(-21.6208, -41.0375),\n",
    "                    'Itajai':(-26.9125, -48.6458),\n",
    "                    'Rio-de-Janeiro':(-23.01250, -43.32083),\n",
    "                    'Salvador':(-13.017065, -38.579832),\n",
    "                    'Recife':(-8.09, -34.88)}\n",
    "# 'Luanda':(-8.82, 13.22),\n",
    "#                      'Cuvo':(-10.87917, 13.81250),\n",
    "grid_cluster_centers = {}\n",
    "for loc in cluster_locations:\n",
    "\n",
    "    indx = nearest_coastal_cell(lat_coast, lon_coast, *cluster_locations[loc])\n",
    "    grid_cluster_centers[loc] = (lat_coast[indx], lon_coast[indx])"
   ]
  },
  {
   "cell_type": "code",
   "execution_count": 34,
   "id": "9982aa8f",
   "metadata": {},
   "outputs": [
    {
     "data": {
      "text/plain": [
       "{'Congo': (-5.6666665, 12.083333),\n",
       " 'Cape-Town': (-33.916668, 18.416666),\n",
       " 'Rio-de-la-Plata': (-34.083332, -58.333332),\n",
       " 'Porto-Alegre': (-30.583334, -50.416668),\n",
       " 'Santos': (-24.0, -46.333332),\n",
       " 'Paraiba': (-21.583334, -41.0),\n",
       " 'Itajai': (-26.916666, -48.583332),\n",
       " 'Rio-de-Janeiro': (-23.0, -43.333332),\n",
       " 'Salvador': (-13.083333, -38.583332),\n",
       " 'Recife': (-8.083333, -34.833332)}"
      ]
     },
     "execution_count": 34,
     "metadata": {},
     "output_type": "execute_result"
    }
   ],
   "source": [
    "grid_cluster_centers"
   ]
  },
  {
   "cell_type": "code",
   "execution_count": 35,
   "id": "a7343f29",
   "metadata": {},
   "outputs": [],
   "source": [
    "sort = bin_meijer.sort_values(['dots_exten'], ascending=False)\n",
    "sort.reset_index(inplace=True, drop=True)"
   ]
  },
  {
   "cell_type": "code",
   "execution_count": 36,
   "id": "a16103db",
   "metadata": {},
   "outputs": [
    {
     "name": "stderr",
     "output_type": "stream",
     "text": [
      "No handles with labels found to put in legend.\n"
     ]
    },
    {
     "data": {
      "text/plain": [
       "<matplotlib.legend.Legend at 0x7ffbba70fba8>"
      ]
     },
     "execution_count": 36,
     "metadata": {},
     "output_type": "execute_result"
    },
    {
     "data": {
      "image/png": "[encoded data removed]",
      "text/plain": [
       "<Figure size 936x432 with 2 Axes>"
      ]
     },
     "metadata": {
      "needs_background": "light"
     },
     "output_type": "display_data"
    }
   ],
   "source": [
    "fig = plt.figure(figsize=(13,6))\n",
    "ax = fig.add_subplot(1, 1, 1, projection=ccrs.PlateCarree())\n",
    "ax.set_extent((-70, 25, -50, 0), crs=ccrs.PlateCarree())\n",
    "ax.add_feature(cfeature.OCEAN)\n",
    "ax.add_feature(cfeature.LAND)\n",
    "# ax.add_feature(cfeature.COASTLINE)\n",
    "ax.add_feature(cfeature.RIVERS)\n",
    "ax.gridlines(draw_labels=True, dms=False, x_inline=False, y_inline=False)\n",
    "\n",
    "M = 30\n",
    "#plt.pcolormesh(X, Y, coast)\n",
    "im = plt.scatter(sort['X_bin'][:M], sort['Y_bin'][:M], c=sort['dots_exten'][:M],\n",
    "                 s=sort['dots_exten'][:M]/5, cmap='plasma', edgecolors=None)\n",
    "\n",
    "for loc in cluster_locations:\n",
    "    x = cluster_locations[loc][1]\n",
    "    y = cluster_locations[loc][0]\n",
    "    plt.scatter(x, y, c='r')\n",
    "    \n",
    "plt.colorbar(im)\n",
    "plt.title('Meijer top 30 rivers', fontsize=16)\n",
    "plt.legend()"
   ]
  },
  {
   "cell_type": "code",
   "execution_count": 37,
   "id": "f2cb9b49",
   "metadata": {},
   "outputs": [],
   "source": [
    "def center_of_mass(DF):\n",
    "    \n",
    "    x = DF.X_bin\n",
    "    y = DF.Y_bin\n",
    "    m = DF.dots_exten #this is so annoying\n",
    "    M = m.sum()\n",
    "    \n",
    "    return sum(m*y)/M, sum(m*x)/M"
   ]
  },
  {
   "cell_type": "code",
   "execution_count": 38,
   "id": "70dd1bf5",
   "metadata": {},
   "outputs": [],
   "source": [
    "def rivers_per_location(DF, loc_coords, radius, binned=False, tolerance=0.1):\n",
    "    \"\"\"\n",
    "    It cluster the rivers in a square with sides 2*radius.\n",
    "    The clustering is done iteratively using the center of mass.\n",
    "    Input\n",
    "    - DF: the pandas Dataframe with data River_sources. \n",
    "    - loc_coords: tuple with the location coordinates as in (lat, lon).\n",
    "    - radius: the radius in degrees around loc_coords.\n",
    "    - tolerance: [km]\n",
    "    Returns \n",
    "    - the dataframe around loc_coords.\n",
    "    \"\"\"\n",
    "    if binned:\n",
    "        _label = '_bin'\n",
    "        \n",
    "    else:\n",
    "        _label = ''\n",
    "        \n",
    "    x_col = f'X{_label}'\n",
    "    y_col = f'Y{_label}'\n",
    "    \n",
    "    lat, lon = loc_coords\n",
    "    mask = (DF[x_col] <= lon + radius) & (DF[x_col] > lon - radius) & \\\n",
    "            (DF[y_col] <= lat + radius) & (DF[y_col] > lat - radius)\n",
    "    CM = center_of_mass(DF[mask])\n",
    "    dist = haversine_distance_two((lat,lon), CM)\n",
    "    \n",
    "    while dist > tolerance:\n",
    "        lat, lon = CM\n",
    "        mask = (DF[x_col] <= lon + radius) & (DF[x_col] > lon - radius) & \\\n",
    "                (DF[y_col] <= lat + radius) & (DF[y_col] > lat - radius)\n",
    "        CM = center_of_mass(DF[mask])\n",
    "        dist = haversine_distance_two((lat,lon), CM)\n",
    "    \n",
    "    loc_df = DF[mask]\n",
    "    p = pd.DataFrame({'p': loc_df['dots_exten']/loc_df['dots_exten'].sum()})\n",
    "    loc_df = loc_df.drop(['dots_exten'], axis=1)\n",
    "    loc_df = pd.concat([loc_df, p], axis=1)\n",
    "    loc_df.reset_index(inplace=True)\n",
    "\n",
    "    return mask, CM"
   ]
  },
  {
   "cell_type": "code",
   "execution_count": 39,
   "id": "dddceb4f",
   "metadata": {},
   "outputs": [
    {
     "name": "stdout",
     "output_type": "stream",
     "text": [
      "CM (-22.945060155551054, -43.25007477878782)\n",
      "OC (-23.0125, -43.32083)\n",
      "10.419394448212095\n"
     ]
    }
   ],
   "source": [
    "_mask, _cm = rivers_per_location(sort, cluster_locations['Rio-de-Janeiro'], 1, binned=True)\n",
    "print('CM', _cm)\n",
    "print('OC', cluster_locations['Rio-de-Janeiro'])\n",
    "print(haversine_distance_two(_cm, cluster_locations['Rio-de-Janeiro']))"
   ]
  },
  {
   "cell_type": "code",
   "execution_count": 40,
   "id": "39dc9fe4",
   "metadata": {},
   "outputs": [
    {
     "data": {
      "image/png": "[encoded data removed]",
      "text/plain": [
       "<Figure size 864x360 with 10 Axes>"
      ]
     },
     "metadata": {
      "needs_background": "light"
     },
     "output_type": "display_data"
    }
   ],
   "source": [
    "fig,ax = plt.subplots(ncols=5,nrows=2,figsize=(12,5),\n",
    "                      subplot_kw={'projection': ccrs.PlateCarree()})\n",
    "\n",
    "coast_mask = np.ma.masked_equal(coast, 0)\n",
    "\n",
    "ax = np.reshape(ax, 10)\n",
    "r = 1\n",
    "\n",
    "for i, loc in enumerate(cluster_locations):\n",
    "    \n",
    "    loc_mask, loc_CM= rivers_per_location(sort, cluster_locations[loc], r, binned=True)\n",
    "    lat_BA, lon_BA = loc_CM \n",
    "    loc_df = sort[loc_mask]\n",
    "    \n",
    "    ax[i].set_extent([lon_BA-r, lon_BA+r, lat_BA-r, lat_BA+r], crs=ccrs.PlateCarree())\n",
    "    ax[i].add_feature(cfeature.OCEAN)\n",
    "    ax[i].add_feature(cfeature.LAND)\n",
    "#     ax[i].add_feature(cfeature.COASTLINE)\n",
    "    ax[i].add_feature(cfeature.RIVERS)\n",
    "    ax[i].set_title(loc)\n",
    "    ax[i].pcolormesh(X, Y, coast_mask)\n",
    "#     g1 = ax[i].gridlines(draw_labels=True, dms=False, x_inline=False, y_inline=False,\n",
    "#             color='black', linestyle='--', alpha=0.1)\n",
    "#     g1.top_labels = False\n",
    "#     g1.right_labels = False\n",
    "\n",
    "    \n",
    "    for m in loc_df.index:\n",
    "        ax[i].scatter(loc_df['X_bin'][m], loc_df['Y_bin'][m], s=loc_df['dots_exten'][m]*0.5,\n",
    "                     alpha=0.7)\n",
    "#         ax[i].scatter(cluster_locations[loc][1], cluster_locations[loc][0], c='white',\n",
    "#                       marker='s',  edgecolor='k', s=100)\n",
    "        ax[i].scatter(loc_CM[1], loc_CM[0], c='white', marker='s', edgecolor='k', s=100)\n",
    "    "
   ]
  },
  {
   "cell_type": "code",
   "execution_count": 41,
   "id": "e2cf8195",
   "metadata": {},
   "outputs": [],
   "source": [
    "def compute_clusters(DF, N, cluster_radius=1, compute_other=False):\n",
    "    \n",
    "    release_points = {}\n",
    "    priors = {}\n",
    "\n",
    "    cluster_percent = 0\n",
    "    merged_rivers = 0\n",
    "\n",
    "    for i, loc in enumerate(cluster_locations):\n",
    "        print(loc)\n",
    "        _mask, _CM = rivers_per_location(sort, cluster_locations[loc], cluster_radius, binned=True)\n",
    "        lat_BA, lon_BA = _CM \n",
    "        loc_df = sort[_mask]\n",
    "\n",
    "        loc_percent = loc_df['dots_exten'].sum()/total_meijer\n",
    "        no_rivers = loc_df['merged_rivers'].sum()\n",
    "        merged_rivers += no_rivers\n",
    "        priors[loc] = [loc_percent, no_rivers]\n",
    "        cluster_percent += loc_df['dots_exten'].sum()/total_meijer\n",
    "        p = pd.DataFrame({'p': loc_df['dots_exten']/loc_df['dots_exten'].sum()})\n",
    "\n",
    "        loc_df = loc_df.drop(['dots_exten'], axis=1)\n",
    "        loc_df = pd.concat([loc_df, p], axis=1)\n",
    "        loc_df.reset_index(drop=True, inplace=True)\n",
    "\n",
    "        release_points[loc] = loc_df.sample(n=N, replace=True, weights='p')\n",
    "\n",
    "    if compute_other:\n",
    "        priors['Other'] = [1 - cluster_percent, sa_meijer.shape[0] - merged_rivers]\n",
    "        priors = pd.DataFrame(priors).T\n",
    "\n",
    "    priors = priors.rename(columns={0:'mean', 1:'merged_rivers'})\n",
    "    \n",
    "    return release_points, priors"
   ]
  },
  {
   "cell_type": "code",
   "execution_count": 42,
   "id": "5c106398",
   "metadata": {},
   "outputs": [
    {
     "name": "stdout",
     "output_type": "stream",
     "text": [
      "Congo\n",
      "Cape-Town\n",
      "Rio-de-la-Plata\n",
      "Porto-Alegre\n",
      "Santos\n",
      "Paraiba\n",
      "Itajai\n",
      "Rio-de-Janeiro\n",
      "Salvador\n",
      "Recife\n"
     ]
    }
   ],
   "source": [
    "\n",
    "release_points = {}\n",
    "priors = {}\n",
    "r = 1\n",
    "N = 100000 #Number of particles realesed pre source.\n",
    "\n",
    "cluster_percent = 0\n",
    "merged_rivers = 0\n",
    "\n",
    "for i, loc in enumerate(cluster_locations):\n",
    "    print(loc)\n",
    "    _mask, _CM = rivers_per_location(sort, cluster_locations[loc], r, binned=True)\n",
    "    lat_BA, lon_BA = _CM \n",
    "    loc_df = sort[_mask]\n",
    "    \n",
    "    loc_percent = loc_df['dots_exten'].sum()/total_meijer\n",
    "    no_rivers = loc_df['merged_rivers'].sum()\n",
    "    merged_rivers += no_rivers\n",
    "    priors[loc] = [loc_percent, no_rivers]\n",
    "    cluster_percent += loc_df['dots_exten'].sum()/total_meijer\n",
    "    p = pd.DataFrame({'p': loc_df['dots_exten']/loc_df['dots_exten'].sum()})\n",
    "    \n",
    "    loc_df = loc_df.drop(['dots_exten'], axis=1)\n",
    "    loc_df = pd.concat([loc_df, p], axis=1)\n",
    "    loc_df.reset_index(drop=True, inplace=True)\n",
    "\n",
    "    release_points[loc] = loc_df.sample(n=N, replace=True, weights='p')\n",
    "    \n",
    "priors['Other'] = [1 - cluster_percent, sa_meijer.shape[0] - merged_rivers]\n",
    "priors = pd.DataFrame(priors).T\n",
    "priors = priors.rename(columns={0:'mean', 1:'merged_rivers'})\n",
    "priors.to_csv('../data/analysis/river_input_analysis.csv')"
   ]
  },
  {
   "cell_type": "code",
   "execution_count": 43,
   "id": "ec01cd9e",
   "metadata": {},
   "outputs": [],
   "source": [
    "aaa = np.load('../release_positions.npy', allow_pickle=True).item()"
   ]
  },
  {
   "cell_type": "code",
   "execution_count": 44,
   "id": "b7b471c8",
   "metadata": {},
   "outputs": [
    {
     "data": {
      "text/plain": [
       "(100000,)"
      ]
     },
     "execution_count": 44,
     "metadata": {},
     "output_type": "execute_result"
    }
   ],
   "source": [
    "aaa['Congo']['X_bin'].values.shape"
   ]
  },
  {
   "cell_type": "code",
   "execution_count": 45,
   "id": "8aab1796",
   "metadata": {},
   "outputs": [
    {
     "data": {
      "text/plain": [
       "(100000, 4)"
      ]
     },
     "execution_count": 45,
     "metadata": {},
     "output_type": "execute_result"
    }
   ],
   "source": [
    "aaa['Congo'].shape"
   ]
  },
  {
   "cell_type": "code",
   "execution_count": 46,
   "id": "626b0aa2",
   "metadata": {},
   "outputs": [
    {
     "data": {
      "text/html": [
       "<div>\n",
       "<style scoped>\n",
       "    .dataframe tbody tr th:only-of-type {\n",
       "        vertical-align: middle;\n",
       "    }\n",
       "\n",
       "    .dataframe tbody tr th {\n",
       "        vertical-align: top;\n",
       "    }\n",
       "\n",
       "    .dataframe thead th {\n",
       "        text-align: right;\n",
       "    }\n",
       "</style>\n",
       "<table border=\"1\" class=\"dataframe\">\n",
       "  <thead>\n",
       "    <tr style=\"text-align: right;\">\n",
       "      <th></th>\n",
       "      <th>X_bin</th>\n",
       "      <th>Y_bin</th>\n",
       "      <th>merged_rivers</th>\n",
       "      <th>p</th>\n",
       "    </tr>\n",
       "  </thead>\n",
       "  <tbody>\n",
       "    <tr>\n",
       "      <th>5</th>\n",
       "      <td>12.250000</td>\n",
       "      <td>-5.833333</td>\n",
       "      <td>2</td>\n",
       "      <td>0.018143</td>\n",
       "    </tr>\n",
       "    <tr>\n",
       "      <th>0</th>\n",
       "      <td>12.416667</td>\n",
       "      <td>-6.083333</td>\n",
       "      <td>1</td>\n",
       "      <td>0.635873</td>\n",
       "    </tr>\n",
       "    <tr>\n",
       "      <th>2</th>\n",
       "      <td>12.333333</td>\n",
       "      <td>-6.083333</td>\n",
       "      <td>1</td>\n",
       "      <td>0.025585</td>\n",
       "    </tr>\n",
       "    <tr>\n",
       "      <th>0</th>\n",
       "      <td>12.416667</td>\n",
       "      <td>-6.083333</td>\n",
       "      <td>1</td>\n",
       "      <td>0.635873</td>\n",
       "    </tr>\n",
       "    <tr>\n",
       "      <th>0</th>\n",
       "      <td>12.416667</td>\n",
       "      <td>-6.083333</td>\n",
       "      <td>1</td>\n",
       "      <td>0.635873</td>\n",
       "    </tr>\n",
       "    <tr>\n",
       "      <th>...</th>\n",
       "      <td>...</td>\n",
       "      <td>...</td>\n",
       "      <td>...</td>\n",
       "      <td>...</td>\n",
       "    </tr>\n",
       "    <tr>\n",
       "      <th>0</th>\n",
       "      <td>12.416667</td>\n",
       "      <td>-6.083333</td>\n",
       "      <td>1</td>\n",
       "      <td>0.635873</td>\n",
       "    </tr>\n",
       "    <tr>\n",
       "      <th>0</th>\n",
       "      <td>12.416667</td>\n",
       "      <td>-6.083333</td>\n",
       "      <td>1</td>\n",
       "      <td>0.635873</td>\n",
       "    </tr>\n",
       "    <tr>\n",
       "      <th>0</th>\n",
       "      <td>12.416667</td>\n",
       "      <td>-6.083333</td>\n",
       "      <td>1</td>\n",
       "      <td>0.635873</td>\n",
       "    </tr>\n",
       "    <tr>\n",
       "      <th>1</th>\n",
       "      <td>12.083333</td>\n",
       "      <td>-5.166667</td>\n",
       "      <td>2</td>\n",
       "      <td>0.246447</td>\n",
       "    </tr>\n",
       "    <tr>\n",
       "      <th>0</th>\n",
       "      <td>12.416667</td>\n",
       "      <td>-6.083333</td>\n",
       "      <td>1</td>\n",
       "      <td>0.635873</td>\n",
       "    </tr>\n",
       "  </tbody>\n",
       "</table>\n",
       "<p>100000 rows × 4 columns</p>\n",
       "</div>"
      ],
      "text/plain": [
       "        X_bin     Y_bin  merged_rivers         p\n",
       "5   12.250000 -5.833333              2  0.018143\n",
       "0   12.416667 -6.083333              1  0.635873\n",
       "2   12.333333 -6.083333              1  0.025585\n",
       "0   12.416667 -6.083333              1  0.635873\n",
       "0   12.416667 -6.083333              1  0.635873\n",
       "..        ...       ...            ...       ...\n",
       "0   12.416667 -6.083333              1  0.635873\n",
       "0   12.416667 -6.083333              1  0.635873\n",
       "0   12.416667 -6.083333              1  0.635873\n",
       "1   12.083333 -5.166667              2  0.246447\n",
       "0   12.416667 -6.083333              1  0.635873\n",
       "\n",
       "[100000 rows x 4 columns]"
      ]
     },
     "execution_count": 46,
     "metadata": {},
     "output_type": "execute_result"
    }
   ],
   "source": [
    "release_points['Congo']"
   ]
  },
  {
   "cell_type": "code",
   "execution_count": 47,
   "id": "0812b355",
   "metadata": {},
   "outputs": [
    {
     "data": {
      "image/png": "[encoded data removed]",
      "text/plain": [
       "<Figure size 864x360 with 10 Axes>"
      ]
     },
     "metadata": {
      "needs_background": "light"
     },
     "output_type": "display_data"
    }
   ],
   "source": [
    "fig,ax = plt.subplots(ncols=5,nrows=2,figsize=(12,5),\n",
    "                      subplot_kw={'projection': ccrs.PlateCarree()})\n",
    "\n",
    "coast_mask = np.ma.masked_equal(coast, 0)\n",
    "\n",
    "ax = np.reshape(ax, 10)\n",
    "r = 1\n",
    "\n",
    "for i, loc in enumerate(cluster_locations):\n",
    "    \n",
    "    loc_mask, loc_CM= rivers_per_location(sort, cluster_locations[loc], r, binned=True)\n",
    "    lat_BA, lon_BA = loc_CM \n",
    "#     loc_df = sort[loc_mask]\n",
    "    \n",
    "    ax[i].set_extent([lon_BA-r, lon_BA+r, lat_BA-r, lat_BA+r], crs=ccrs.PlateCarree())\n",
    "    ax[i].add_feature(cfeature.OCEAN)\n",
    "    ax[i].add_feature(cfeature.LAND)\n",
    "    ax[i].add_feature(cfeature.RIVERS)\n",
    "    ax[i].set_title(loc)\n",
    "    ax[i].pcolormesh(X, Y, coast_mask)\n",
    "    ax[i].scatter(release_points[loc]['X_bin'], release_points[loc]['Y_bin'])\n"
   ]
  },
  {
   "cell_type": "code",
   "execution_count": 48,
   "id": "d20a3292",
   "metadata": {},
   "outputs": [
    {
     "data": {
      "text/plain": [
       "array([[<AxesSubplot:title={'center':'X_bin'}>]], dtype=object)"
      ]
     },
     "execution_count": 48,
     "metadata": {},
     "output_type": "execute_result"
    },
    {
     "data": {
      "image/png": "[encoded data removed]",
      "text/plain": [
       "<Figure size 432x288 with 1 Axes>"
      ]
     },
     "metadata": {
      "needs_background": "light"
     },
     "output_type": "display_data"
    }
   ],
   "source": [
    "release_points['Recife'].hist('X_bin')"
   ]
  },
  {
   "cell_type": "code",
   "execution_count": 49,
   "id": "dfa1db09",
   "metadata": {},
   "outputs": [
    {
     "data": {
      "image/png": "[encoded data removed]",
      "text/plain": [
       "<Figure size 504x468 with 1 Axes>"
      ]
     },
     "metadata": {},
     "output_type": "display_data"
    }
   ],
   "source": [
    "plt.figure(figsize=(7,6.5))\n",
    "wedgeprops = {'fontsize': 12}\n",
    "\n",
    "plt.pie(priors['mean'], labels=priors.index, autopct='%.1f%%',\n",
    "       shadow=True,\n",
    "       rotatelabels=True, startangle=15,textprops=wedgeprops);\n"
   ]
  },
  {
   "cell_type": "code",
   "execution_count": null,
   "id": "5bad40be",
   "metadata": {},
   "outputs": [],
   "source": []
  },
  {
   "cell_type": "code",
   "execution_count": null,
   "id": "b63a2134",
   "metadata": {},
   "outputs": [],
   "source": []
  }
 ],
 "metadata": {
  "kernelspec": {
   "display_name": "Python 3",
   "language": "python",
   "name": "python3"
  },
  "language_info": {
   "codemirror_mode": {
    "name": "ipython",
    "version": 3
   },
   "file_extension": ".py",
   "mimetype": "text/x-python",
   "name": "python",
   "nbconvert_exporter": "python",
   "pygments_lexer": "ipython3",
   "version": "3.6.13"
  }
 },
 "nbformat": 4,
 "nbformat_minor": 5
}
