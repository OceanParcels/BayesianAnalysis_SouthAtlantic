{
 "cells": [
  {
   "cell_type": "code",
   "execution_count": 26,
   "id": "c7e7755f",
   "metadata": {},
   "outputs": [],
   "source": [
    "import numpy as np\n",
    "import xarray as xr\n",
    "import pandas as pd\n",
    "import matplotlib.pyplot as plt"
   ]
  },
  {
   "cell_type": "code",
   "execution_count": 92,
   "id": "3edfe1cb",
   "metadata": {},
   "outputs": [],
   "source": [
    "def time_averaging_field(array, window=30, normalized=True):\n",
    "    \"\"\"Function averages a 3D field in a time window.\n",
    "    Parameters\n",
    "    ----------\n",
    "    array: array\n",
    "        3D array with dimensions (time, space, space). The time averaging\n",
    "        happens in axis=0 of the array.\n",
    "    window: int, optional\n",
    "        The time window for the averaging. Default value is 30 (days).\n",
    "    normalized: bool, optional\n",
    "        Normalizes the average in space, axis=1&2. Default True.\n",
    "    Returns\n",
    "    -------\n",
    "    averaged: array\n",
    "        time averaged fields dimensions (time//window, space, space).\n",
    "    time_array:\n",
    "        1D array showing the window jumps. Its useless...\n",
    "    \"\"\"\n",
    "    nt, nx, ny = array.shape\n",
    "\n",
    "    new_t_dim = nt//window\n",
    "    averaged = np.zeros((new_t_dim, nx, ny))\n",
    "    time_array = np.arange(window, nt, window)\n",
    "\n",
    "    for t in range(0, new_t_dim):\n",
    "        index_slice = slice((t)*window, (t+1)*window)\n",
    "        mean_aux = np.mean(array[index_slice, :, :], axis=0)\n",
    "\n",
    "        if normalized:\n",
    "            if mean_aux.sum() == 0:\n",
    "                print(f'-- mean_aux.sum() = {mean_aux.sum()}')\n",
    "                averaged[t] = np.zeros_like(mean_aux)\n",
    "            else:\n",
    "                averaged[t] = mean_aux/mean_aux.sum()\n",
    "\n",
    "        else:\n",
    "            averaged[t] = mean_aux\n",
    "\n",
    "    # if normalized:\n",
    "    #     print('--- Normalized?', averaged[-1].sum())\n",
    "\n",
    "    return averaged, time_array"
   ]
  },
  {
   "cell_type": "code",
   "execution_count": 93,
   "id": "07d2d991",
   "metadata": {},
   "outputs": [
    {
     "name": "stdout",
     "output_type": "stream",
     "text": [
      "Compute mean == True!\n"
     ]
    }
   ],
   "source": [
    "###############################################################################\n",
    "# Setting the parameters\n",
    "###############################################################################\n",
    "series = 6  # the number of the simulation series\n",
    "compute_mean = True  # True if you want to compute the average probability\n",
    "average_window = 1600  # days (or stored time steps from parcels simulations)\n",
    "\n",
    "print(f'Compute mean == {compute_mean}!')\n",
    "\n",
    "domain_limits = [[-73, 25], [-80, 0]]\n",
    "number_bins = (98, 80)  # defined with respect to domain_limits to be 1x1 deg\n",
    "\n",
    "# generating the lon and lat ranges.\n",
    "lon_range = np.linspace(domain_limits[0][0], domain_limits[0][1],\n",
    "                        number_bins[0])\n",
    "lat_range = np.linspace(domain_limits[1][0], domain_limits[1][1],\n",
    "                        number_bins[1])\n",
    "\n",
    "# Loading priors. Computed with release_points.py script.\n",
    "priors = pd.read_csv('../data/analysis/priors_river_inputs.csv', index_col=0)\n",
    "sources = list(priors.index)\n",
    "number_sources = len(sources)\n",
    "\n",
    "# Empty dictionaries to store computed probabilities.\n",
    "likelihood = {}\n",
    "posterior = {}\n",
    "counts = {}\n",
    "avg_label = ''  # label to be modified if average is True. Print in output_path\n",
    "\n",
    "sample_size = 1000\n",
    "number_samples = 2 # at least 50 up to 100"
   ]
  },
  {
   "cell_type": "code",
   "execution_count": 94,
   "id": "c4f41e40",
   "metadata": {},
   "outputs": [
    {
     "name": "stdout",
     "output_type": "stream",
     "text": [
      "- Congo\n",
      "- Cape-Town\n",
      "- Rio-de-la-Plata\n",
      "- Porto-Alegre\n",
      "- Santos\n",
      "- Paraiba\n",
      "- Itajai\n",
      "- Rio-de-Janeiro\n",
      "- Salvador\n",
      "- Recife\n",
      "- Unclustered-Africa\n",
      "- Unclustered-America\n"
     ]
    }
   ],
   "source": [
    "######################§#########################################################\n",
    "# Building the histograms\n",
    "###############################################################################\n",
    "\n",
    "time_dimensions = []\n",
    "\n",
    "for loc in sources:\n",
    "    print(f'- {loc}')\n",
    "    \n",
    "    path_2_file = f\"../data/simulations/sa-s{series:02d}\" + \\\n",
    "        f\"/sa-s{series:02d}-{loc}.nc\"\n",
    "    \n",
    "    particles = xr.load_dataset(path_2_file)\n",
    "    \n",
    "    trajectories = particles.dims['traj']\n",
    "    time = particles.dims['obs']\n",
    "    time_dimensions.append(time)\n",
    "    h = np.zeros((number_samples, time, *number_bins))\n",
    "    \n",
    "    for i_sample in range(number_samples):\n",
    "        # Bootstrapping - Resampling with replacement\n",
    "        resampled_index = np.random.choice(trajectories, sample_size, replace=True) \n",
    "        \n",
    "        for t in range(time):\n",
    "            lons = particles['lon'][resampled_index, t].values\n",
    "            index = np.where(~np.isnan(lons))\n",
    "            lons = lons[index]\n",
    "            \n",
    "            lats = particles['lat'][resampled_index, t].values\n",
    "            lats = lats[index]\n",
    "\n",
    "            if compute_mean:\n",
    "                # if true, the histograms are not normalized.\n",
    "                H, x_edges, y_edges = np.histogram2d(lons, lats,\n",
    "                                                     bins=number_bins,\n",
    "                                                     range=domain_limits)\n",
    "                h[i_sample, t] = H\n",
    "\n",
    "            else:\n",
    "                # if false or else, the histograms are normalized, therefore\n",
    "                # we get directly the likelihood.\n",
    "                H_norm, x_edges, y_edges = np.histogram2d(lons, lats,\n",
    "                                                          bins=number_bins,\n",
    "                                                          range=domain_limits,\n",
    "                                                          density=True)\n",
    "                h[i_sample, t] = H_norm\n",
    "\n",
    "    counts[loc] = h\n"
   ]
  },
  {
   "cell_type": "code",
   "execution_count": 33,
   "id": "2d19356d",
   "metadata": {},
   "outputs": [],
   "source": [
    "# # Some histograms have shorter time dimension. We select the shortest time\n",
    "# # of them all.\n",
    "# time = min(time_dimensions)\n",
    "\n",
    "# # Compute the total numer of particles per bin per time.\n",
    "# total_counts = np.zeros((time, *number_bins))\n",
    "# for loc in sources:\n",
    "#     total_counts += counts[loc][:time]"
   ]
  },
  {
   "cell_type": "code",
   "execution_count": 97,
   "id": "3caf6809",
   "metadata": {},
   "outputs": [
    {
     "name": "stdout",
     "output_type": "stream",
     "text": [
      "Averaging histograms and computiong likelihood\n"
     ]
    }
   ],
   "source": [
    "###############################################################################\n",
    "# To average or not to average, that's the question.\n",
    "###############################################################################\n",
    "if compute_mean:\n",
    "    # we average the unnormalized histograms in a time window.\n",
    "    print('Averaging histograms and computiong likelihood')\n",
    "\n",
    "    for loc in sources:\n",
    "        mean_samples = []\n",
    "        \n",
    "        for i_sample in range(number_samples):\n",
    "            mean, time_range = time_averaging_field(counts[loc][i_sample],\n",
    "                                                    window=average_window)\n",
    "            mean_samples.append(mean)\n",
    "        \n",
    "        mean_samples = np.array(mean_samples)\n",
    "        likelihood[loc] = mean_samples\n",
    "\n",
    "#     total_counts, _ = time_averaging_field(total_counts, window=average_window,\n",
    "#                                            normalized=False)\n",
    "    time = time//average_window\n",
    "    avg_label = f'_aw{average_window}'  # average window nummer\n",
    "# else:\n",
    "#     # convert counts to likelihood. The counts were normalized in line ~120.\n",
    "#     likelihood = counts\n",
    "#     time_range = np.arange(0, time, 1)\n",
    "\n",
    "# print('total_counts', total_counts.shape)"
   ]
  },
  {
   "cell_type": "code",
   "execution_count": 98,
   "id": "d2aa7cae",
   "metadata": {},
   "outputs": [
    {
     "data": {
      "text/plain": [
       "(2, 1, 98, 80)"
      ]
     },
     "execution_count": 98,
     "metadata": {},
     "output_type": "execute_result"
    }
   ],
   "source": [
    "likelihood['Rio-de-Janeiro'].shape"
   ]
  },
  {
   "cell_type": "code",
   "execution_count": 99,
   "id": "b34d403d",
   "metadata": {},
   "outputs": [
    {
     "data": {
      "text/plain": [
       "<matplotlib.image.AxesImage at 0x7f844fb6c5f8>"
      ]
     },
     "execution_count": 99,
     "metadata": {},
     "output_type": "execute_result"
    },
    {
     "data": {
      "image/png": "[encoded data removed]",
      "text/plain": [
       "<Figure size 432x288 with 2 Axes>"
      ]
     },
     "metadata": {
      "needs_background": "light"
     },
     "output_type": "display_data"
    }
   ],
   "source": [
    "ax1 = plt.subplot(1, 2, 1)\n",
    "ax1.imshow(likelihood['Cape-Town'][0, 0], vmax=3e-3)\n",
    "\n",
    "ax2 = plt.subplot(1, 2, 2)\n",
    "ax2.imshow(likelihood['Cape-Town'][1, 0], vmax=3e-3)"
   ]
  },
  {
   "cell_type": "code",
   "execution_count": 100,
   "id": "51e0104a",
   "metadata": {},
   "outputs": [
    {
     "data": {
      "text/plain": [
       "2"
      ]
     },
     "execution_count": 100,
     "metadata": {},
     "output_type": "execute_result"
    }
   ],
   "source": [
    "number_samples"
   ]
  },
  {
   "cell_type": "code",
   "execution_count": 102,
   "id": "b5dad297",
   "metadata": {},
   "outputs": [
    {
     "name": "stdout",
     "output_type": "stream",
     "text": [
      "Computing Normalizing constant\n"
     ]
    }
   ],
   "source": [
    "###############################################################################\n",
    "# Normalizing constant (sum of all hypothesis)\n",
    "###############################################################################\n",
    "print('Computing Normalizing constant')\n",
    "normalizing_constant = np.zeros((number_samples, time, *number_bins))\n",
    "\n",
    "\n",
    "for i_sample in range(number_samples):\n",
    "    for t in range(time):\n",
    "        # print('norm time', t)\n",
    "        total = np.zeros((number_samples, number_sources, *number_bins))\n",
    "        \n",
    "        for i_sample in range(number_samples):\n",
    "            for j, loc in enumerate(sources):\n",
    "                total[i_sample, j] = likelihood[loc][i_sample, t]*priors['prior'][loc]\n",
    "\n",
    "            normalizing_constant[i_sample, t] = np.sum(total[i_sample], axis=0)"
   ]
  },
  {
   "cell_type": "code",
   "execution_count": 103,
   "id": "97e160ce",
   "metadata": {},
   "outputs": [
    {
     "data": {
      "text/plain": [
       "(2, 1, 98, 80)"
      ]
     },
     "execution_count": 103,
     "metadata": {},
     "output_type": "execute_result"
    }
   ],
   "source": [
    "normalizing_constant.shape"
   ]
  },
  {
   "cell_type": "code",
   "execution_count": 120,
   "id": "a10e8a67",
   "metadata": {},
   "outputs": [
    {
     "data": {
      "text/plain": [
       "1"
      ]
     },
     "execution_count": 120,
     "metadata": {},
     "output_type": "execute_result"
    }
   ],
   "source": [
    "time"
   ]
  },
  {
   "cell_type": "code",
   "execution_count": 104,
   "id": "b6d527b9",
   "metadata": {},
   "outputs": [
    {
     "name": "stdout",
     "output_type": "stream",
     "text": [
      "Computing posterior probability\n"
     ]
    },
    {
     "name": "stderr",
     "output_type": "stream",
     "text": [
      "/opt/miniconda3/envs/py3_parcels/lib/python3.6/site-packages/ipykernel_launcher.py:13: RuntimeWarning: invalid value encountered in true_divide\n",
      "  del sys.path[0]\n"
     ]
    }
   ],
   "source": [
    "###############################################################################\n",
    "# Posterior probability\n",
    "###############################################################################\n",
    "print('Computing posterior probability')\n",
    "likelihood_xr = {}  # formatting dictionary for xarray Dataset convertion\n",
    "for k, loc in enumerate(sources):\n",
    "    pst = np.zeros((number_samples, time, *number_bins))\n",
    "    lklhd = np.zeros((number_samples, time, *number_bins))\n",
    "\n",
    "    for i_sample in range(number_samples):§a\n",
    "        t\n",
    "        for t in range(time):\n",
    "            # Bayes theorem!\n",
    "            pst[i_sample, t] = likelihood[loc][i_sample,t]*priors['prior'][loc]/normalizing_constant[i_sample,t]\n",
    "            lklhd[i_sample, t] = likelihood[loc][i_sample, t]\n",
    "        # xarray Dataset formatting\n",
    "        posterior[loc] = pst #([\"time\", \"x\", \"y\"], pst)\n",
    "        likelihood_xr[i_sample, loc] = lklhd #([\"time\", \"x\", \"y\"], lklhd)  # homgenizing time dim\n",
    "\n",
    "# posterior['counts'] = ([\"time\", \"x\", \"y\"], total_counts)"
   ]
  },
  {
   "cell_type": "code",
   "execution_count": 121,
   "id": "29c1002a",
   "metadata": {},
   "outputs": [],
   "source": [
    "#####\n",
    "# Standard deviation and mean\n",
    "#####\n",
    "\n",
    "mean = {}\n",
    "standard_deviation = {}\n",
    "\n",
    "for k, loc in enumerate(sources):\n",
    "    mean[loc] = ([\"time\", \"x\", \"y\"], np.mean(posterior[loc], axis=0))\n",
    "    standard_deviation[loc] = ([\"time\", \"x\", \"y\"], np.std(posterior[loc], axis=0))"
   ]
  },
  {
   "cell_type": "code",
   "execution_count": 122,
   "id": "d13c47ba",
   "metadata": {},
   "outputs": [
    {
     "data": {
      "text/plain": [
       "(['time', 'x', 'y'],\n",
       " array([[[nan, nan, nan, ..., nan, nan, nan],\n",
       "         [nan, nan, nan, ..., nan, nan, nan],\n",
       "         [nan, nan, nan, ..., nan, nan, nan],\n",
       "         ...,\n",
       "         [nan, nan, nan, ..., nan, nan, nan],\n",
       "         [nan, nan, nan, ..., nan, nan, nan],\n",
       "         [nan, nan, nan, ..., nan, nan, nan]]]))"
      ]
     },
     "execution_count": 122,
     "metadata": {},
     "output_type": "execute_result"
    }
   ],
   "source": [
    "standard_deviation['Cape-Town']"
   ]
  },
  {
   "cell_type": "code",
   "execution_count": 119,
   "id": "d77ddf80",
   "metadata": {},
   "outputs": [
    {
     "data": {
      "text/plain": [
       "<matplotlib.image.AxesImage at 0x7f8450e70c50>"
      ]
     },
     "execution_count": 119,
     "metadata": {},
     "output_type": "execute_result"
    },
    {
     "data": {
      "image/png": "[encoded data removed]",
      "text/plain": [
       "<Figure size 432x288 with 2 Axes>"
      ]
     },
     "metadata": {
      "needs_background": "light"
     },
     "output_type": "display_data"
    }
   ],
   "source": [
    "ax1 = plt.subplot(1, 2, 1)\n",
    "ax1.imshow(mean['Unclustered-America'][0], vmax=1)\n",
    "\n",
    "ax2 = plt.subplot(1, 2, 2)\n",
    "ax2.imshow(standard_deviation['Unclustered-America'][0], vmax=2e-1)"
   ]
  },
  {
   "cell_type": "code",
   "execution_count": 123,
   "id": "d6b51241",
   "metadata": {},
   "outputs": [],
   "source": [
    "###############################################################################\n",
    "# Saving the likelihood & posteior as netCDFs\n",
    "###############################################################################\n",
    "coordinates = dict(time=time_range,\n",
    "                   lon=([\"x\"], lon_range),\n",
    "                   lat=([\"y\"], lat_range))\n",
    "\n",
    "attributes = {'description': f\"Standard deviation Simulatons\",\n",
    "              'average_window': average_window}\n",
    "\n",
    "# Posterior dataset\n",
    "ds_post = xr.Dataset(data_vars=standard_deviation,\n",
    "                     coords=coordinates,\n",
    "                     attrs=attributes)\n",
    "\n",
    "output_path_post = f'../analysis/STD_{avg_label}.nc'\n",
    "\n",
    "\n",
    "ds_post.to_netcdf(output_path_post)\n",
    "\n"
   ]
  },
  {
   "cell_type": "code",
   "execution_count": 125,
   "id": "c14ca457",
   "metadata": {},
   "outputs": [],
   "source": [
    "a = xr.load_dataset(output_path_post)"
   ]
  },
  {
   "cell_type": "code",
   "execution_count": null,
   "id": "05343146",
   "metadata": {},
   "outputs": [],
   "source": []
  }
 ],
 "metadata": {
  "kernelspec": {
   "display_name": "Python 3",
   "language": "python",
   "name": "python3"
  },
  "language_info": {
   "codemirror_mode": {
    "name": "ipython",
    "version": 3
   },
   "file_extension": ".py",
   "mimetype": "text/x-python",
   "name": "python",
   "nbconvert_exporter": "python",
   "pygments_lexer": "ipython3",
   "version": "3.6.13"
  }
 },
 "nbformat": 4,
 "nbformat_minor": 5
}
