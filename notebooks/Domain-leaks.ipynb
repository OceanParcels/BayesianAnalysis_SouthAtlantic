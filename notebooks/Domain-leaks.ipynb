{
 "cells": [
  {
   "cell_type": "code",
   "execution_count": 1,
   "id": "ff7b0d5c",
   "metadata": {},
   "outputs": [],
   "source": [
    "import numpy as np\n",
    "import matplotlib.pyplot as plt\n",
    "import xarray as xr\n",
    "import pandas as pd"
   ]
  },
  {
   "cell_type": "code",
   "execution_count": 2,
   "id": "9917cc8d",
   "metadata": {},
   "outputs": [],
   "source": [
    "series = 6"
   ]
  },
  {
   "cell_type": "code",
   "execution_count": 3,
   "id": "368042d9",
   "metadata": {},
   "outputs": [],
   "source": [
    "priors = pd.read_csv('../data/analysis/priors_river_inputs.csv', index_col=0)\n",
    "sources = list(priors.index)"
   ]
  },
  {
   "cell_type": "code",
   "execution_count": 4,
   "id": "f8d21129",
   "metadata": {},
   "outputs": [
    {
     "data": {
      "text/plain": [
       "['Congo',\n",
       " 'Cape-Town',\n",
       " 'Rio-de-la-Plata',\n",
       " 'Porto-Alegre',\n",
       " 'Santos',\n",
       " 'Paraiba',\n",
       " 'Itajai',\n",
       " 'Rio-de-Janeiro',\n",
       " 'Salvador',\n",
       " 'Recife',\n",
       " 'Unclustered-Africa',\n",
       " 'Unclustered-America']"
      ]
     },
     "execution_count": 4,
     "metadata": {},
     "output_type": "execute_result"
    }
   ],
   "source": [
    "sources"
   ]
  },
  {
   "cell_type": "code",
   "execution_count": 5,
   "id": "9a280049",
   "metadata": {},
   "outputs": [
    {
     "data": {
      "text/html": [
       "<div>\n",
       "<style scoped>\n",
       "    .dataframe tbody tr th:only-of-type {\n",
       "        vertical-align: middle;\n",
       "    }\n",
       "\n",
       "    .dataframe tbody tr th {\n",
       "        vertical-align: top;\n",
       "    }\n",
       "\n",
       "    .dataframe thead th {\n",
       "        text-align: right;\n",
       "    }\n",
       "</style>\n",
       "<table border=\"1\" class=\"dataframe\">\n",
       "  <thead>\n",
       "    <tr style=\"text-align: right;\">\n",
       "      <th></th>\n",
       "      <th>prior</th>\n",
       "      <th>merged_rivers</th>\n",
       "    </tr>\n",
       "  </thead>\n",
       "  <tbody>\n",
       "    <tr>\n",
       "      <th>Congo</th>\n",
       "      <td>0.015987</td>\n",
       "      <td>22.0</td>\n",
       "    </tr>\n",
       "    <tr>\n",
       "      <th>Cape-Town</th>\n",
       "      <td>0.041619</td>\n",
       "      <td>34.0</td>\n",
       "    </tr>\n",
       "    <tr>\n",
       "      <th>Rio-de-la-Plata</th>\n",
       "      <td>0.097588</td>\n",
       "      <td>51.0</td>\n",
       "    </tr>\n",
       "    <tr>\n",
       "      <th>Porto-Alegre</th>\n",
       "      <td>0.079846</td>\n",
       "      <td>49.0</td>\n",
       "    </tr>\n",
       "    <tr>\n",
       "      <th>Santos</th>\n",
       "      <td>0.039031</td>\n",
       "      <td>55.0</td>\n",
       "    </tr>\n",
       "    <tr>\n",
       "      <th>Paraiba</th>\n",
       "      <td>0.024695</td>\n",
       "      <td>32.0</td>\n",
       "    </tr>\n",
       "    <tr>\n",
       "      <th>Itajai</th>\n",
       "      <td>0.069673</td>\n",
       "      <td>91.0</td>\n",
       "    </tr>\n",
       "    <tr>\n",
       "      <th>Rio-de-Janeiro</th>\n",
       "      <td>0.270181</td>\n",
       "      <td>50.0</td>\n",
       "    </tr>\n",
       "    <tr>\n",
       "      <th>Salvador</th>\n",
       "      <td>0.063321</td>\n",
       "      <td>57.0</td>\n",
       "    </tr>\n",
       "    <tr>\n",
       "      <th>Recife</th>\n",
       "      <td>0.107265</td>\n",
       "      <td>45.0</td>\n",
       "    </tr>\n",
       "    <tr>\n",
       "      <th>Unclustered-Africa</th>\n",
       "      <td>0.009952</td>\n",
       "      <td>107.0</td>\n",
       "    </tr>\n",
       "    <tr>\n",
       "      <th>Unclustered-America</th>\n",
       "      <td>0.180842</td>\n",
       "      <td>417.0</td>\n",
       "    </tr>\n",
       "  </tbody>\n",
       "</table>\n",
       "</div>"
      ],
      "text/plain": [
       "                        prior  merged_rivers\n",
       "Congo                0.015987           22.0\n",
       "Cape-Town            0.041619           34.0\n",
       "Rio-de-la-Plata      0.097588           51.0\n",
       "Porto-Alegre         0.079846           49.0\n",
       "Santos               0.039031           55.0\n",
       "Paraiba              0.024695           32.0\n",
       "Itajai               0.069673           91.0\n",
       "Rio-de-Janeiro       0.270181           50.0\n",
       "Salvador             0.063321           57.0\n",
       "Recife               0.107265           45.0\n",
       "Unclustered-Africa   0.009952          107.0\n",
       "Unclustered-America  0.180842          417.0"
      ]
     },
     "execution_count": 5,
     "metadata": {},
     "output_type": "execute_result"
    }
   ],
   "source": [
    "priors"
   ]
  },
  {
   "cell_type": "code",
   "execution_count": 6,
   "id": "022a8e27",
   "metadata": {},
   "outputs": [
    {
     "name": "stdout",
     "output_type": "stream",
     "text": [
      "- Congo\n",
      "- Cape-Town\n",
      "- Rio-de-la-Plata\n",
      "- Porto-Alegre\n",
      "- Santos\n",
      "- Paraiba\n",
      "- Itajai\n",
      "- Rio-de-Janeiro\n",
      "- Salvador\n",
      "- Recife\n",
      "- Unclustered-Africa\n",
      "- Unclustered-America\n"
     ]
    }
   ],
   "source": [
    "north_leak = 0\n",
    "east_leak = 0\n",
    "west_leak = 0\n",
    "south_leak = 0\n",
    "\n",
    "for loc in sources:\n",
    "    print(f'- {loc}')\n",
    "    path_2_file = f\"../data/simulations/sa-s{series:02d}\" + \\\n",
    "        f\"/sa-s{series:02d}-{loc}.nc\"\n",
    "    particles = xr.load_dataset(path_2_file)\n",
    "\n",
    "    latitudes = particles['lat'].values\n",
    "    longitudes = particles['lon'].values\n",
    "\n",
    "\n",
    "    for t in range(1234):\n",
    "        indx = np.where(latitudes[:, t] > -0.5)[0]\n",
    "        for j in indx:\n",
    "            if np.isnan(latitudes[j, t+1]):\n",
    "                north_leak += 1\n",
    "                \n",
    "        indx = np.where(longitudes[:, t]>24.5)[0]\n",
    "        for j in indx:\n",
    "            if np.isnan(latitudes[j, t+1]):\n",
    "                east_leak += 1"
   ]
  },
  {
   "cell_type": "code",
   "execution_count": 7,
   "id": "5116225f",
   "metadata": {},
   "outputs": [
    {
     "data": {
      "text/plain": [
       "153875"
      ]
     },
     "execution_count": 7,
     "metadata": {},
     "output_type": "execute_result"
    }
   ],
   "source": [
    "north_leak"
   ]
  },
  {
   "cell_type": "code",
   "execution_count": 8,
   "id": "b87f3f55",
   "metadata": {},
   "outputs": [
    {
     "data": {
      "text/plain": [
       "40956"
      ]
     },
     "execution_count": 8,
     "metadata": {},
     "output_type": "execute_result"
    }
   ],
   "source": [
    "east_leak"
   ]
  },
  {
   "cell_type": "code",
   "execution_count": 16,
   "id": "8b095b43",
   "metadata": {},
   "outputs": [],
   "source": [
    "leakss = north_leak + east_leak"
   ]
  },
  {
   "cell_type": "code",
   "execution_count": 17,
   "id": "0c02a0cb",
   "metadata": {},
   "outputs": [
    {
     "data": {
      "text/plain": [
       "194831"
      ]
     },
     "execution_count": 17,
     "metadata": {},
     "output_type": "execute_result"
    }
   ],
   "source": [
    "leakss"
   ]
  },
  {
   "cell_type": "code",
   "execution_count": 22,
   "id": "63535050",
   "metadata": {},
   "outputs": [],
   "source": [
    "total_part = 1200000"
   ]
  },
  {
   "cell_type": "code",
   "execution_count": 29,
   "id": "7d8abfe5",
   "metadata": {},
   "outputs": [
    {
     "data": {
      "text/plain": [
       "16.235916666666668"
      ]
     },
     "execution_count": 29,
     "metadata": {},
     "output_type": "execute_result"
    }
   ],
   "source": [
    "leakss/total_part*100"
   ]
  },
  {
   "cell_type": "code",
   "execution_count": 27,
   "id": "53b4ee65",
   "metadata": {},
   "outputs": [
    {
     "data": {
      "text/plain": [
       "12.822916666666668"
      ]
     },
     "execution_count": 27,
     "metadata": {},
     "output_type": "execute_result"
    }
   ],
   "source": [
    "north_leak/total_part*100"
   ]
  },
  {
   "cell_type": "code",
   "execution_count": 26,
   "id": "db11668f",
   "metadata": {},
   "outputs": [
    {
     "data": {
      "text/plain": [
       "3.4130000000000003"
      ]
     },
     "execution_count": 26,
     "metadata": {},
     "output_type": "execute_result"
    }
   ],
   "source": [
    "east_leak/total_part*100"
   ]
  },
  {
   "cell_type": "code",
   "execution_count": 31,
   "id": "5c4aef85",
   "metadata": {},
   "outputs": [
    {
     "data": {
      "text/plain": [
       "16.2"
      ]
     },
     "execution_count": 31,
     "metadata": {},
     "output_type": "execute_result"
    }
   ],
   "source": [
    "3.4+12.8\n"
   ]
  },
  {
   "cell_type": "markdown",
   "id": "f463be1a",
   "metadata": {},
   "source": [
    "# verifying with the histograms"
   ]
  },
  {
   "cell_type": "code",
   "execution_count": 10,
   "id": "371d0af0",
   "metadata": {},
   "outputs": [],
   "source": [
    "num_particles = np.load('../data/analysis/sa-s06/number-particles_sa-s06.nc.npy')"
   ]
  },
  {
   "cell_type": "code",
   "execution_count": 13,
   "id": "f89222be",
   "metadata": {},
   "outputs": [],
   "source": [
    "deleted = num_particles[1234].sum()"
   ]
  },
  {
   "cell_type": "code",
   "execution_count": 14,
   "id": "d22d071b",
   "metadata": {},
   "outputs": [
    {
     "data": {
      "text/plain": [
       "869415.0"
      ]
     },
     "execution_count": 14,
     "metadata": {},
     "output_type": "execute_result"
    }
   ],
   "source": [
    "deleted"
   ]
  },
  {
   "cell_type": "code",
   "execution_count": null,
   "id": "f49a0770",
   "metadata": {},
   "outputs": [],
   "source": [
    "\n",
    "\n",
    "\n",
    "\n",
    "\n",
    "\n",
    "\n",
    "\n",
    "\n",
    "\n",
    "\n",
    "\n"
   ]
  },
  {
   "cell_type": "markdown",
   "id": "61778f34",
   "metadata": {},
   "source": [
    "Is the same!"
   ]
  }
 ],
 "metadata": {
  "kernelspec": {
   "display_name": "Python 3",
   "language": "python",
   "name": "python3"
  },
  "language_info": {
   "codemirror_mode": {
    "name": "ipython",
    "version": 3
   },
   "file_extension": ".py",
   "mimetype": "text/x-python",
   "name": "python",
   "nbconvert_exporter": "python",
   "pygments_lexer": "ipython3",
   "version": "3.6.13"
  }
 },
 "nbformat": 4,
 "nbformat_minor": 5
}
