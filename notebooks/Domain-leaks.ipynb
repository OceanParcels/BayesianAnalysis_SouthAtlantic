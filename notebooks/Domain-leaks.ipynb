{
 "cells": [
  {
   "cell_type": "code",
   "execution_count": 1,
   "id": "ff7b0d5c",
   "metadata": {},
   "outputs": [],
   "source": [
    "import numpy as np\n",
    "import matplotlib.pyplot as plt\n",
    "import xarray as xr\n",
    "import pandas as pd"
   ]
  },
  {
   "cell_type": "code",
   "execution_count": 233,
   "id": "9917cc8d",
   "metadata": {},
   "outputs": [],
   "source": [
    "series = 6"
   ]
  },
  {
   "cell_type": "code",
   "execution_count": 231,
   "id": "368042d9",
   "metadata": {},
   "outputs": [],
   "source": [
    "priors = pd.read_csv('../data/analysis/priors_river_inputs.csv', index_col=0)\n",
    "sources = list(priors.index)"
   ]
  },
  {
   "cell_type": "code",
   "execution_count": 349,
   "id": "f8d21129",
   "metadata": {},
   "outputs": [
    {
     "data": {
      "text/plain": [
       "['Congo',\n",
       " 'Cape-Town',\n",
       " 'Rio-de-la-Plata',\n",
       " 'Porto-Alegre',\n",
       " 'Santos',\n",
       " 'Paraiba',\n",
       " 'Itajai',\n",
       " 'Rio-de-Janeiro',\n",
       " 'Salvador',\n",
       " 'Recife']"
      ]
     },
     "execution_count": 349,
     "metadata": {},
     "output_type": "execute_result"
    }
   ],
   "source": [
    "sources"
   ]
  },
  {
   "cell_type": "code",
   "execution_count": 408,
   "id": "022a8e27",
   "metadata": {},
   "outputs": [
    {
     "name": "stdout",
     "output_type": "stream",
     "text": [
      "- Congo\n",
      "- Cape-Town\n",
      "- Rio-de-la-Plata\n",
      "- Porto-Alegre\n",
      "- Santos\n",
      "- Paraiba\n",
      "- Itajai\n",
      "- Rio-de-Janeiro\n",
      "- Salvador\n",
      "- Recife\n"
     ]
    }
   ],
   "source": [
    "north_leak = 0\n",
    "east_leak = 0\n",
    "west_leak = 0\n",
    "south_leak = 0\n",
    "\n",
    "for loc in sources:\n",
    "    print(f'- {loc}')\n",
    "    path_2_file = f\"../data/simulations/sa-s{series:02d}\" + \\\n",
    "        f\"/sa-s{series:02d}-{loc}.nc\"\n",
    "    particles = xr.load_dataset(path_2_file)\n",
    "\n",
    "    latitudes = particles['lat'].values\n",
    "    longitudes = particles['lon'].values\n",
    "\n",
    "\n",
    "    for t in range(1234):\n",
    "        indx = np.where(latitudes[:, t] > -0.5)[0]\n",
    "        for j in indx:\n",
    "            if np.isnan(latitudes[j, t+1]):\n",
    "                north_leak += 1\n",
    "                \n",
    "        indx = np.where(longitudes[:, t]>24.5)[0]\n",
    "        for j in indx:\n",
    "            if np.isnan(latitudes[j, t+1]):\n",
    "                east_leak += 1"
   ]
  },
  {
   "cell_type": "code",
   "execution_count": 413,
   "id": "5116225f",
   "metadata": {},
   "outputs": [
    {
     "data": {
      "text/plain": [
       "0.097926"
      ]
     },
     "execution_count": 413,
     "metadata": {},
     "output_type": "execute_result"
    }
   ],
   "source": [
    "north_leak"
   ]
  },
  {
   "cell_type": "code",
   "execution_count": 415,
   "id": "b87f3f55",
   "metadata": {},
   "outputs": [
    {
     "data": {
      "text/plain": [
       "32659"
      ]
     },
     "execution_count": 415,
     "metadata": {},
     "output_type": "execute_result"
    }
   ],
   "source": [
    "east_leak"
   ]
  },
  {
   "cell_type": "code",
   "execution_count": 412,
   "id": "8b095b43",
   "metadata": {},
   "outputs": [
    {
     "data": {
      "text/plain": [
       "130585"
      ]
     },
     "execution_count": 412,
     "metadata": {},
     "output_type": "execute_result"
    }
   ],
   "source": [
    "north_leak + east_leak"
   ]
  },
  {
   "cell_type": "markdown",
   "id": "f463be1a",
   "metadata": {},
   "source": [
    "# verifying with the histograms"
   ]
  },
  {
   "cell_type": "code",
   "execution_count": 397,
   "id": "371d0af0",
   "metadata": {},
   "outputs": [],
   "source": [
    "num_particles = np.load('../data/analysis/sa-s06/number-particles_sa-s06.nc.npy')"
   ]
  },
  {
   "cell_type": "code",
   "execution_count": 416,
   "id": "f89222be",
   "metadata": {},
   "outputs": [],
   "source": [
    "deleted = 1e6 - num_particles[1234].sum()"
   ]
  },
  {
   "cell_type": "code",
   "execution_count": 417,
   "id": "d22d071b",
   "metadata": {},
   "outputs": [
    {
     "data": {
      "text/plain": [
       "130585.0"
      ]
     },
     "execution_count": 417,
     "metadata": {},
     "output_type": "execute_result"
    }
   ],
   "source": [
    "deleted"
   ]
  },
  {
   "cell_type": "markdown",
   "id": "61778f34",
   "metadata": {},
   "source": [
    "Is the same!"
   ]
  }
 ],
 "metadata": {
  "kernelspec": {
   "display_name": "Python 3",
   "language": "python",
   "name": "python3"
  },
  "language_info": {
   "codemirror_mode": {
    "name": "ipython",
    "version": 3
   },
   "file_extension": ".py",
   "mimetype": "text/x-python",
   "name": "python",
   "nbconvert_exporter": "python",
   "pygments_lexer": "ipython3",
   "version": "3.6.13"
  }
 },
 "nbformat": 4,
 "nbformat_minor": 5
}
