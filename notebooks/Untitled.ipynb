{
 "cells": [
  {
   "cell_type": "code",
   "execution_count": 1,
   "metadata": {},
   "outputs": [
    {
     "ename": "ModuleNotFoundError",
     "evalue": "No module named 'my_module'",
     "output_type": "error",
     "traceback": [
      "\u001b[0;31m---------------------------------------------------------------------------\u001b[0m",
      "\u001b[0;31mModuleNotFoundError\u001b[0m                       Traceback (most recent call last)",
      "\u001b[0;32m<ipython-input-1-63154d2009c9>\u001b[0m in \u001b[0;36m<module>\u001b[0;34m()\u001b[0m\n\u001b[0;32m----> 1\u001b[0;31m \u001b[0;32mimport\u001b[0m \u001b[0mmy_module\u001b[0m \u001b[0;32mas\u001b[0m \u001b[0mutils\u001b[0m\u001b[0;34m\u001b[0m\u001b[0;34m\u001b[0m\u001b[0m\n\u001b[0m\u001b[1;32m      2\u001b[0m \u001b[0;32mimport\u001b[0m \u001b[0mnumpy\u001b[0m \u001b[0;32mas\u001b[0m \u001b[0mnp\u001b[0m\u001b[0;34m\u001b[0m\u001b[0;34m\u001b[0m\u001b[0m\n\u001b[1;32m      3\u001b[0m \u001b[0;32mimport\u001b[0m \u001b[0mpickle\u001b[0m\u001b[0;34m\u001b[0m\u001b[0;34m\u001b[0m\u001b[0m\n\u001b[1;32m      4\u001b[0m \u001b[0;32mimport\u001b[0m \u001b[0mxarray\u001b[0m \u001b[0;32mas\u001b[0m \u001b[0mxr\u001b[0m\u001b[0;34m\u001b[0m\u001b[0;34m\u001b[0m\u001b[0m\n\u001b[1;32m      5\u001b[0m \u001b[0;32mimport\u001b[0m \u001b[0mitertools\u001b[0m\u001b[0;34m\u001b[0m\u001b[0;34m\u001b[0m\u001b[0m\n",
      "\u001b[0;31mModuleNotFoundError\u001b[0m: No module named 'my_module'"
     ]
    }
   ],
   "source": [
    "import my_module as utils\n",
    "import numpy as np\n",
    "import pickle\n",
    "import xarray as xr\n",
    "import itertools\n",
    "\n",
    "\"\"\"\n",
    "Computes the probability field from a Ocean Parcels simulation.\n",
    "\n",
    "Merges 2d histograms of different OP output files.\n",
    "1 output file per source.\n",
    "\"\"\"\n",
    "# ###### Paramaters #############\n",
    "# Loading data\n",
    "# Plastic sources\n",
    "infile = open('../river_sources.pkl', 'rb')\n",
    "river_sources = pickle.load(infile)\n",
    "# Labels of the sources.\n",
    "labels = ['Rio-de-Janeiro', 'Rio-de-la-Plata']  # list(river_sources.keys())\n",
    "domain_coords = utils.domain_coords\n",
    "\n",
    "for loc in labels:\n",
    "    path_2_file = f\"../data/source_{loc}_release.nc\"\n",
    "    particles = xr.load_dataset(path_2_file)\n",
    "\n",
    "    n = particles.dims['traj']\n",
    "    time = particles.dims['obs']\n",
    "\n",
    "    n = particles.dims['traj']\n",
    "    time = particles.dims['obs']\n",
    "    coarse_hist = {}\n",
    "    dimensions = {}\n",
    "    bin_factor = 15\n",
    "    h = []\n",
    "\n",
    "    for t in range(time):\n",
    "        lons = particles['lon'][:, t].values\n",
    "        index = np.where(np.isnan(lons) is False)\n",
    "        lons = lons[index]\n",
    "        lats = particles['lat'][:, t].values\n",
    "        index = np.where(np.isnan(lats) is False)\n",
    "        lats = lats[index]\n",
    "        number_particles = sum(np.isnan(lats) == False)\n",
    "\n",
    "        # appending corner points of the domain to keep the 2d histograms\n",
    "        # the same dimension\n",
    "        print(domain_coords['lat_lims'], domain_coords['lon_lims'])\n",
    "\n",
    "        for coord_tuple in itertools.product(domain_coords['lat_lims'],\n",
    "                                             domain_coords['lon_lims']):\n",
    "\n",
    "            lats = np.hstack((lats, coord_tuple[0]))\n",
    "            lons = np.hstack((lons, coord_tuple[1]))\n",
    "\n",
    "        H, Lo, La = np.histogram2d(lons, lats, bins=(1176, 899))\n",
    "        # h_mask = np.ma.masked_array(H, mask=mask.transpose())\n",
    "\n",
    "        # np.vstack((h,H))\n",
    "        # computing probability\n",
    "        h_coarse = utils.coarsen(H, domain_coords['lon'], domain_coords['lat'],\n",
    "                                 bin_factor)\n",
    "        h.append(h_coarse[0])  # just storing the values\n",
    "\n",
    "    coarse_hist[loc] = np.array(h)\n",
    "    # dimensions['mask'] = h_coarse[0].mask\n",
    "# dimensions['lat'] = h_coarse[2]\n",
    "# dimensions['lon'] = h_coarse[1]\n",
    "# coarse_hist['dimensions'] = dimensions\n",
    "\n",
    "\n",
    "np.save('temp.npy', coarse_hist)\n",
    "\n",
    "# with open('../data/probabilities_rmv_grounded.pkl', 'wb') as f:\n",
    "#     pickle.dump(coarse_hist, f)\n"
   ]
  },
  {
   "cell_type": "code",
   "execution_count": null,
   "metadata": {},
   "outputs": [],
   "source": []
  }
 ],
 "metadata": {
  "kernelspec": {
   "display_name": "Python 3",
   "language": "python",
   "name": "python3"
  },
  "language_info": {
   "codemirror_mode": {
    "name": "ipython",
    "version": 3
   },
   "file_extension": ".py",
   "mimetype": "text/x-python",
   "name": "python",
   "nbconvert_exporter": "python",
   "pygments_lexer": "ipython3",
   "version": "3.6.11"
  }
 },
 "nbformat": 4,
 "nbformat_minor": 4
}
